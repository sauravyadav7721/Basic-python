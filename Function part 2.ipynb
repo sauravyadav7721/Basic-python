{
 "cells": [
  {
   "cell_type": "markdown",
   "id": "c0a946c1",
   "metadata": {},
   "source": [
    "Local Variables\n",
    ":-it is variable which we are defining in the function and the scope will be in the fuction only."
   ]
  },
  {
   "cell_type": "code",
   "execution_count": 3,
   "id": "41f94a54",
   "metadata": {},
   "outputs": [],
   "source": [
    "def f():\n",
    "    s=\"i love python\"\n",
    "    return s"
   ]
  },
  {
   "cell_type": "code",
   "execution_count": 4,
   "id": "717922e8",
   "metadata": {},
   "outputs": [
    {
     "data": {
      "text/plain": [
       "'i love python'"
      ]
     },
     "execution_count": 4,
     "metadata": {},
     "output_type": "execute_result"
    }
   ],
   "source": [
    "f()"
   ]
  },
  {
   "cell_type": "code",
   "execution_count": 6,
   "id": "0752f096",
   "metadata": {},
   "outputs": [
    {
     "ename": "NameError",
     "evalue": "name 's' is not defined",
     "output_type": "error",
     "traceback": [
      "\u001b[1;31m---------------------------------------------------------------------------\u001b[0m",
      "\u001b[1;31mNameError\u001b[0m                                 Traceback (most recent call last)",
      "Cell \u001b[1;32mIn[6], line 1\u001b[0m\n\u001b[1;32m----> 1\u001b[0m \u001b[38;5;28mprint\u001b[39m(s)\n",
      "\u001b[1;31mNameError\u001b[0m: name 's' is not defined"
     ]
    }
   ],
   "source": [
    "print(s) # it is showing error because we can aecess the \"s\" within the function only"
   ]
  },
  {
   "cell_type": "markdown",
   "id": "4c0865c9",
   "metadata": {},
   "source": [
    "Global Variable :- global varibale is a variable which we are defining outside od function and the scope will be global"
   ]
  },
  {
   "cell_type": "code",
   "execution_count": 7,
   "id": "1519da8d",
   "metadata": {},
   "outputs": [],
   "source": [
    "def f():\n",
    "    global s\n",
    "    s=\"i love python\"\n",
    "    return s"
   ]
  },
  {
   "cell_type": "code",
   "execution_count": 8,
   "id": "25c38aee",
   "metadata": {},
   "outputs": [
    {
     "data": {
      "text/plain": [
       "'i love python'"
      ]
     },
     "execution_count": 8,
     "metadata": {},
     "output_type": "execute_result"
    }
   ],
   "source": [
    "f()"
   ]
  },
  {
   "cell_type": "code",
   "execution_count": 9,
   "id": "5abb45ec",
   "metadata": {},
   "outputs": [
    {
     "name": "stdout",
     "output_type": "stream",
     "text": [
      "i love python\n"
     ]
    }
   ],
   "source": [
    "print(s)"
   ]
  },
  {
   "cell_type": "code",
   "execution_count": 11,
   "id": "ab040292",
   "metadata": {},
   "outputs": [
    {
     "name": "stdout",
     "output_type": "stream",
     "text": [
      "Me too.\n",
      "I love Geeksforgeeks\n"
     ]
    }
   ],
   "source": [
    "def f():\n",
    "    s = \"Me too.\"\n",
    "    print(s)\n",
    "    # here it output is me too is first because first we call f() and then give command of print(s) and s = \"Me too.\" is not a global variable\n",
    " \n",
    "s = \"I love Geeksforgeeks\"\n",
    "f()\n",
    "print(s)"
   ]
  },
  {
   "cell_type": "code",
   "execution_count": 13,
   "id": "600516af",
   "metadata": {},
   "outputs": [
    {
     "name": "stdout",
     "output_type": "stream",
     "text": [
      "12\n"
     ]
    }
   ],
   "source": [
    "def f1():\n",
    "    global x\n",
    "    x+=1\n",
    "    print(x)\n",
    "x=12\n",
    "print(x)"
   ]
  },
  {
   "cell_type": "code",
   "execution_count": 19,
   "id": "327779d1",
   "metadata": {},
   "outputs": [
    {
     "name": "stdout",
     "output_type": "stream",
     "text": [
      "world\n",
      "hello\n",
      "hello\n"
     ]
    }
   ],
   "source": [
    "def f():\n",
    "    global a\n",
    "    print(a)\n",
    "    a = \"hello\"\n",
    "    print(a) \n",
    "a = \"world\" \n",
    "f()\n",
    "print(a)"
   ]
  },
  {
   "cell_type": "code",
   "execution_count": 20,
   "id": "3203fe3f",
   "metadata": {},
   "outputs": [],
   "source": [
    "#A lambda function is a small anonymous function.\n",
    "#lambda arguments : expression"
   ]
  },
  {
   "cell_type": "code",
   "execution_count": 29,
   "id": "17c8adc7",
   "metadata": {},
   "outputs": [
    {
     "data": {
      "text/plain": [
       "<function __main__.<lambda>(a, b)>"
      ]
     },
     "execution_count": 29,
     "metadata": {},
     "output_type": "execute_result"
    }
   ],
   "source": [
    "lambda a, b : a+b"
   ]
  },
  {
   "cell_type": "code",
   "execution_count": 30,
   "id": "76b28860",
   "metadata": {},
   "outputs": [
    {
     "name": "stdout",
     "output_type": "stream",
     "text": [
      "<function <lambda> at 0x0000020D810BB2E0> (2, 3)\n"
     ]
    }
   ],
   "source": [
    "print((lambda a, b : a+b ),(2,3))"
   ]
  },
  {
   "cell_type": "code",
   "execution_count": 31,
   "id": "7a5a4ee4",
   "metadata": {},
   "outputs": [],
   "source": [
    "mylambda = lambda a, b:a+b"
   ]
  },
  {
   "cell_type": "code",
   "execution_count": 32,
   "id": "eced6f16",
   "metadata": {},
   "outputs": [
    {
     "data": {
      "text/plain": [
       "5"
      ]
     },
     "execution_count": 32,
     "metadata": {},
     "output_type": "execute_result"
    }
   ],
   "source": [
    "mylambda(2,3)"
   ]
  },
  {
   "cell_type": "code",
   "execution_count": 33,
   "id": "b6e35a6e",
   "metadata": {},
   "outputs": [],
   "source": [
    "x = lambda a : a+10 "
   ]
  },
  {
   "cell_type": "code",
   "execution_count": 34,
   "id": "6bbc4549",
   "metadata": {},
   "outputs": [
    {
     "data": {
      "text/plain": [
       "15"
      ]
     },
     "execution_count": 34,
     "metadata": {},
     "output_type": "execute_result"
    }
   ],
   "source": [
    "x(5)"
   ]
  },
  {
   "cell_type": "code",
   "execution_count": 35,
   "id": "e936fa4b",
   "metadata": {},
   "outputs": [],
   "source": [
    "x = lambda a,b: a*b "
   ]
  },
  {
   "cell_type": "code",
   "execution_count": 36,
   "id": "bbadfbe0",
   "metadata": {},
   "outputs": [
    {
     "data": {
      "text/plain": [
       "6"
      ]
     },
     "execution_count": 36,
     "metadata": {},
     "output_type": "execute_result"
    }
   ],
   "source": [
    "x(2,3)"
   ]
  },
  {
   "cell_type": "code",
   "execution_count": 37,
   "id": "ce4692d6",
   "metadata": {},
   "outputs": [],
   "source": [
    "x = lambda a,b,c : a+b+c"
   ]
  },
  {
   "cell_type": "code",
   "execution_count": 38,
   "id": "cde1c241",
   "metadata": {},
   "outputs": [
    {
     "data": {
      "text/plain": [
       "12"
      ]
     },
     "execution_count": 38,
     "metadata": {},
     "output_type": "execute_result"
    }
   ],
   "source": [
    "x(5,4,3)"
   ]
  },
  {
   "cell_type": "code",
   "execution_count": 40,
   "id": "4dc30763",
   "metadata": {},
   "outputs": [
    {
     "name": "stdout",
     "output_type": "stream",
     "text": [
      "24\n"
     ]
    }
   ],
   "source": [
    "def myfunc(n):\n",
    "  return lambda a : a * n\n",
    "\n",
    "mydoubler = myfunc(2)\n",
    "\n",
    "print(mydoubler(12))"
   ]
  },
  {
   "cell_type": "markdown",
   "id": "3957e0ce",
   "metadata": {},
   "source": [
    "Write a Python program to create a lambda function that adds 15 to a given number passed in as an argument."
   ]
  },
  {
   "cell_type": "code",
   "execution_count": 41,
   "id": "0d10957a",
   "metadata": {},
   "outputs": [],
   "source": [
    "x= lambda a:a+15"
   ]
  },
  {
   "cell_type": "code",
   "execution_count": 42,
   "id": "92e8ee14",
   "metadata": {},
   "outputs": [
    {
     "data": {
      "text/plain": [
       "20"
      ]
     },
     "execution_count": 42,
     "metadata": {},
     "output_type": "execute_result"
    }
   ],
   "source": [
    "x(5)"
   ]
  },
  {
   "cell_type": "markdown",
   "id": "1331caad",
   "metadata": {},
   "source": [
    "Create a lambda function that multiplies argument x with argument y and prints the result."
   ]
  },
  {
   "cell_type": "code",
   "execution_count": 43,
   "id": "42d2f30e",
   "metadata": {},
   "outputs": [],
   "source": [
    "x = lambda x,y:x*y"
   ]
  },
  {
   "cell_type": "code",
   "execution_count": 44,
   "id": "1570f14d",
   "metadata": {},
   "outputs": [
    {
     "data": {
      "text/plain": [
       "6"
      ]
     },
     "execution_count": 44,
     "metadata": {},
     "output_type": "execute_result"
    }
   ],
   "source": [
    "x(2,3)"
   ]
  },
  {
   "cell_type": "markdown",
   "id": "bad7cc11",
   "metadata": {},
   "source": [
    "Write a Python program to create a function that takes one argument, and that argument will be multiplied with an unknown given number."
   ]
  },
  {
   "cell_type": "code",
   "execution_count": 46,
   "id": "622aaaa1",
   "metadata": {},
   "outputs": [],
   "source": [
    "subject_marks = [('English', 88), ('Science', 90), ('Maths', 97), ('Social sciences', 82)]\n",
    "subject_marks.sort(key=lambda x: x[1])\n"
   ]
  },
  {
   "cell_type": "code",
   "execution_count": 47,
   "id": "f3bd33c7",
   "metadata": {},
   "outputs": [
    {
     "data": {
      "text/plain": [
       "[('Social sciences', 82), ('English', 88), ('Science', 90), ('Maths', 97)]"
      ]
     },
     "execution_count": 47,
     "metadata": {},
     "output_type": "execute_result"
    }
   ],
   "source": [
    "subject_marks"
   ]
  },
  {
   "cell_type": "markdown",
   "id": "dd077c0d",
   "metadata": {},
   "source": [
    "## Map Function in Python\n",
    "The map () function returns a map object(which is an iterator) of the results after applying the given function to each item of a given iterable (list, tuple, etc.).\n",
    "\n",
    "Syntax: map(fun, iter)"
   ]
  },
  {
   "cell_type": "code",
   "execution_count": 52,
   "id": "7e543cdd",
   "metadata": {},
   "outputs": [],
   "source": [
    "def double(n):\n",
    "    return n * 2"
   ]
  },
  {
   "cell_type": "code",
   "execution_count": 53,
   "id": "59f858bd",
   "metadata": {},
   "outputs": [],
   "source": [
    "numbers = [5, 6, 7, 8]\n",
    "result = map(double, numbers)"
   ]
  },
  {
   "cell_type": "code",
   "execution_count": 51,
   "id": "794435b6",
   "metadata": {},
   "outputs": [
    {
     "name": "stdout",
     "output_type": "stream",
     "text": [
      "[10, 12, 14, 16]\n"
     ]
    }
   ],
   "source": [
    "print(list(result))"
   ]
  },
  {
   "cell_type": "markdown",
   "id": "67cf633e",
   "metadata": {},
   "source": [
    "## Reduce Function in Python\n",
    "The reduce function is used to apply a particular function passed in its argument to all of the list elements mentioned in the sequence passed along.This function is defined in “functools” module.\n",
    "\n",
    "Syntax: reduce(func, iterable[, initial])"
   ]
  },
  {
   "cell_type": "code",
   "execution_count": 55,
   "id": "7741ed54",
   "metadata": {},
   "outputs": [
    {
     "name": "stdout",
     "output_type": "stream",
     "text": [
      "10\n"
     ]
    }
   ],
   "source": [
    "import functools\n",
    "numbers = [1, 2, 3, 4]\n",
    "add = functools.reduce(lambda x, y: x + y, numbers)\n",
    "print(add)\n"
   ]
  },
  {
   "cell_type": "code",
   "execution_count": 54,
   "id": "8936c166",
   "metadata": {},
   "outputs": [
    {
     "name": "stdout",
     "output_type": "stream",
     "text": [
      "24\n"
     ]
    }
   ],
   "source": [
    "import functools\n",
    "numbers = [1, 2, 3, 4]\n",
    "product = functools.reduce(lambda x, y: x * y, numbers)\n",
    "print(product)\n"
   ]
  },
  {
   "cell_type": "markdown",
   "id": "83529be5",
   "metadata": {},
   "source": [
    "# #Filter Function in Python\n",
    "The filter() method filters the given sequence with the help of a function that tests each element in the sequence to be true or not. \n",
    "\n",
    "Syntax: filter(function, sequence)"
   ]
  },
  {
   "cell_type": "code",
   "execution_count": 56,
   "id": "4df6e1ee",
   "metadata": {},
   "outputs": [],
   "source": [
    "def even(n):\n",
    "    return n%2 == 0 "
   ]
  },
  {
   "cell_type": "code",
   "execution_count": 65,
   "id": "a36d1691",
   "metadata": {},
   "outputs": [],
   "source": [
    "my_list=[1, 2, 3, 4, 5, 6, 7, 8, 9]\n",
    "even_numbers = filter(even, my_list)"
   ]
  },
  {
   "cell_type": "code",
   "execution_count": 66,
   "id": "f8bbb805",
   "metadata": {},
   "outputs": [
    {
     "name": "stdout",
     "output_type": "stream",
     "text": [
      "[2, 4, 6, 8]\n"
     ]
    }
   ],
   "source": [
    "print(list(even_numbers))"
   ]
  },
  {
   "cell_type": "markdown",
   "id": "929ccf0a",
   "metadata": {},
   "source": [
    "Write a Python program to triple all numbers in a given list of integers. Use Python map."
   ]
  },
  {
   "cell_type": "code",
   "execution_count": 72,
   "id": "07a25ad4",
   "metadata": {},
   "outputs": [
    {
     "name": "stdout",
     "output_type": "stream",
     "text": [
      "[3, 6, 9, 12, 15, 18, 21, 24, 27]\n"
     ]
    }
   ],
   "source": [
    "def triple(n):\n",
    "    return n*3\n",
    "my_list=[1, 2, 3, 4, 5, 6, 7, 8, 9]\n",
    "triple_numbers = map(triple,my_list)\n",
    "print(list(triple_numbers))"
   ]
  },
  {
   "cell_type": "markdown",
   "id": "9ebde6e6",
   "metadata": {},
   "source": [
    "Write a Python program to add three given lists using Python map and lambda"
   ]
  },
  {
   "cell_type": "code",
   "execution_count": 81,
   "id": "184e0ce4",
   "metadata": {},
   "outputs": [],
   "source": [
    "nums1 = [1, 2, 3]\n",
    "nums2 = [4, 5, 6]\n",
    "nums3 = [7, 8, 9]"
   ]
  },
  {
   "cell_type": "code",
   "execution_count": 84,
   "id": "2abb7396",
   "metadata": {},
   "outputs": [
    {
     "name": "stdout",
     "output_type": "stream",
     "text": [
      "[12, 15, 18]\n"
     ]
    }
   ],
   "source": [
    " result = map(lambda x,y,z:x+y+z,nums1,nums2,nums3)\n",
    "print(list(result))"
   ]
  },
  {
   "cell_type": "markdown",
   "id": "2acbee2c",
   "metadata": {},
   "source": [
    "Write a Python program to square the elements of a list using the map() function."
   ]
  },
  {
   "cell_type": "code",
   "execution_count": 88,
   "id": "16c0598c",
   "metadata": {},
   "outputs": [
    {
     "name": "stdout",
     "output_type": "stream",
     "text": [
      "[1, 4, 9]\n"
     ]
    }
   ],
   "source": [
    "nums1 = [1, 2, 3]\n",
    "result = map(lambda x : x**2, nums1)\n",
    "print(list(result))"
   ]
  },
  {
   "cell_type": "markdown",
   "id": "e0b6134e",
   "metadata": {},
   "source": [
    ". Write a Python program that creates a list of names and uses the filter function to extract names that start with a vowel (A, E, I, O, U)."
   ]
  },
  {
   "cell_type": "code",
   "execution_count": 93,
   "id": "a30a2786",
   "metadata": {},
   "outputs": [
    {
     "name": "stdout",
     "output_type": "stream",
     "text": [
      "['Anmol', 'Anant', 'Ankit']\n"
     ]
    }
   ],
   "source": [
    "names = [\"Anmol\", \"Saurav\", \"Anant\", \"lokesh\", \"Ankit\", \"dipesh\", \"jatin\"]\n",
    "def starts_with_vowel(name):\n",
    "    return name[0].lower() in ['a', 'e', 'i', 'o', 'u']\n",
    "vowel_names = (filter(starts_with_vowel, names))\n",
    "print(list(vowel_names))"
   ]
  },
  {
   "cell_type": "code",
   "execution_count": null,
   "id": "8975868d",
   "metadata": {},
   "outputs": [],
   "source": []
  }
 ],
 "metadata": {
  "kernelspec": {
   "display_name": "Python 3 (ipykernel)",
   "language": "python",
   "name": "python3"
  },
  "language_info": {
   "codemirror_mode": {
    "name": "ipython",
    "version": 3
   },
   "file_extension": ".py",
   "mimetype": "text/x-python",
   "name": "python",
   "nbconvert_exporter": "python",
   "pygments_lexer": "ipython3",
   "version": "3.11.5"
  }
 },
 "nbformat": 4,
 "nbformat_minor": 5
}
