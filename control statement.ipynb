{
 "cells": [
  {
   "cell_type": "code",
   "execution_count": 1,
   "id": "baef5e52",
   "metadata": {},
   "outputs": [
    {
     "name": "stdout",
     "output_type": "stream",
     "text": [
      "Enter a no.5\n",
      "the no. is odd\n"
     ]
    }
   ],
   "source": [
    "a=int(input(\"Enter a no.\"))\n",
    "n=a%2\n",
    "if n==0:\n",
    "    print(\"the no. is even\")\n",
    "else:\n",
    "    print(\"the no. is odd\")"
   ]
  },
  {
   "cell_type": "code",
   "execution_count": 2,
   "id": "13ff875b",
   "metadata": {},
   "outputs": [
    {
     "name": "stdout",
     "output_type": "stream",
     "text": [
      "Enter a charsaurav\n",
      "the char is small\n"
     ]
    }
   ],
   "source": [
    "a=str(input(\"Enter a char\"))\n",
    "if \"A\"<=a[0]<=\"Z\":\n",
    "    print(\"the char is capital\")\n",
    "else:\n",
    "    print(\"the char is small\")"
   ]
  },
  {
   "cell_type": "code",
   "execution_count": 3,
   "id": "d0399d99",
   "metadata": {},
   "outputs": [
    {
     "name": "stdout",
     "output_type": "stream",
     "text": [
      "Enter namesaurav\n",
      "s\n",
      "r\n",
      "v\n"
     ]
    }
   ],
   "source": [
    "a=str(input(\"Enter name\"))\n",
    "i=0\n",
    "while i<len(a):\n",
    "    if a[i] in [\"a\",\"i\",\"e\",\"o\",\"u\"]:\n",
    "        pass\n",
    "    else:\n",
    "        print(a[i])\n",
    "    i=i+1\n",
    "\n",
    "    "
   ]
  },
  {
   "cell_type": "code",
   "execution_count": 4,
   "id": "2f2d6e27",
   "metadata": {},
   "outputs": [
    {
     "name": "stdout",
     "output_type": "stream",
     "text": [
      "enter first no.5\n",
      "enter second no.6\n",
      "enter third no.9\n",
      "Third no. is greatest\n"
     ]
    }
   ],
   "source": [
    "a=int(input(\"enter first no.\"))\n",
    "b=int(input(\"enter second no.\"))\n",
    "c=int(input(\"enter third no.\"))\n",
    "if a>b and a>c:\n",
    "    print(\"First no. is greatest\")\n",
    "elif b>a and b>c:\n",
    "    print(\"Second no. is greatest\")\n",
    "else:\n",
    "    print(\"Third no. is greatest\")"
   ]
  },
  {
   "cell_type": "code",
   "execution_count": 5,
   "id": "cbe0d554",
   "metadata": {},
   "outputs": [
    {
     "name": "stdout",
     "output_type": "stream",
     "text": [
      "Enter a year2012\n",
      "This yera is leap year\n"
     ]
    }
   ],
   "source": [
    "year=int(input(\"Enter a year\"))\n",
    "x=year%4\n",
    "y=year%100\n",
    "if x==0 and y!=0:\n",
    "    print(\"This yera is leap year\")\n",
    "else:\n",
    "    print(\"This year is not leap year\")"
   ]
  },
  {
   "cell_type": "code",
   "execution_count": null,
   "id": "ea7c6b7e",
   "metadata": {},
   "outputs": [],
   "source": []
  }
 ],
 "metadata": {
  "kernelspec": {
   "display_name": "Python 3 (ipykernel)",
   "language": "python",
   "name": "python3"
  },
  "language_info": {
   "codemirror_mode": {
    "name": "ipython",
    "version": 3
   },
   "file_extension": ".py",
   "mimetype": "text/x-python",
   "name": "python",
   "nbconvert_exporter": "python",
   "pygments_lexer": "ipython3",
   "version": "3.11.5"
  }
 },
 "nbformat": 4,
 "nbformat_minor": 5
}
