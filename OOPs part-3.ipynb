{
 "cells": [
  {
   "cell_type": "markdown",
   "id": "d686dda8",
   "metadata": {},
   "source": [
    "### Inheritance in Python\n",
    "\n",
    "In inheritance the child class gains access to all the data members, functions, and properties defined in the parent class. A child class may also offer its particular implementation of the parent class's functions"
   ]
  },
  {
   "cell_type": "code",
   "execution_count": 1,
   "id": "d4b80009",
   "metadata": {},
   "outputs": [],
   "source": [
    "class test:\n",
    "    def test_method(self):\n",
    "        return \"this is class first\""
   ]
  },
  {
   "cell_type": "code",
   "execution_count": 2,
   "id": "944e919f",
   "metadata": {},
   "outputs": [],
   "source": [
    "class child_test(test):\n",
    "    pass"
   ]
  },
  {
   "cell_type": "code",
   "execution_count": 3,
   "id": "5920d271",
   "metadata": {},
   "outputs": [],
   "source": [
    "test1 = child_test()"
   ]
  },
  {
   "cell_type": "code",
   "execution_count": 9,
   "id": "319cd54e",
   "metadata": {},
   "outputs": [
    {
     "data": {
      "text/plain": [
       "'this is class first'"
      ]
     },
     "execution_count": 9,
     "metadata": {},
     "output_type": "execute_result"
    }
   ],
   "source": [
    "test1.test_method()"
   ]
  },
  {
   "cell_type": "code",
   "execution_count": 13,
   "id": "f53ca547",
   "metadata": {},
   "outputs": [],
   "source": [
    "class person:\n",
    "    def __init__(self,name,age):\n",
    "        self.name=name\n",
    "        self.age=age\n",
    "        print(f\"name is {self.name} and age is {self.age}\")"
   ]
  },
  {
   "cell_type": "code",
   "execution_count": 17,
   "id": "b8884c54",
   "metadata": {},
   "outputs": [],
   "source": [
    "class child_test_1(test):\n",
    "    pass"
   ]
  },
  {
   "cell_type": "code",
   "execution_count": 18,
   "id": "96eccdab",
   "metadata": {},
   "outputs": [],
   "source": [
    "obj1= child_test_1"
   ]
  },
  {
   "cell_type": "code",
   "execution_count": 20,
   "id": "f45d2eaa",
   "metadata": {},
   "outputs": [
    {
     "data": {
      "text/plain": [
       "<slot wrapper '__init__' of 'object' objects>"
      ]
     },
     "execution_count": 20,
     "metadata": {},
     "output_type": "execute_result"
    }
   ],
   "source": [
    "obj1.__init__"
   ]
  },
  {
   "cell_type": "markdown",
   "id": "850b5291",
   "metadata": {},
   "source": [
    "### Types of Inheritance in Python"
   ]
  },
  {
   "cell_type": "markdown",
   "id": "f26a42bc",
   "metadata": {},
   "source": [
    "#### Single Inheritance in Python\n",
    "\n",
    "Single Inheritance is the simplest form of inheritance where a single child class is derived from a single parent class. Due to its candid nature, it is also known as Simple Inheritance."
   ]
  },
  {
   "cell_type": "code",
   "execution_count": 1,
   "id": "893ca257",
   "metadata": {},
   "outputs": [],
   "source": [
    "class parent:\n",
    "    def fun_1(self):\n",
    "        return \"Hello parent\""
   ]
  },
  {
   "cell_type": "code",
   "execution_count": 2,
   "id": "e2160b0a",
   "metadata": {},
   "outputs": [],
   "source": [
    "class child(parent):\n",
    "    def fun_2(self):\n",
    "        return \"Hello child\""
   ]
  },
  {
   "cell_type": "code",
   "execution_count": 3,
   "id": "3e76b7f2",
   "metadata": {},
   "outputs": [],
   "source": [
    "obj1 = child()"
   ]
  },
  {
   "cell_type": "code",
   "execution_count": 5,
   "id": "182b8963",
   "metadata": {},
   "outputs": [
    {
     "data": {
      "text/plain": [
       "'Hello child'"
      ]
     },
     "execution_count": 5,
     "metadata": {},
     "output_type": "execute_result"
    }
   ],
   "source": [
    "obj1.fun_2()"
   ]
  },
  {
   "cell_type": "code",
   "execution_count": 7,
   "id": "a60de1af",
   "metadata": {},
   "outputs": [
    {
     "data": {
      "text/plain": [
       "'Hello parent'"
      ]
     },
     "execution_count": 7,
     "metadata": {},
     "output_type": "execute_result"
    }
   ],
   "source": [
    "obj1.fun_1()"
   ]
  },
  {
   "cell_type": "markdown",
   "id": "505bf328",
   "metadata": {},
   "source": [
    "#### Multiple Inheritance in Python\n",
    "In multiple inheritance, a single child class is inherited from two or more parent classes. It means the child class has access to all the parent classes' methods and attributes."
   ]
  },
  {
   "cell_type": "code",
   "execution_count": 1,
   "id": "d9ec9b38",
   "metadata": {},
   "outputs": [],
   "source": [
    "class father:\n",
    "    def fun_1(self):\n",
    "        return \"Hello father\""
   ]
  },
  {
   "cell_type": "code",
   "execution_count": 2,
   "id": "3a3879e4",
   "metadata": {},
   "outputs": [],
   "source": [
    "class mother:\n",
    "    def fun_2(self):\n",
    "        return \"Hello mother\""
   ]
  },
  {
   "cell_type": "code",
   "execution_count": 3,
   "id": "c4fe42c8",
   "metadata": {},
   "outputs": [],
   "source": [
    "class child(father,mother):\n",
    "    def fun_3(self):\n",
    "        return \"Hello child\""
   ]
  },
  {
   "cell_type": "code",
   "execution_count": 4,
   "id": "ea0257c9",
   "metadata": {},
   "outputs": [],
   "source": [
    "test1=child()"
   ]
  },
  {
   "cell_type": "code",
   "execution_count": 6,
   "id": "6ed79089",
   "metadata": {},
   "outputs": [
    {
     "data": {
      "text/plain": [
       "'Hello child'"
      ]
     },
     "execution_count": 6,
     "metadata": {},
     "output_type": "execute_result"
    }
   ],
   "source": [
    "test1.fun_3()"
   ]
  },
  {
   "cell_type": "code",
   "execution_count": 7,
   "id": "3e31b712",
   "metadata": {},
   "outputs": [
    {
     "data": {
      "text/plain": [
       "'Hello mother'"
      ]
     },
     "execution_count": 7,
     "metadata": {},
     "output_type": "execute_result"
    }
   ],
   "source": [
    "test1.fun_2()"
   ]
  },
  {
   "cell_type": "code",
   "execution_count": 8,
   "id": "8dfac99f",
   "metadata": {},
   "outputs": [
    {
     "data": {
      "text/plain": [
       "'Hello father'"
      ]
     },
     "execution_count": 8,
     "metadata": {},
     "output_type": "execute_result"
    }
   ],
   "source": [
    "test1.fun_1()"
   ]
  },
  {
   "cell_type": "markdown",
   "id": "3cc087e3",
   "metadata": {},
   "source": [
    "#### Multilevel Inheritance in Python\n",
    "In multilevel inheritance, we go beyond just a parent-child relation. We introduce grandchildren, great-grandchildren, grandparents, etc."
   ]
  },
  {
   "cell_type": "code",
   "execution_count": 9,
   "id": "20c85090",
   "metadata": {},
   "outputs": [],
   "source": [
    "class grandfather:\n",
    "    def fun_1(self):\n",
    "        return \"Hello grandfather\""
   ]
  },
  {
   "cell_type": "code",
   "execution_count": 10,
   "id": "d1a3d076",
   "metadata": {},
   "outputs": [],
   "source": [
    "class father(grandfather):\n",
    "    def fun_2(self):\n",
    "        return \"Hello father\""
   ]
  },
  {
   "cell_type": "code",
   "execution_count": 13,
   "id": "d318bfa6",
   "metadata": {},
   "outputs": [],
   "source": [
    "class child(father):\n",
    "    def fun_3(self):\n",
    "        return \"Hello child\""
   ]
  },
  {
   "cell_type": "code",
   "execution_count": 14,
   "id": "7fbc6952",
   "metadata": {},
   "outputs": [],
   "source": [
    "test_1=child()"
   ]
  },
  {
   "cell_type": "code",
   "execution_count": 16,
   "id": "9876689d",
   "metadata": {},
   "outputs": [
    {
     "data": {
      "text/plain": [
       "'Hello child'"
      ]
     },
     "execution_count": 16,
     "metadata": {},
     "output_type": "execute_result"
    }
   ],
   "source": [
    "test_1.fun_3()"
   ]
  },
  {
   "cell_type": "code",
   "execution_count": 17,
   "id": "9d680dae",
   "metadata": {},
   "outputs": [
    {
     "data": {
      "text/plain": [
       "'Hello father'"
      ]
     },
     "execution_count": 17,
     "metadata": {},
     "output_type": "execute_result"
    }
   ],
   "source": [
    "test_1.fun_2()"
   ]
  },
  {
   "cell_type": "code",
   "execution_count": 18,
   "id": "b0b2ad47",
   "metadata": {},
   "outputs": [
    {
     "data": {
      "text/plain": [
       "'Hello grandfather'"
      ]
     },
     "execution_count": 18,
     "metadata": {},
     "output_type": "execute_result"
    }
   ],
   "source": [
    "test_1.fun_1()"
   ]
  },
  {
   "cell_type": "markdown",
   "id": "d9c3f291",
   "metadata": {},
   "source": [
    "#### Hierarchical Inheritance in Python\n",
    "Hierarchical Inheritance is the right opposite of multiple inheritance. It means that there are multiple derived child classes from a single-parent class.\n",
    "\n"
   ]
  },
  {
   "cell_type": "code",
   "execution_count": 19,
   "id": "5e120419",
   "metadata": {},
   "outputs": [],
   "source": [
    "class parent:                     \n",
    "    def func1(self):                   \n",
    "        print(\"Hello Parent\")\n",
    "        "
   ]
  },
  {
   "cell_type": "code",
   "execution_count": 20,
   "id": "d07b2f41",
   "metadata": {},
   "outputs": [],
   "source": [
    "class child1(parent):               \n",
    "    def func2(self):                   \n",
    "        print(\"Hello Child1\")"
   ]
  },
  {
   "cell_type": "code",
   "execution_count": 21,
   "id": "946c845b",
   "metadata": {},
   "outputs": [],
   "source": [
    "class child2(parent):               \n",
    "    def func3(self):                   \n",
    "        print(\"Hello Child2\")"
   ]
  },
  {
   "cell_type": "code",
   "execution_count": 22,
   "id": "0e5b1cfa",
   "metadata": {},
   "outputs": [],
   "source": [
    "test1 = child1()                     "
   ]
  },
  {
   "cell_type": "code",
   "execution_count": 23,
   "id": "7bad4dbe",
   "metadata": {},
   "outputs": [],
   "source": [
    "test2 = child2()"
   ]
  },
  {
   "cell_type": "code",
   "execution_count": 24,
   "id": "9fde57bb",
   "metadata": {},
   "outputs": [
    {
     "name": "stdout",
     "output_type": "stream",
     "text": [
      "Hello Parent\n"
     ]
    }
   ],
   "source": [
    "test1.func1()                   "
   ]
  },
  {
   "cell_type": "code",
   "execution_count": 25,
   "id": "1b295129",
   "metadata": {},
   "outputs": [
    {
     "name": "stdout",
     "output_type": "stream",
     "text": [
      "Hello Child1\n"
     ]
    }
   ],
   "source": [
    "test1.func2()                    "
   ]
  },
  {
   "cell_type": "code",
   "execution_count": 26,
   "id": "d88d5faf",
   "metadata": {},
   "outputs": [
    {
     "name": "stdout",
     "output_type": "stream",
     "text": [
      "Hello Parent\n"
     ]
    }
   ],
   "source": [
    "test2.func1()"
   ]
  },
  {
   "cell_type": "code",
   "execution_count": 27,
   "id": "0d0ed970",
   "metadata": {},
   "outputs": [
    {
     "name": "stdout",
     "output_type": "stream",
     "text": [
      "Hello Child2\n"
     ]
    }
   ],
   "source": [
    "test2.func3()         "
   ]
  },
  {
   "cell_type": "markdown",
   "id": "d73dcaba",
   "metadata": {},
   "source": [
    "#### Hybrid Inheritance in Python\n",
    "Hybrid Inheritance is the mixture of two or more different types of inheritance. Here we can have many relationships between parent and child classes with multiple levels"
   ]
  },
  {
   "cell_type": "code",
   "execution_count": 28,
   "id": "b678fc0e",
   "metadata": {},
   "outputs": [],
   "source": [
    "class parent1:                           \n",
    "    def func1(self):                   \n",
    "        print(\"Hello Parent1\")"
   ]
  },
  {
   "cell_type": "code",
   "execution_count": 29,
   "id": "937155e2",
   "metadata": {},
   "outputs": [],
   "source": [
    "class parent2:                           \n",
    "    def func2(self):                   \n",
    "        print(\"Hello Parent2\")"
   ]
  },
  {
   "cell_type": "code",
   "execution_count": 30,
   "id": "3149625b",
   "metadata": {},
   "outputs": [],
   "source": [
    "class child1(parent1):                   \n",
    "    def func3(self):                   \n",
    "        print(\"Hello Child1\")"
   ]
  },
  {
   "cell_type": "code",
   "execution_count": 31,
   "id": "7901c1c5",
   "metadata": {},
   "outputs": [],
   "source": [
    "class child2(child1, parent2):           \n",
    "    def func4(self):                   \n",
    "        print(\"Hello Child2\")  "
   ]
  },
  {
   "cell_type": "code",
   "execution_count": 32,
   "id": "9d5c8087",
   "metadata": {},
   "outputs": [],
   "source": [
    "test1 = child1()                       "
   ]
  },
  {
   "cell_type": "code",
   "execution_count": 33,
   "id": "945730da",
   "metadata": {},
   "outputs": [],
   "source": [
    "test2 = child2()"
   ]
  },
  {
   "cell_type": "code",
   "execution_count": 34,
   "id": "82b107c7",
   "metadata": {},
   "outputs": [
    {
     "name": "stdout",
     "output_type": "stream",
     "text": [
      "Hello Parent1\n"
     ]
    }
   ],
   "source": [
    "test1.func1()                    "
   ]
  },
  {
   "cell_type": "code",
   "execution_count": 35,
   "id": "2993e7e6",
   "metadata": {},
   "outputs": [
    {
     "name": "stdout",
     "output_type": "stream",
     "text": [
      "Hello Child1\n"
     ]
    }
   ],
   "source": [
    "test1.func3()                      "
   ]
  },
  {
   "cell_type": "code",
   "execution_count": 36,
   "id": "261792e9",
   "metadata": {},
   "outputs": [
    {
     "name": "stdout",
     "output_type": "stream",
     "text": [
      "Hello Parent1\n"
     ]
    }
   ],
   "source": [
    "test2.func1()                   "
   ]
  },
  {
   "cell_type": "code",
   "execution_count": 37,
   "id": "801d55b2",
   "metadata": {},
   "outputs": [
    {
     "name": "stdout",
     "output_type": "stream",
     "text": [
      "Hello Parent2\n"
     ]
    }
   ],
   "source": [
    "test2.func2()                    "
   ]
  },
  {
   "cell_type": "code",
   "execution_count": 38,
   "id": "9b8298a0",
   "metadata": {},
   "outputs": [
    {
     "name": "stdout",
     "output_type": "stream",
     "text": [
      "Hello Child1\n"
     ]
    }
   ],
   "source": [
    "test2.func3()                                           "
   ]
  },
  {
   "cell_type": "code",
   "execution_count": 39,
   "id": "5024fd86",
   "metadata": {},
   "outputs": [
    {
     "name": "stdout",
     "output_type": "stream",
     "text": [
      "Hello Child2\n"
     ]
    }
   ],
   "source": [
    "test2.func4()  "
   ]
  },
  {
   "cell_type": "markdown",
   "id": "97fef464",
   "metadata": {},
   "source": [
    "#### Data abstraction\n",
    "It is used to hide irrelevant details from the user and show the details that are relevant to the users."
   ]
  },
  {
   "cell_type": "code",
   "execution_count": 1,
   "id": "6aa32e29",
   "metadata": {},
   "outputs": [],
   "source": [
    "from abc import ABC,abstractmethod\n",
    "class bankdatabase:\n",
    "    def database(self):\n",
    "        return \"connect to database\"\n",
    "    @abstractmethod\n",
    "    def security(self):\n",
    "        pass"
   ]
  },
  {
   "cell_type": "code",
   "execution_count": 4,
   "id": "0b39e6eb",
   "metadata": {},
   "outputs": [],
   "source": [
    "class phonepay(bankdatabase):\n",
    "    def user(self):\n",
    "        return \"login in app\"\n",
    "    def security(self):\n",
    "        return \"protected\""
   ]
  },
  {
   "cell_type": "code",
   "execution_count": 5,
   "id": "bf2b015d",
   "metadata": {},
   "outputs": [],
   "source": [
    "user1=phonepay()"
   ]
  },
  {
   "cell_type": "code",
   "execution_count": 6,
   "id": "b397d21c",
   "metadata": {},
   "outputs": [
    {
     "data": {
      "text/plain": [
       "'login in app'"
      ]
     },
     "execution_count": 6,
     "metadata": {},
     "output_type": "execute_result"
    }
   ],
   "source": [
    "user1.user()"
   ]
  },
  {
   "cell_type": "code",
   "execution_count": 7,
   "id": "38c3b362",
   "metadata": {},
   "outputs": [
    {
     "data": {
      "text/plain": [
       "'protected'"
      ]
     },
     "execution_count": 7,
     "metadata": {},
     "output_type": "execute_result"
    }
   ],
   "source": [
    "user1.security()"
   ]
  },
  {
   "cell_type": "code",
   "execution_count": 9,
   "id": "e702fac6",
   "metadata": {},
   "outputs": [
    {
     "data": {
      "text/plain": [
       "'connect to database'"
      ]
     },
     "execution_count": 9,
     "metadata": {},
     "output_type": "execute_result"
    }
   ],
   "source": [
    "user1.database()"
   ]
  },
  {
   "cell_type": "markdown",
   "id": "72affe47",
   "metadata": {},
   "source": [
    "#### Decorators in Python\n",
    " it allows programmers to modify the behaviour of a function or class. "
   ]
  },
  {
   "cell_type": "code",
   "execution_count": 18,
   "id": "54bb7c77",
   "metadata": {},
   "outputs": [],
   "source": [
    "def test():\n",
    "    return \"This is my fun test\""
   ]
  },
  {
   "cell_type": "code",
   "execution_count": 19,
   "id": "cab9d955",
   "metadata": {},
   "outputs": [
    {
     "data": {
      "text/plain": [
       "'This is my fun test'"
      ]
     },
     "execution_count": 19,
     "metadata": {},
     "output_type": "execute_result"
    }
   ],
   "source": [
    "test()"
   ]
  },
  {
   "cell_type": "code",
   "execution_count": 68,
   "id": "77c2605d",
   "metadata": {},
   "outputs": [],
   "source": [
    "def deco (fx):\n",
    "    def inner_deco():\n",
    "        print(\"this starting of function\")\n",
    "        fx()\n",
    "        print(\"this is ending of function \")\n",
    "    return inner_deco"
   ]
  },
  {
   "cell_type": "code",
   "execution_count": 69,
   "id": "c8d8c56d",
   "metadata": {},
   "outputs": [],
   "source": [
    "@deco\n",
    "def test2():\n",
    "    print(5+7)"
   ]
  },
  {
   "cell_type": "code",
   "execution_count": 70,
   "id": "3f46e2e6",
   "metadata": {},
   "outputs": [
    {
     "name": "stdout",
     "output_type": "stream",
     "text": [
      "this starting of function\n",
      "12\n",
      "this is ending of function \n"
     ]
    }
   ],
   "source": [
    "test2()"
   ]
  },
  {
   "cell_type": "code",
   "execution_count": 82,
   "id": "f7b43410",
   "metadata": {},
   "outputs": [],
   "source": [
    "import time \n",
    "\n",
    "def timer_test(func):\n",
    "    def timer_test_inner ():\n",
    "        start = time.time()\n",
    "        func()\n",
    "        end = time.time()\n",
    "        print(end -start)\n",
    "    return timer_test_inner"
   ]
  },
  {
   "cell_type": "code",
   "execution_count": 83,
   "id": "83ae584a",
   "metadata": {},
   "outputs": [],
   "source": [
    "@timer_test\n",
    "def test2():\n",
    "    print(45+78)"
   ]
  },
  {
   "cell_type": "code",
   "execution_count": 84,
   "id": "edaeb558",
   "metadata": {},
   "outputs": [
    {
     "name": "stdout",
     "output_type": "stream",
     "text": [
      "123\n",
      "0.0\n"
     ]
    }
   ],
   "source": [
    "test2()"
   ]
  },
  {
   "cell_type": "code",
   "execution_count": 85,
   "id": "2dade6e1",
   "metadata": {},
   "outputs": [],
   "source": [
    "@timer_test\n",
    "def test():\n",
    "    for i in range(100000000):\n",
    "        pass"
   ]
  },
  {
   "cell_type": "code",
   "execution_count": 86,
   "id": "6f59c37d",
   "metadata": {},
   "outputs": [
    {
     "name": "stdout",
     "output_type": "stream",
     "text": [
      "3.674799919128418\n"
     ]
    }
   ],
   "source": [
    "test()"
   ]
  },
  {
   "cell_type": "code",
   "execution_count": null,
   "id": "a74e23c2",
   "metadata": {},
   "outputs": [],
   "source": []
  }
 ],
 "metadata": {
  "kernelspec": {
   "display_name": "Python 3 (ipykernel)",
   "language": "python",
   "name": "python3"
  },
  "language_info": {
   "codemirror_mode": {
    "name": "ipython",
    "version": 3
   },
   "file_extension": ".py",
   "mimetype": "text/x-python",
   "name": "python",
   "nbconvert_exporter": "python",
   "pygments_lexer": "ipython3",
   "version": "3.11.5"
  }
 },
 "nbformat": 4,
 "nbformat_minor": 5
}
