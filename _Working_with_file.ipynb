{
  "nbformat": 4,
  "nbformat_minor": 0,
  "metadata": {
    "colab": {
      "provenance": []
    },
    "kernelspec": {
      "name": "python3",
      "display_name": "Python 3"
    },
    "language_info": {
      "name": "python"
    }
  },
  "cells": [
    {
      "cell_type": "markdown",
      "source": [
        "Working with File in python\n",
        "\n",
        "r: open an existing file for a read operation.\n",
        "\n",
        "w: open an existing file for a write operation. If the file already contains some data then it will be overridden.\n",
        "\n",
        "a: open an existing file for append operation. It won’t override existing data.\n",
        "\n",
        "r+: To read and write data into the file. The previous data in the file will be overridden.\n",
        "\n",
        "w+: To write and read data. It will override existing data.\n",
        "\n",
        "a+: To append and read data from the file. It won’t override existing data.\n",
        "\n"
      ],
      "metadata": {
        "id": "rgS1sZliuvD-"
      }
    },
    {
      "cell_type": "code",
      "execution_count": null,
      "metadata": {
        "id": "y7i9me-HcpMM"
      },
      "outputs": [],
      "source": [
        "f = open(\"file.txt\",\"w\")# for writing a file"
      ]
    },
    {
      "cell_type": "code",
      "source": [
        "file = open(\"file.txt\",\"r\")  #for reading the file\n",
        "file.read()"
      ],
      "metadata": {
        "colab": {
          "base_uri": "https://localhost:8080/",
          "height": 36
        },
        "id": "FI6qg-XbwUbd",
        "outputId": "dd50eedf-5835-4536-bf78-13c9d89fc9e1"
      },
      "execution_count": null,
      "outputs": [
        {
          "output_type": "execute_result",
          "data": {
            "text/plain": [
              "''"
            ],
            "application/vnd.google.colaboratory.intrinsic+json": {
              "type": "string"
            }
          },
          "metadata": {},
          "execution_count": 13
        }
      ]
    },
    {
      "cell_type": "code",
      "source": [
        "  pwd   #to check file location"
      ],
      "metadata": {
        "id": "ASri2IMAx6hb",
        "colab": {
          "base_uri": "https://localhost:8080/",
          "height": 36
        },
        "outputId": "5283a0e4-f9eb-462c-ddb5-450b4eb8d8da"
      },
      "execution_count": null,
      "outputs": [
        {
          "output_type": "execute_result",
          "data": {
            "text/plain": [
              "'/root'"
            ],
            "application/vnd.google.colaboratory.intrinsic+json": {
              "type": "string"
            }
          },
          "metadata": {},
          "execution_count": 14
        }
      ]
    },
    {
      "cell_type": "code",
      "source": [
        "ls"
      ],
      "metadata": {
        "id": "UFODp3CBycpH",
        "colab": {
          "base_uri": "https://localhost:8080/"
        },
        "outputId": "db46bb43-0597-497b-8b45-8ac31d2d3574"
      },
      "execution_count": null,
      "outputs": [
        {
          "output_type": "stream",
          "name": "stdout",
          "text": [
            "file.txt\n"
          ]
        }
      ]
    },
    {
      "cell_type": "code",
      "source": [
        "cd   ##for changing the file location"
      ],
      "metadata": {
        "colab": {
          "base_uri": "https://localhost:8080/"
        },
        "id": "8x_37EvEHN9q",
        "outputId": "0fe87412-dd99-4507-de96-f9e2a56c8ff8"
      },
      "execution_count": null,
      "outputs": [
        {
          "output_type": "stream",
          "name": "stdout",
          "text": [
            "[Errno 2] No such file or directory: '##for changing the file location'\n",
            "/root\n"
          ]
        }
      ]
    },
    {
      "cell_type": "code",
      "source": [
        "f.close()    #for closing the file"
      ],
      "metadata": {
        "id": "2ONTTwnnIITA"
      },
      "execution_count": null,
      "outputs": []
    },
    {
      "cell_type": "code",
      "source": [
        "f = open (\"test1.txt\",'w')"
      ],
      "metadata": {
        "id": "nPc4D7srIhu6"
      },
      "execution_count": null,
      "outputs": []
    },
    {
      "cell_type": "code",
      "source": [
        "f.write(\"hi my name is saurav yadav\")"
      ],
      "metadata": {
        "colab": {
          "base_uri": "https://localhost:8080/"
        },
        "id": "Ci3jl3F9JK3P",
        "outputId": "3d046696-366d-41ed-812a-acaa0be834d6"
      },
      "execution_count": null,
      "outputs": [
        {
          "output_type": "execute_result",
          "data": {
            "text/plain": [
              "26"
            ]
          },
          "metadata": {},
          "execution_count": 19
        }
      ]
    },
    {
      "cell_type": "code",
      "source": [
        "f.close()"
      ],
      "metadata": {
        "id": "l7CNGWp3JSVv"
      },
      "execution_count": null,
      "outputs": []
    },
    {
      "cell_type": "code",
      "source": [
        "f = open(\"test1.txt\",'r')"
      ],
      "metadata": {
        "id": "1eq2kzbnJVAY"
      },
      "execution_count": null,
      "outputs": []
    },
    {
      "cell_type": "code",
      "source": [
        "for i in f:\n",
        "  print(i)"
      ],
      "metadata": {
        "colab": {
          "base_uri": "https://localhost:8080/"
        },
        "id": "CmIlPSDjJ4gN",
        "outputId": "9d145c5e-3f82-4389-87b0-b06a77be46c7"
      },
      "execution_count": null,
      "outputs": [
        {
          "output_type": "stream",
          "name": "stdout",
          "text": [
            "hi my name is saurav yadav\n"
          ]
        }
      ]
    },
    {
      "cell_type": "code",
      "source": [
        "print (f.read())"
      ],
      "metadata": {
        "colab": {
          "base_uri": "https://localhost:8080/"
        },
        "id": "d3XrSCyiKNNH",
        "outputId": "b2d73f97-b772-494f-b3ef-9e5ee884e518"
      },
      "execution_count": null,
      "outputs": [
        {
          "output_type": "stream",
          "name": "stdout",
          "text": [
            "\n"
          ]
        }
      ]
    },
    {
      "cell_type": "code",
      "source": [
        "with open(\"test1.txt\") as f:\n",
        "  data = f.read()\n"
      ],
      "metadata": {
        "id": "MG1tclgKKSfv"
      },
      "execution_count": null,
      "outputs": []
    },
    {
      "cell_type": "code",
      "source": [
        "data"
      ],
      "metadata": {
        "colab": {
          "base_uri": "https://localhost:8080/",
          "height": 36
        },
        "id": "YlbGSsLUKV2V",
        "outputId": "c19790a4-dd7c-4cc0-e620-d0ed85d43fc6"
      },
      "execution_count": null,
      "outputs": [
        {
          "output_type": "execute_result",
          "data": {
            "text/plain": [
              "'hi my name is saurav yadav'"
            ],
            "application/vnd.google.colaboratory.intrinsic+json": {
              "type": "string"
            }
          },
          "metadata": {},
          "execution_count": 28
        }
      ]
    },
    {
      "cell_type": "code",
      "source": [
        "f = open(\"test1.txt\",'r')\n",
        "print(f.read(4))"
      ],
      "metadata": {
        "colab": {
          "base_uri": "https://localhost:8080/"
        },
        "id": "PXaPGQLnKzJx",
        "outputId": "a7311fe0-f606-4b9d-da09-3dca03b870e1"
      },
      "execution_count": null,
      "outputs": [
        {
          "output_type": "stream",
          "name": "stdout",
          "text": [
            "hi m\n"
          ]
        }
      ]
    },
    {
      "cell_type": "code",
      "source": [
        "with open(\"test1.txt\",'r') as f:\n",
        "  data1= f.readlines()\n",
        "  for i in data1:\n",
        "    word = i.split()\n",
        "    print(word)"
      ],
      "metadata": {
        "colab": {
          "base_uri": "https://localhost:8080/"
        },
        "id": "yu_-iPRSLZgT",
        "outputId": "08e3094a-6b8d-4df8-a50f-d570ca3e2ea2"
      },
      "execution_count": null,
      "outputs": [
        {
          "output_type": "stream",
          "name": "stdout",
          "text": [
            "['hi', 'my', 'name', 'is', 'saurav', 'yadav']\n"
          ]
        }
      ]
    },
    {
      "cell_type": "code",
      "source": [
        "f = open('test1.txt', 'a')\n",
        "f.write(\"This will add this line\")\n",
        "f.close()"
      ],
      "metadata": {
        "id": "Z9VqzkgULKS7"
      },
      "execution_count": null,
      "outputs": []
    },
    {
      "cell_type": "code",
      "source": [
        "f = open(\"test1.txt\",'r')\n",
        "for i in f:\n",
        "  print(i)\n"
      ],
      "metadata": {
        "colab": {
          "base_uri": "https://localhost:8080/"
        },
        "id": "m3bJ4wmkMPU5",
        "outputId": "c4f0f4d9-38cc-4180-9a23-124a390a6b30"
      },
      "execution_count": null,
      "outputs": [
        {
          "output_type": "stream",
          "name": "stdout",
          "text": [
            "hi my name is saurav yadavThis will add this lineThis will add this lineThis will add this lineThis will add this line\n"
          ]
        }
      ]
    },
    {
      "cell_type": "code",
      "source": [
        "import os\n",
        "os.path.getsize(\"test1.txt\")"
      ],
      "metadata": {
        "colab": {
          "base_uri": "https://localhost:8080/"
        },
        "id": "d37BepuJMq7M",
        "outputId": "7b4c3c7f-11ce-482a-e501-660595413ed2"
      },
      "execution_count": null,
      "outputs": [
        {
          "output_type": "execute_result",
          "data": {
            "text/plain": [
              "118"
            ]
          },
          "metadata": {},
          "execution_count": 39
        }
      ]
    },
    {
      "cell_type": "code",
      "source": [
        "#rename of file\n",
        "os.rename(\"test1.txt\",\"new.txt\")"
      ],
      "metadata": {
        "id": "Bghe4uRKNwdq"
      },
      "execution_count": null,
      "outputs": []
    },
    {
      "cell_type": "code",
      "source": [
        "#for copy of file\n",
        "import shutil\n",
        "shutil.copy(\"new.txt\",\"copy_new.txt\")"
      ],
      "metadata": {
        "colab": {
          "base_uri": "https://localhost:8080/",
          "height": 36
        },
        "id": "e-xgDCZlOIw9",
        "outputId": "f7397d81-8121-46b4-99ec-16e88521ae69"
      },
      "execution_count": null,
      "outputs": [
        {
          "output_type": "execute_result",
          "data": {
            "text/plain": [
              "'copy_new.txt'"
            ],
            "application/vnd.google.colaboratory.intrinsic+json": {
              "type": "string"
            }
          },
          "metadata": {},
          "execution_count": 41
        }
      ]
    },
    {
      "cell_type": "code",
      "source": [
        "import json"
      ],
      "metadata": {
        "id": "Tf5JrliAOeQM"
      },
      "execution_count": null,
      "outputs": []
    },
    {
      "cell_type": "code",
      "source": [
        "data = {\"name\" : \"saurav \", \"age\" : 30 , \"passion\" :[\"coding \", \"chainting \" , \"etc\"]  }\n",
        "with open(\"example1.json\" , \"w\") as f:\n",
        "    json.dump(data ,f)  # for the writting the data in the file\n",
        "f.close()"
      ],
      "metadata": {
        "id": "YmJe2hg1Otu0"
      },
      "execution_count": null,
      "outputs": []
    },
    {
      "cell_type": "code",
      "source": [
        "with open (\"example1.json\", 'r') as r :\n",
        "    data = json.load(r)\n",
        "\n",
        "print(data)"
      ],
      "metadata": {
        "colab": {
          "base_uri": "https://localhost:8080/"
        },
        "id": "jLopmPodPAOU",
        "outputId": "a4b34db4-f4fd-4a83-f99b-3c9c441c02f6"
      },
      "execution_count": null,
      "outputs": [
        {
          "output_type": "stream",
          "name": "stdout",
          "text": [
            "{'name': 'saurav ', 'age': 30, 'passion': ['coding ', 'chainting ', 'etc']}\n"
          ]
        }
      ]
    },
    {
      "cell_type": "code",
      "source": [
        "import csv\n",
        "csv_data = [\"Saurav \" ,\"30\"]\n",
        "with open (\"csv_example.csv\" , \"w\") as f :\n",
        "    writer = csv.writer(f)\n",
        "    for i in csv_data :\n",
        "        writer.writerow(i)"
      ],
      "metadata": {
        "id": "XNh_RVjOPBDA"
      },
      "execution_count": null,
      "outputs": []
    },
    {
      "cell_type": "code",
      "source": [
        "with open(\"example_1.bin\",\"wb\") as f:\n",
        "  f.write(b\"PK\\x03\\x04\\x14\\x00\\x00\\x00\\x08\\x00U\\xbd\\xebV\\xc2=j\\x87\\x1e\\x00\\x00\\x00!\\x00\\x00\\x00\\n\\x00\\x00\\x00TODO11.txt\\xe3\\xe5JN,\\xceH-/\\xe6\\xe5\\x82\\xc0\\xcc\\xbc\\x92\\xd4\\x9c\\x9c\\xcc\\x82\\xc4\\xc4\\x12^.w7w\\x00PK\\x01\\x02\\x14\\x00\\x14\\x00\\x00\\x00\\x08\\x00U\\xbd\\xebV\\xc2=j\\x87\\x1e\\x00\\x00\\x00!\\x00\\x00\\x00\\n\\x00\\x00\\x00\\x00\\x00\\x00\\x00\\x01\\x00 \\x00\\x00\\x00\\x00\\x00\\x00\\x00TODO11.txtPK\\x05\\x06\\x00\\x00\\x00\\x00\\x01\\x00\\x01\\x008\\x00\\x00\\x00F\\x00\\x00\\x00\\x00\\x00\")"
      ],
      "metadata": {
        "id": "cU1S5AALPo5a"
      },
      "execution_count": null,
      "outputs": []
    },
    {
      "cell_type": "code",
      "source": [
        "with open(\"example_1.bin\",\"rb\") as f:\n",
        "  print(f.read())"
      ],
      "metadata": {
        "colab": {
          "base_uri": "https://localhost:8080/"
        },
        "id": "6NN1KpbsQt62",
        "outputId": "1211071c-b9a0-48c1-e1e6-e2ed44ad8e48"
      },
      "execution_count": null,
      "outputs": [
        {
          "output_type": "stream",
          "name": "stdout",
          "text": [
            "b'PK\\x03\\x04\\x14\\x00\\x00\\x00\\x08\\x00U\\xbd\\xebV\\xc2=j\\x87\\x1e\\x00\\x00\\x00!\\x00\\x00\\x00\\n\\x00\\x00\\x00TODO11.txt\\xe3\\xe5JN,\\xceH-/\\xe6\\xe5\\x82\\xc0\\xcc\\xbc\\x92\\xd4\\x9c\\x9c\\xcc\\x82\\xc4\\xc4\\x12^.w7w\\x00PK\\x01\\x02\\x14\\x00\\x14\\x00\\x00\\x00\\x08\\x00U\\xbd\\xebV\\xc2=j\\x87\\x1e\\x00\\x00\\x00!\\x00\\x00\\x00\\n\\x00\\x00\\x00\\x00\\x00\\x00\\x00\\x01\\x00 \\x00\\x00\\x00\\x00\\x00\\x00\\x00TODO11.txtPK\\x05\\x06\\x00\\x00\\x00\\x00\\x01\\x00\\x01\\x008\\x00\\x00\\x00F\\x00\\x00\\x00\\x00\\x00'\n"
          ]
        }
      ]
    },
    {
      "cell_type": "code",
      "source": [
        "import io"
      ],
      "metadata": {
        "id": "PLM1XmUPQ8lV"
      },
      "execution_count": null,
      "outputs": []
    },
    {
      "cell_type": "code",
      "source": [
        "with open(\"test2.txt\",\"wb\") as f:\n",
        "  file=io.BufferedWriter(f)\n",
        "    file.write(b\"this first line\\n\")\n",
        "file.write(b\"this is second line\\n\")\n",
        "file.flush()"
      ],
      "metadata": {
        "colab": {
          "base_uri": "https://localhost:8080/",
          "height": 211
        },
        "id": "5WyYJ0-lRn6B",
        "outputId": "dbbad84d-18b5-4573-d50d-2246c3bb78f4"
      },
      "execution_count": null,
      "outputs": [
        {
          "output_type": "error",
          "ename": "ValueError",
          "evalue": "write to closed file",
          "traceback": [
            "\u001b[0;31m---------------------------------------------------------------------------\u001b[0m",
            "\u001b[0;31mValueError\u001b[0m                                Traceback (most recent call last)",
            "\u001b[0;32m<ipython-input-63-8a6d60ce23bb>\u001b[0m in \u001b[0;36m<cell line: 4>\u001b[0;34m()\u001b[0m\n\u001b[1;32m      2\u001b[0m   \u001b[0mfile\u001b[0m\u001b[0;34m=\u001b[0m\u001b[0mio\u001b[0m\u001b[0;34m.\u001b[0m\u001b[0mBufferedWriter\u001b[0m\u001b[0;34m(\u001b[0m\u001b[0mf\u001b[0m\u001b[0;34m)\u001b[0m\u001b[0;34m\u001b[0m\u001b[0;34m\u001b[0m\u001b[0m\n\u001b[1;32m      3\u001b[0m \u001b[0;34m\u001b[0m\u001b[0m\n\u001b[0;32m----> 4\u001b[0;31m \u001b[0mfile\u001b[0m\u001b[0;34m.\u001b[0m\u001b[0mwrite\u001b[0m\u001b[0;34m(\u001b[0m\u001b[0;34mb\"this first line\\n\"\u001b[0m\u001b[0;34m)\u001b[0m\u001b[0;34m\u001b[0m\u001b[0;34m\u001b[0m\u001b[0m\n\u001b[0m\u001b[1;32m      5\u001b[0m \u001b[0mfile\u001b[0m\u001b[0;34m.\u001b[0m\u001b[0mwrite\u001b[0m\u001b[0;34m(\u001b[0m\u001b[0;34mb\"this is second line\\n\"\u001b[0m\u001b[0;34m)\u001b[0m\u001b[0;34m\u001b[0m\u001b[0;34m\u001b[0m\u001b[0m\n\u001b[1;32m      6\u001b[0m \u001b[0mfile\u001b[0m\u001b[0;34m.\u001b[0m\u001b[0mflush\u001b[0m\u001b[0;34m(\u001b[0m\u001b[0;34m)\u001b[0m\u001b[0;34m\u001b[0m\u001b[0;34m\u001b[0m\u001b[0m\n",
            "\u001b[0;31mValueError\u001b[0m: write to closed file"
          ]
        }
      ]
    },
    {
      "cell_type": "code",
      "source": [
        "with open(\"test1.txt\" ,\"wb\") as f :\n",
        "    file = io.BufferedWriter(f)\n",
        "\n",
        "    file.write(b\"this first line\\n\")\n",
        "    file.write(b\"this is my second  line\\n\")\n",
        "    file.flush()"
      ],
      "metadata": {
        "id": "-pIBS8ZbVHWf"
      },
      "execution_count": null,
      "outputs": []
    },
    {
      "cell_type": "code",
      "source": [
        "with open(\"test1.txt\",\"rb\") as f:\n",
        "  file=io.BufferedReader(f)\n",
        "  print(file.read())"
      ],
      "metadata": {
        "colab": {
          "base_uri": "https://localhost:8080/"
        },
        "id": "ibL6Az6tV25j",
        "outputId": "438d856a-0942-4ab0-b1a5-25db5c47c97a"
      },
      "execution_count": null,
      "outputs": [
        {
          "output_type": "stream",
          "name": "stdout",
          "text": [
            "b'this first line\\nthis is my second  line\\n'\n"
          ]
        }
      ]
    },
    {
      "cell_type": "code",
      "source": [],
      "metadata": {
        "id": "27eeCNOqXPB1"
      },
      "execution_count": null,
      "outputs": []
    }
  ]
}