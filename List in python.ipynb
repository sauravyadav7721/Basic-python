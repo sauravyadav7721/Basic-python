{
 "cells": [
  {
   "cell_type": "code",
   "execution_count": 1,
   "id": "d6806b8f",
   "metadata": {},
   "outputs": [],
   "source": [
    "my_list = [] #empty list"
   ]
  },
  {
   "cell_type": "code",
   "execution_count": 2,
   "id": "93fb067b",
   "metadata": {},
   "outputs": [
    {
     "data": {
      "text/plain": [
       "[]"
      ]
     },
     "execution_count": 2,
     "metadata": {},
     "output_type": "execute_result"
    }
   ],
   "source": [
    "my_list"
   ]
  },
  {
   "cell_type": "code",
   "execution_count": 3,
   "id": "18075355",
   "metadata": {},
   "outputs": [
    {
     "name": "stdout",
     "output_type": "stream",
     "text": [
      "[2, 8, 6, 5, 6, 94, 23]\n"
     ]
    }
   ],
   "source": [
    "list = [2,8,6,5,6,94,23]\n",
    "print(list)"
   ]
  },
  {
   "cell_type": "code",
   "execution_count": 4,
   "id": "6ec892ee",
   "metadata": {},
   "outputs": [
    {
     "name": "stdout",
     "output_type": "stream",
     "text": [
      "[2, 'saurav', 6.5, True, 9]\n"
     ]
    }
   ],
   "source": [
    "list = [2,\"saurav\",6.5,True,9]\n",
    "print(list)"
   ]
  },
  {
   "cell_type": "code",
   "execution_count": 6,
   "id": "cdbbcbc2",
   "metadata": {},
   "outputs": [
    {
     "data": {
      "text/plain": [
       "'saurav'"
      ]
     },
     "execution_count": 6,
     "metadata": {},
     "output_type": "execute_result"
    }
   ],
   "source": [
    "list[1]"
   ]
  },
  {
   "cell_type": "code",
   "execution_count": 7,
   "id": "4352db15",
   "metadata": {},
   "outputs": [
    {
     "data": {
      "text/plain": [
       "[2, 'saurav', 6.5, True, 9]"
      ]
     },
     "execution_count": 7,
     "metadata": {},
     "output_type": "execute_result"
    }
   ],
   "source": [
    "list[0:6]"
   ]
  },
  {
   "cell_type": "code",
   "execution_count": 10,
   "id": "f49c74a5",
   "metadata": {},
   "outputs": [
    {
     "data": {
      "text/plain": [
       "list"
      ]
     },
     "execution_count": 10,
     "metadata": {},
     "output_type": "execute_result"
    }
   ],
   "source": [
    "type(list)"
   ]
  },
  {
   "cell_type": "code",
   "execution_count": 11,
   "id": "92a593cf",
   "metadata": {},
   "outputs": [
    {
     "data": {
      "text/plain": [
       "4"
      ]
     },
     "execution_count": 11,
     "metadata": {},
     "output_type": "execute_result"
    }
   ],
   "source": [
    "len(list)-1"
   ]
  },
  {
   "cell_type": "code",
   "execution_count": 12,
   "id": "6da128ab",
   "metadata": {},
   "outputs": [],
   "source": [
    "#update list\n",
    "list[2]=\"yadav\""
   ]
  },
  {
   "cell_type": "code",
   "execution_count": 13,
   "id": "fec38dd2",
   "metadata": {},
   "outputs": [
    {
     "data": {
      "text/plain": [
       "[2, 'saurav', 'yadav', True, 9]"
      ]
     },
     "execution_count": 13,
     "metadata": {},
     "output_type": "execute_result"
    }
   ],
   "source": [
    "list"
   ]
  },
  {
   "cell_type": "code",
   "execution_count": 14,
   "id": "288994dc",
   "metadata": {},
   "outputs": [],
   "source": [
    "list[1:3]=[\"First name\",\"Last name\"]"
   ]
  },
  {
   "cell_type": "code",
   "execution_count": 15,
   "id": "f3034f81",
   "metadata": {},
   "outputs": [
    {
     "data": {
      "text/plain": [
       "[2, 'First name', 'Last name', True, 9]"
      ]
     },
     "execution_count": 15,
     "metadata": {},
     "output_type": "execute_result"
    }
   ],
   "source": [
    "list"
   ]
  },
  {
   "cell_type": "code",
   "execution_count": 16,
   "id": "ea4602f1",
   "metadata": {},
   "outputs": [],
   "source": [
    "# adding Two list\n",
    "indoor_game=[\"carrom\",\"ludo\",\"chess\"]\n",
    "outdoor_game=[\"cricket\",\"basketball\",\"tennis\"]"
   ]
  },
  {
   "cell_type": "code",
   "execution_count": 18,
   "id": "b2ec1014",
   "metadata": {},
   "outputs": [
    {
     "name": "stdout",
     "output_type": "stream",
     "text": [
      "['carrom', 'ludo', 'chess', 'cricket', 'basketball', 'tennis']\n"
     ]
    }
   ],
   "source": [
    "#method_1\n",
    "all_sport=indoor_game+outdoor_game\n",
    "print(all_sport)"
   ]
  },
  {
   "cell_type": "code",
   "execution_count": 20,
   "id": "8c7e24bc",
   "metadata": {},
   "outputs": [
    {
     "name": "stdout",
     "output_type": "stream",
     "text": [
      "['carrom', 'ludo', 'chess', ['cricket', 'basketball', 'tennis'], ['cricket', 'basketball', 'tennis']]\n"
     ]
    }
   ],
   "source": [
    "#method_2\n",
    "indoor_game.append(outdoor_game)\n",
    "print(indoor_game)"
   ]
  },
  {
   "cell_type": "code",
   "execution_count": 21,
   "id": "28015ebf",
   "metadata": {},
   "outputs": [
    {
     "name": "stdout",
     "output_type": "stream",
     "text": [
      "['carrom', 'ludo', 'chess', ['cricket', 'basketball', 'tennis'], ['cricket', 'basketball', 'tennis'], 'cricket', 'basketball', 'tennis']\n"
     ]
    }
   ],
   "source": [
    "#method_3\n",
    "indoor_game.extend(outdoor_game)\n",
    "print(indoor_game)"
   ]
  },
  {
   "cell_type": "markdown",
   "id": "b8fda828",
   "metadata": {},
   "source": [
    "# List Function\n",
    "1.len()\n",
    "2.min()\n",
    "3.max()\n",
    "4.sum()\n",
    "5.sorted()\n",
    "6.any()\n",
    "7.all()\n",
    "8.list()"
   ]
  },
  {
   "cell_type": "code",
   "execution_count": 24,
   "id": "03d25f29",
   "metadata": {},
   "outputs": [
    {
     "data": {
      "text/plain": [
       "9"
      ]
     },
     "execution_count": 24,
     "metadata": {},
     "output_type": "execute_result"
    }
   ],
   "source": [
    "#len()\n",
    "my_num=[2,6,98,3,4,86,54,28,834,259]\n",
    "len(my_num)-1"
   ]
  },
  {
   "cell_type": "code",
   "execution_count": 25,
   "id": "61d01a14",
   "metadata": {},
   "outputs": [
    {
     "data": {
      "text/plain": [
       "2"
      ]
     },
     "execution_count": 25,
     "metadata": {},
     "output_type": "execute_result"
    }
   ],
   "source": [
    "min(my_num)"
   ]
  },
  {
   "cell_type": "code",
   "execution_count": 26,
   "id": "455b037b",
   "metadata": {},
   "outputs": [
    {
     "data": {
      "text/plain": [
       "834"
      ]
     },
     "execution_count": 26,
     "metadata": {},
     "output_type": "execute_result"
    }
   ],
   "source": [
    "max(my_num)"
   ]
  },
  {
   "cell_type": "code",
   "execution_count": 27,
   "id": "4df39bda",
   "metadata": {},
   "outputs": [
    {
     "data": {
      "text/plain": [
       "1374"
      ]
     },
     "execution_count": 27,
     "metadata": {},
     "output_type": "execute_result"
    }
   ],
   "source": [
    "sum(my_num)"
   ]
  },
  {
   "cell_type": "code",
   "execution_count": 29,
   "id": "b1640f16",
   "metadata": {},
   "outputs": [
    {
     "data": {
      "text/plain": [
       "[2, 3, 4, 6, 28, 54, 86, 98, 259, 834]"
      ]
     },
     "execution_count": 29,
     "metadata": {},
     "output_type": "execute_result"
    }
   ],
   "source": [
    "sorted(my_num)"
   ]
  },
  {
   "cell_type": "code",
   "execution_count": 31,
   "id": "0255e700",
   "metadata": {},
   "outputs": [
    {
     "data": {
      "text/plain": [
       "[834, 259, 98, 86, 54, 28, 6, 4, 3, 2]"
      ]
     },
     "execution_count": 31,
     "metadata": {},
     "output_type": "execute_result"
    }
   ],
   "source": [
    "sorted(my_num,reverse=True)"
   ]
  },
  {
   "cell_type": "code",
   "execution_count": 32,
   "id": "ae2239e3",
   "metadata": {},
   "outputs": [
    {
     "data": {
      "text/plain": [
       "True"
      ]
     },
     "execution_count": 32,
     "metadata": {},
     "output_type": "execute_result"
    }
   ],
   "source": [
    "all(my_num)"
   ]
  },
  {
   "cell_type": "code",
   "execution_count": 33,
   "id": "889a25db",
   "metadata": {},
   "outputs": [
    {
     "data": {
      "text/plain": [
       "True"
      ]
     },
     "execution_count": 33,
     "metadata": {},
     "output_type": "execute_result"
    }
   ],
   "source": [
    "any(my_num)"
   ]
  },
  {
   "cell_type": "code",
   "execution_count": 41,
   "id": "96afab3f",
   "metadata": {},
   "outputs": [],
   "source": [
    "indoorgames=[\"carrom\",\"ludo\",\"chess\",\"cricket\"]"
   ]
  },
  {
   "cell_type": "code",
   "execution_count": 43,
   "id": "a4f31654",
   "metadata": {},
   "outputs": [
    {
     "name": "stdout",
     "output_type": "stream",
     "text": [
      "['carrom', 'ludo', 'chess', 'cricket', 'cards']\n"
     ]
    }
   ],
   "source": [
    "indoorgames= indoorgames + [\"cards\"]\n",
    "print(indoorgames)"
   ]
  },
  {
   "cell_type": "markdown",
   "id": "f3bceb71",
   "metadata": {},
   "source": [
    "# List Method\n",
    "1.append()\n",
    "2.extend()\n",
    "3.insert()\n",
    "4.count()\n",
    "5.index()\n",
    "6.remove()\n",
    "7.pop()\n",
    "8.clear()\n",
    "9.reverse()\n",
    "10.sort()"
   ]
  },
  {
   "cell_type": "code",
   "execution_count": 46,
   "id": "6610d3ac",
   "metadata": {},
   "outputs": [],
   "source": [
    "my_num=[2, 6, 98, 3, 4, 86, 54, 28, 834, 259]"
   ]
  },
  {
   "cell_type": "code",
   "execution_count": 47,
   "id": "470093f8",
   "metadata": {},
   "outputs": [
    {
     "name": "stdout",
     "output_type": "stream",
     "text": [
      "[2, 6, 98, 3, 4, 86, 54, 28, 834, 259, 13]\n"
     ]
    }
   ],
   "source": [
    "my_num.append(13)\n",
    "print(my_num)"
   ]
  },
  {
   "cell_type": "code",
   "execution_count": 49,
   "id": "d41837ea",
   "metadata": {},
   "outputs": [
    {
     "name": "stdout",
     "output_type": "stream",
     "text": [
      "[2, 6, 98, 3, 4, 86, 54, 28, 834, 259, 13, 49, 64, 25, 49, 64, 25]\n"
     ]
    }
   ],
   "source": [
    "list=[49,64,25]\n",
    "my_num.extend(list)\n",
    "print(my_num)"
   ]
  },
  {
   "cell_type": "code",
   "execution_count": 53,
   "id": "114363f7",
   "metadata": {},
   "outputs": [
    {
     "name": "stdout",
     "output_type": "stream",
     "text": [
      "[2, 6, 98, 3, 4, 86, 54, 28, 834, 259, 13, 49, 64, 25, 49, 64, 25, 1000, 1000]\n"
     ]
    }
   ],
   "source": [
    "my_num.insert(2000,1000)\n",
    "print(my_num)"
   ]
  },
  {
   "cell_type": "code",
   "execution_count": 55,
   "id": "642b0d09",
   "metadata": {},
   "outputs": [
    {
     "data": {
      "text/plain": [
       "2"
      ]
     },
     "execution_count": 55,
     "metadata": {},
     "output_type": "execute_result"
    }
   ],
   "source": [
    "my_num.count(1000)"
   ]
  },
  {
   "cell_type": "code",
   "execution_count": 56,
   "id": "fa7e9b06",
   "metadata": {},
   "outputs": [
    {
     "data": {
      "text/plain": [
       "17"
      ]
     },
     "execution_count": 56,
     "metadata": {},
     "output_type": "execute_result"
    }
   ],
   "source": [
    "my_num.index(1000)"
   ]
  },
  {
   "cell_type": "code",
   "execution_count": 57,
   "id": "dc7c9910",
   "metadata": {},
   "outputs": [],
   "source": [
    "my_num.remove(1000)\n",
    "#it remove the first match element"
   ]
  },
  {
   "cell_type": "code",
   "execution_count": 58,
   "id": "d8da7ebd",
   "metadata": {},
   "outputs": [
    {
     "data": {
      "text/plain": [
       "1000"
      ]
     },
     "execution_count": 58,
     "metadata": {},
     "output_type": "execute_result"
    }
   ],
   "source": [
    "my_num.pop(17)\n",
    "#remove the element at given index"
   ]
  },
  {
   "cell_type": "code",
   "execution_count": 60,
   "id": "638b62e1",
   "metadata": {},
   "outputs": [
    {
     "data": {
      "text/plain": [
       "[2, 6, 98, 3, 4, 86, 54, 28, 834, 259, 13, 49, 64, 25, 49, 64, 25]"
      ]
     },
     "execution_count": 60,
     "metadata": {},
     "output_type": "execute_result"
    }
   ],
   "source": [
    "my_num"
   ]
  },
  {
   "cell_type": "code",
   "execution_count": 62,
   "id": "86fe4156",
   "metadata": {},
   "outputs": [
    {
     "name": "stdout",
     "output_type": "stream",
     "text": [
      "[]\n"
     ]
    }
   ],
   "source": [
    "my_num.clear()\n",
    "print(my_num)"
   ]
  },
  {
   "cell_type": "code",
   "execution_count": 63,
   "id": "29b2d985",
   "metadata": {},
   "outputs": [],
   "source": [
    "my_num =[2, 6, 98, 3, 4, 86, 54, 28, 834, 259, 13, 49, 64, 25, 49, 64, 25]"
   ]
  },
  {
   "cell_type": "code",
   "execution_count": 66,
   "id": "e5774f0e",
   "metadata": {},
   "outputs": [
    {
     "name": "stdout",
     "output_type": "stream",
     "text": [
      "[2, 3, 4, 6, 13, 25, 25, 28, 49, 49, 54, 64, 64, 86, 98, 259, 834]\n"
     ]
    }
   ],
   "source": [
    "my_num.sort()\n",
    "print(my_num)"
   ]
  },
  {
   "cell_type": "code",
   "execution_count": 68,
   "id": "f74dd0da",
   "metadata": {},
   "outputs": [
    {
     "name": "stdout",
     "output_type": "stream",
     "text": [
      "[834, 259, 98, 86, 64, 64, 54, 49, 49, 28, 25, 25, 13, 6, 4, 3, 2]\n"
     ]
    }
   ],
   "source": [
    "my_num.sort(reverse=True)\n",
    "print(my_num)"
   ]
  },
  {
   "cell_type": "code",
   "execution_count": 71,
   "id": "116519ce",
   "metadata": {},
   "outputs": [
    {
     "name": "stdout",
     "output_type": "stream",
     "text": [
      "[834, 259, 98, 86, 64, 64, 54, 49, 49, 28, 25, 25, 13, 6, 4, 3, 2]\n"
     ]
    }
   ],
   "source": [
    "my_num.reverse()\n",
    "print(my_num)"
   ]
  },
  {
   "cell_type": "markdown",
   "id": "2fe0b3fb",
   "metadata": {},
   "source": [
    "# Write a program to accept five integers from the user , store them in a list . Display these integers and also display their sum"
   ]
  },
  {
   "cell_type": "code",
   "execution_count": 27,
   "id": "9f1b5be2",
   "metadata": {},
   "outputs": [
    {
     "name": "stdout",
     "output_type": "stream",
     "text": [
      "Enter 5 no.2 3 4 5 6\n",
      "['2', '3', '4', '5', '6']\n"
     ]
    }
   ],
   "source": [
    "my_list=[]\n",
    "x=(input(\"Enter 5 no.\"))\n",
    "for i in x.split():\n",
    "    my_list.append(i)\n",
    "print(my_list)"
   ]
  },
  {
   "cell_type": "markdown",
   "id": "1c80a890",
   "metadata": {},
   "source": [
    "# Write a program to accept 5 unique integers from the user. Make sure if the integer being entered is already present in the list your code displays the message “Item already present” and ask the user to reenter the integer."
   ]
  },
  {
   "cell_type": "code",
   "execution_count": null,
   "id": "93498083",
   "metadata": {},
   "outputs": [],
   "source": [
    "\"\"\"\"num=[1,2,6,8,3,5,9,0]\n",
    "my_list=[]\n",
    "x=(input(\"Enter 5 no.\"))\n",
    "for i in x.split():\n",
    "    my_list.append(i)\n",
    "print(my_list)\n",
    "a = my_list[0]\n",
    "while a in num:\n",
    "    print(found)\n",
    "    a += 1\"\"\""
   ]
  },
  {
   "cell_type": "markdown",
   "id": "3573503e",
   "metadata": {},
   "source": [
    "# Write a program to accept 2 lists from the user of 5 nos each . Assume each list will have unique nos Now find out how many items in these lists are common ."
   ]
  },
  {
   "cell_type": "code",
   "execution_count": 69,
   "id": "62f29cff",
   "metadata": {},
   "outputs": [
    {
     "data": {
      "text/plain": [
       "'num_1=input(\"Enter five no.\")\\nmy_list_1=num_1.split()\\nnum_2=input(\"Enter five no.\")\\nmy_list_2=num_2.split()\\ni=0\\nfor my_list_2[i] in my_list_1:                                   #my_list_1[i] in my_list_2:\\n    print(i)\\n    i <= 4\\nprint(i)'"
      ]
     },
     "execution_count": 69,
     "metadata": {},
     "output_type": "execute_result"
    }
   ],
   "source": [
    "\"\"\"num_1=input(\"Enter five no.\")\n",
    "my_list_1=num_1.split()\n",
    "num_2=input(\"Enter five no.\")\n",
    "my_list_2=num_2.split()\n",
    "i=0\n",
    "for my_list_2[i] in my_list_1:                                   #my_list_1[i] in my_list_2:\n",
    "    print(i)\n",
    "    i <= 4\n",
    "print(i)\"\"\"   "
   ]
  },
  {
   "cell_type": "code",
   "execution_count": null,
   "id": "ec9b0382",
   "metadata": {},
   "outputs": [],
   "source": []
  },
  {
   "cell_type": "code",
   "execution_count": null,
   "id": "5f497f0e",
   "metadata": {},
   "outputs": [],
   "source": []
  },
  {
   "cell_type": "code",
   "execution_count": null,
   "id": "ac8a6af9",
   "metadata": {},
   "outputs": [],
   "source": []
  }
 ],
 "metadata": {
  "kernelspec": {
   "display_name": "Python 3 (ipykernel)",
   "language": "python",
   "name": "python3"
  },
  "language_info": {
   "codemirror_mode": {
    "name": "ipython",
    "version": 3
   },
   "file_extension": ".py",
   "mimetype": "text/x-python",
   "name": "python",
   "nbconvert_exporter": "python",
   "pygments_lexer": "ipython3",
   "version": "3.11.5"
  }
 },
 "nbformat": 4,
 "nbformat_minor": 5
}
