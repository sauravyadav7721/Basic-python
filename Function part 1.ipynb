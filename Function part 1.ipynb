{
 "cells": [
  {
   "cell_type": "code",
   "execution_count": 10,
   "id": "a807359f",
   "metadata": {},
   "outputs": [
    {
     "name": "stdout",
     "output_type": "stream",
     "text": [
      "30\n"
     ]
    }
   ],
   "source": [
    "a=10\n",
    "b=20\n",
    "c=a+b\n",
    "print(c)"
   ]
  },
  {
   "cell_type": "code",
   "execution_count": 11,
   "id": "744183e4",
   "metadata": {},
   "outputs": [
    {
     "name": "stdout",
     "output_type": "stream",
     "text": [
      "enter first number10\n",
      "enter second value20\n",
      "30\n"
     ]
    }
   ],
   "source": [
    "a=input(\"enter first number\")\n",
    "b=input(\"enter second value\")\n",
    "c=int(a)+int(b)\n",
    "print(c)"
   ]
  },
  {
   "cell_type": "code",
   "execution_count": 12,
   "id": "dd70a16d",
   "metadata": {},
   "outputs": [],
   "source": [
    "#by using function\n",
    "def addition(a,b):      #function defination \n",
    "    c = a+b\n",
    "    return c"
   ]
  },
  {
   "cell_type": "code",
   "execution_count": 13,
   "id": "dc43faf8",
   "metadata": {},
   "outputs": [
    {
     "data": {
      "text/plain": [
       "30"
      ]
     },
     "execution_count": 13,
     "metadata": {},
     "output_type": "execute_result"
    }
   ],
   "source": [
    "addition(10,20)    #fuction calling"
   ]
  },
  {
   "cell_type": "code",
   "execution_count": 14,
   "id": "cb2b3dd8",
   "metadata": {},
   "outputs": [
    {
     "data": {
      "text/plain": [
       "50"
      ]
     },
     "execution_count": 14,
     "metadata": {},
     "output_type": "execute_result"
    }
   ],
   "source": [
    "addition(30,20)  "
   ]
  },
  {
   "cell_type": "markdown",
   "id": "fb154200",
   "metadata": {},
   "source": [
    "# #Write a function called absolute( ) to accept an integer as argument and return it’s absolute value. Finally call it to get the absolute value of -7 and 9"
   ]
  },
  {
   "cell_type": "code",
   "execution_count": 15,
   "id": "abfad224",
   "metadata": {},
   "outputs": [],
   "source": [
    "def absolute(n):\n",
    "    if n >0:\n",
    "        return n\n",
    "    else:\n",
    "        return -n"
   ]
  },
  {
   "cell_type": "code",
   "execution_count": 17,
   "id": "004de962",
   "metadata": {},
   "outputs": [
    {
     "data": {
      "text/plain": [
       "7"
      ]
     },
     "execution_count": 17,
     "metadata": {},
     "output_type": "execute_result"
    }
   ],
   "source": [
    "absolute(-7)"
   ]
  },
  {
   "cell_type": "code",
   "execution_count": 18,
   "id": "c0dbc20f",
   "metadata": {},
   "outputs": [
    {
     "data": {
      "text/plain": [
       "9"
      ]
     },
     "execution_count": 18,
     "metadata": {},
     "output_type": "execute_result"
    }
   ],
   "source": [
    "absolute(9)"
   ]
  },
  {
   "cell_type": "markdown",
   "id": "8d70bff9",
   "metadata": {},
   "source": [
    "### WAP the factorial() function to calculate and return the factorial of the number given by the user."
   ]
  },
  {
   "cell_type": "code",
   "execution_count": 19,
   "id": "1d6b153f",
   "metadata": {},
   "outputs": [],
   "source": [
    "def  factorial(n):\n",
    "    f=1\n",
    "    while n>1:\n",
    "        f=f*n \n",
    "        n=n-1 \n",
    "    print(f)"
   ]
  },
  {
   "cell_type": "code",
   "execution_count": 20,
   "id": "51ef04c6",
   "metadata": {},
   "outputs": [
    {
     "name": "stdout",
     "output_type": "stream",
     "text": [
      "120\n"
     ]
    }
   ],
   "source": [
    "factorial(5)"
   ]
  },
  {
   "cell_type": "code",
   "execution_count": 21,
   "id": "65c7cc6f",
   "metadata": {},
   "outputs": [],
   "source": [
    "#positional argument\n",
    "def number(a,b,c,d):\n",
    "    return a*b*c*d"
   ]
  },
  {
   "cell_type": "code",
   "execution_count": 23,
   "id": "0e096f7e",
   "metadata": {},
   "outputs": [
    {
     "data": {
      "text/plain": [
       "240000"
      ]
     },
     "execution_count": 23,
     "metadata": {},
     "output_type": "execute_result"
    }
   ],
   "source": [
    "number(10,20,30,40)"
   ]
  },
  {
   "cell_type": "code",
   "execution_count": 24,
   "id": "b2baae86",
   "metadata": {},
   "outputs": [],
   "source": [
    "#keyword argument\n",
    "def number(a,b,c,d):\n",
    "    return a*b*c*d"
   ]
  },
  {
   "cell_type": "code",
   "execution_count": 25,
   "id": "5ac0d514",
   "metadata": {},
   "outputs": [
    {
     "data": {
      "text/plain": [
       "240000"
      ]
     },
     "execution_count": 25,
     "metadata": {},
     "output_type": "execute_result"
    }
   ],
   "source": [
    "number(a=10,b=20,c=30,d=40)"
   ]
  },
  {
   "cell_type": "code",
   "execution_count": 30,
   "id": "9b7aeb19",
   "metadata": {},
   "outputs": [],
   "source": [
    "#default argument\n",
    "def number(a,b,c=30):        #default argument should be always at last other wise it will give error\n",
    "    return a*b*c"
   ]
  },
  {
   "cell_type": "code",
   "execution_count": 31,
   "id": "cd9bd9f8",
   "metadata": {},
   "outputs": [
    {
     "data": {
      "text/plain": [
       "6000"
      ]
     },
     "execution_count": 31,
     "metadata": {},
     "output_type": "execute_result"
    }
   ],
   "source": [
    "number(10,20)"
   ]
  },
  {
   "cell_type": "code",
   "execution_count": 32,
   "id": "3f8ebefd",
   "metadata": {},
   "outputs": [],
   "source": [
    "#variable length argument / function overloading\n",
    "##### python does not support function overlaoding\n",
    "def number(a,b,c,d):\n",
    "    return a*b*c*d\n",
    "def number(a,b,c,d,e):\n",
    "    return a*b*c*d*e"
   ]
  },
  {
   "cell_type": "code",
   "execution_count": 34,
   "id": "8e457485",
   "metadata": {},
   "outputs": [
    {
     "ename": "TypeError",
     "evalue": "number() missing 1 required positional argument: 'e'",
     "output_type": "error",
     "traceback": [
      "\u001b[1;31m---------------------------------------------------------------------------\u001b[0m",
      "\u001b[1;31mTypeError\u001b[0m                                 Traceback (most recent call last)",
      "Cell \u001b[1;32mIn[34], line 1\u001b[0m\n\u001b[1;32m----> 1\u001b[0m number(\u001b[38;5;241m10\u001b[39m,\u001b[38;5;241m20\u001b[39m,\u001b[38;5;241m30\u001b[39m,\u001b[38;5;241m40\u001b[39m)\n",
      "\u001b[1;31mTypeError\u001b[0m: number() missing 1 required positional argument: 'e'"
     ]
    }
   ],
   "source": [
    "number(10,20,30,40)    # in python it will take recent defination always"
   ]
  },
  {
   "cell_type": "code",
   "execution_count": 35,
   "id": "1819e813",
   "metadata": {},
   "outputs": [
    {
     "data": {
      "text/plain": [
       "12000000"
      ]
     },
     "execution_count": 35,
     "metadata": {},
     "output_type": "execute_result"
    }
   ],
   "source": [
    "number(10,20,30,40,50)"
   ]
  },
  {
   "cell_type": "code",
   "execution_count": 37,
   "id": "88a52292",
   "metadata": {},
   "outputs": [],
   "source": [
    "def number(*a):\n",
    "    return a"
   ]
  },
  {
   "cell_type": "code",
   "execution_count": 39,
   "id": "c0db030a",
   "metadata": {},
   "outputs": [
    {
     "data": {
      "text/plain": [
       "(10, 20, 30, 4, 0, 51)"
      ]
     },
     "execution_count": 39,
     "metadata": {},
     "output_type": "execute_result"
    }
   ],
   "source": [
    "number(10,20,30,4,0,51)   # it will give a tuple"
   ]
  },
  {
   "cell_type": "markdown",
   "id": "9a45e493",
   "metadata": {},
   "source": [
    "# ###Write a function called cal_area( ) using default argument concept which accepts radius and pi as arguments and calculates and displays area of the Circle. The value of pi should be used as default argument and value of radius should be accepted from the user"
   ]
  },
  {
   "cell_type": "code",
   "execution_count": 41,
   "id": "4d8a1688",
   "metadata": {},
   "outputs": [],
   "source": [
    "def cal_area(radius,pie=3.14):\n",
    "    return pie*(radius**2)"
   ]
  },
  {
   "cell_type": "code",
   "execution_count": 42,
   "id": "1385cdb1",
   "metadata": {},
   "outputs": [
    {
     "name": "stdout",
     "output_type": "stream",
     "text": [
      "enter the radius10\n"
     ]
    },
    {
     "data": {
      "text/plain": [
       "314.0"
      ]
     },
     "execution_count": 42,
     "metadata": {},
     "output_type": "execute_result"
    }
   ],
   "source": [
    "radius = int(input(\"enter the radius\"))\n",
    "cal_area(radius)"
   ]
  },
  {
   "cell_type": "markdown",
   "id": "7a1a9509",
   "metadata": {},
   "source": [
    "### Write a function called find_largest( ) which accepts multiple strings as argument and returns the length of the largest string"
   ]
  },
  {
   "cell_type": "code",
   "execution_count": 64,
   "id": "f8d6244e",
   "metadata": {},
   "outputs": [],
   "source": [
    "def find_largest():\n",
    "    list=[]\n",
    "    n = (input(\"enter string with space\")).split(\" \")\n",
    "    for i in n :\n",
    "        list.append(len(i))\n",
    "        return max(list)"
   ]
  },
  {
   "cell_type": "code",
   "execution_count": 66,
   "id": "eb1890cf",
   "metadata": {},
   "outputs": [
    {
     "name": "stdout",
     "output_type": "stream",
     "text": [
      "enter string with spaceassdd gege gergerer\n"
     ]
    },
    {
     "data": {
      "text/plain": [
       "5"
      ]
     },
     "execution_count": 66,
     "metadata": {},
     "output_type": "execute_result"
    }
   ],
   "source": [
    "find_largest()"
   ]
  },
  {
   "cell_type": "code",
   "execution_count": 67,
   "id": "57a658dc",
   "metadata": {},
   "outputs": [],
   "source": [
    "def number(*a):\n",
    "    return a , sum(a)"
   ]
  },
  {
   "cell_type": "code",
   "execution_count": 69,
   "id": "7c8c6874",
   "metadata": {},
   "outputs": [
    {
     "data": {
      "text/plain": [
       "((10, 20, 40), 70)"
      ]
     },
     "execution_count": 69,
     "metadata": {},
     "output_type": "execute_result"
    }
   ],
   "source": [
    "number(10,20,40)"
   ]
  },
  {
   "cell_type": "markdown",
   "id": "52886525",
   "metadata": {},
   "source": [
    "### Write a Python function to find the maximum of three number"
   ]
  },
  {
   "cell_type": "code",
   "execution_count": 79,
   "id": "05cc7c6d",
   "metadata": {},
   "outputs": [],
   "source": [
    "def max_number():\n",
    "    n=input(\"enter the no.\").split()\n",
    "    return max(list(n))"
   ]
  },
  {
   "cell_type": "code",
   "execution_count": 81,
   "id": "772eb4d9",
   "metadata": {},
   "outputs": [
    {
     "name": "stdout",
     "output_type": "stream",
     "text": [
      "enter the no.566594956 65649945622 644626494\n"
     ]
    },
    {
     "data": {
      "text/plain": [
       "'65649945622'"
      ]
     },
     "execution_count": 81,
     "metadata": {},
     "output_type": "execute_result"
    }
   ],
   "source": [
    "max_number()"
   ]
  },
  {
   "cell_type": "markdown",
   "id": "5b2c61f3",
   "metadata": {},
   "source": [
    "### Write a Python function to sum all the numbers in a list."
   ]
  },
  {
   "cell_type": "code",
   "execution_count": 12,
   "id": "b7c1527d",
   "metadata": {},
   "outputs": [],
   "source": [
    "def sum_number(*n):\n",
    "    total = 0\n",
    "    for i in n:\n",
    "        total += i\n",
    "    return total"
   ]
  },
  {
   "cell_type": "code",
   "execution_count": 13,
   "id": "d69d5c34",
   "metadata": {},
   "outputs": [
    {
     "data": {
      "text/plain": [
       "5"
      ]
     },
     "execution_count": 13,
     "metadata": {},
     "output_type": "execute_result"
    }
   ],
   "source": [
    "sum_number(2,3)"
   ]
  },
  {
   "cell_type": "code",
   "execution_count": null,
   "id": "258aa756",
   "metadata": {},
   "outputs": [],
   "source": []
  }
 ],
 "metadata": {
  "kernelspec": {
   "display_name": "Python 3 (ipykernel)",
   "language": "python",
   "name": "python3"
  },
  "language_info": {
   "codemirror_mode": {
    "name": "ipython",
    "version": 3
   },
   "file_extension": ".py",
   "mimetype": "text/x-python",
   "name": "python",
   "nbconvert_exporter": "python",
   "pygments_lexer": "ipython3",
   "version": "3.11.5"
  }
 },
 "nbformat": 4,
 "nbformat_minor": 5
}
