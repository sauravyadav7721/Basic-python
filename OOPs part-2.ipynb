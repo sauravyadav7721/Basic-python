{
 "cells": [
  {
   "cell_type": "markdown",
   "id": "f31086fa",
   "metadata": {},
   "source": [
    "### Polymorphism\n",
    "\n",
    "multiple beaviour of entity in different situation"
   ]
  },
  {
   "cell_type": "code",
   "execution_count": 1,
   "id": "1ea99b13",
   "metadata": {},
   "outputs": [],
   "source": [
    "def add(a,b):\n",
    "    return a+b"
   ]
  },
  {
   "cell_type": "code",
   "execution_count": 2,
   "id": "d1a4f166",
   "metadata": {},
   "outputs": [
    {
     "data": {
      "text/plain": [
       "9"
      ]
     },
     "execution_count": 2,
     "metadata": {},
     "output_type": "execute_result"
    }
   ],
   "source": [
    "add(5,4)  #here this func. is performing addititon "
   ]
  },
  {
   "cell_type": "code",
   "execution_count": 4,
   "id": "e021b468",
   "metadata": {},
   "outputs": [
    {
     "data": {
      "text/plain": [
       "'sauravyadav'"
      ]
     },
     "execution_count": 4,
     "metadata": {},
     "output_type": "execute_result"
    }
   ],
   "source": [
    "add(\"saurav\",\"yadav\")   #here this func. is performing concatenation\n",
    "#this show the multiple beaviour of func. in different situation"
   ]
  },
  {
   "cell_type": "code",
   "execution_count": 5,
   "id": "1fdd69c5",
   "metadata": {},
   "outputs": [],
   "source": [
    "class data_science:\n",
    "    def intro(self):\n",
    "        print(\"welcome to data science world\")"
   ]
  },
  {
   "cell_type": "code",
   "execution_count": 6,
   "id": "a736d4fb",
   "metadata": {},
   "outputs": [],
   "source": [
    "class web_dev:\n",
    "    def intro(self):\n",
    "        print(\"welcome to web dev world\")"
   ]
  },
  {
   "cell_type": "code",
   "execution_count": 7,
   "id": "a7668d81",
   "metadata": {},
   "outputs": [],
   "source": [
    "obj1= data_science()"
   ]
  },
  {
   "cell_type": "code",
   "execution_count": 10,
   "id": "36bb4df3",
   "metadata": {},
   "outputs": [
    {
     "name": "stdout",
     "output_type": "stream",
     "text": [
      "welcome to data science world\n"
     ]
    }
   ],
   "source": [
    "obj1.intro()"
   ]
  },
  {
   "cell_type": "code",
   "execution_count": 11,
   "id": "4fedd539",
   "metadata": {},
   "outputs": [],
   "source": [
    "obj2= web_dev()"
   ]
  },
  {
   "cell_type": "code",
   "execution_count": 12,
   "id": "8ecd242a",
   "metadata": {},
   "outputs": [
    {
     "name": "stdout",
     "output_type": "stream",
     "text": [
      "welcome to web dev world\n"
     ]
    }
   ],
   "source": [
    "obj2.intro()"
   ]
  },
  {
   "cell_type": "code",
   "execution_count": 14,
   "id": "327d760f",
   "metadata": {},
   "outputs": [
    {
     "name": "stdout",
     "output_type": "stream",
     "text": [
      "welcome to data science world\n",
      "welcome to web dev world\n"
     ]
    }
   ],
   "source": [
    "for i in (obj1,obj2):\n",
    "     i.intro()"
   ]
  },
  {
   "cell_type": "markdown",
   "id": "badf7771",
   "metadata": {},
   "source": [
    "### Encapsulation\n",
    "\n",
    " Bundling similar data members and functions inside a class also helps in data hiding."
   ]
  },
  {
   "cell_type": "code",
   "execution_count": 17,
   "id": "80a94e8f",
   "metadata": {},
   "outputs": [],
   "source": [
    "class test : \n",
    "    def __init__(self , a, b ):\n",
    "        self.a = a \n",
    "        self.b = b"
   ]
  },
  {
   "cell_type": "code",
   "execution_count": 19,
   "id": "70fdc2eb",
   "metadata": {},
   "outputs": [],
   "source": [
    "obj=test(23,25)"
   ]
  },
  {
   "cell_type": "code",
   "execution_count": 20,
   "id": "04a1e5ae",
   "metadata": {},
   "outputs": [
    {
     "data": {
      "text/plain": [
       "23"
      ]
     },
     "execution_count": 20,
     "metadata": {},
     "output_type": "execute_result"
    }
   ],
   "source": [
    "obj.a   #here can access the variable and also do manipulation also"
   ]
  },
  {
   "cell_type": "code",
   "execution_count": 21,
   "id": "cb7a7588",
   "metadata": {},
   "outputs": [],
   "source": [
    "obj.a = 500"
   ]
  },
  {
   "cell_type": "code",
   "execution_count": 23,
   "id": "8b4e9c77",
   "metadata": {},
   "outputs": [
    {
     "data": {
      "text/plain": [
       "500"
      ]
     },
     "execution_count": 23,
     "metadata": {},
     "output_type": "execute_result"
    }
   ],
   "source": [
    "obj.a  #so to stop this we do encapsulation"
   ]
  },
  {
   "cell_type": "code",
   "execution_count": 24,
   "id": "fcb9059f",
   "metadata": {},
   "outputs": [],
   "source": [
    "class car:\n",
    "    def __init__(self,model,maker,brand,speed):\n",
    "        self.__model=model    #By using double underscore we bind the vriable form direct access\n",
    "        self.__maker=maker\n",
    "        self.__brand=brand\n",
    "        self.__speed=speed"
   ]
  },
  {
   "cell_type": "code",
   "execution_count": 26,
   "id": "1a894224",
   "metadata": {},
   "outputs": [],
   "source": [
    "car1=car(2024,\"toyata\",\"innova\",120)"
   ]
  },
  {
   "cell_type": "code",
   "execution_count": 27,
   "id": "331de2e3",
   "metadata": {},
   "outputs": [
    {
     "data": {
      "text/plain": [
       "<__main__.car at 0x1dd334f1f90>"
      ]
     },
     "execution_count": 27,
     "metadata": {},
     "output_type": "execute_result"
    }
   ],
   "source": [
    "car1"
   ]
  },
  {
   "cell_type": "code",
   "execution_count": 29,
   "id": "119676e8",
   "metadata": {},
   "outputs": [
    {
     "data": {
      "text/plain": [
       "2024"
      ]
     },
     "execution_count": 29,
     "metadata": {},
     "output_type": "execute_result"
    }
   ],
   "source": [
    "car1._car__model  #first method "
   ]
  },
  {
   "cell_type": "code",
   "execution_count": 32,
   "id": "cd7a9941",
   "metadata": {},
   "outputs": [],
   "source": [
    "#second method\n",
    "class car:\n",
    "    def __init__(self,model,maker,brand,speed):\n",
    "        self.__model=model    #By using double underscore we bind the vriable form direct access\n",
    "        self.__maker=maker\n",
    "        self.__brand=brand\n",
    "        self.__speed=speed\n",
    "        #def func for manipulation \n",
    "    def change_speed(self,speed):\n",
    "            self.__speed = 0 if speed < 0 else speed\n",
    "        #def func for access the values\n",
    "    def get_speed(self):\n",
    "        return self.__speed"
   ]
  },
  {
   "cell_type": "code",
   "execution_count": 33,
   "id": "7ac09d1c",
   "metadata": {},
   "outputs": [],
   "source": [
    "car1=car(2024,\"toyata\",\"innova\",120)"
   ]
  },
  {
   "cell_type": "code",
   "execution_count": 34,
   "id": "5932aa6e",
   "metadata": {},
   "outputs": [],
   "source": [
    "car1.change_speed(50)"
   ]
  },
  {
   "cell_type": "code",
   "execution_count": 35,
   "id": "af5a9306",
   "metadata": {},
   "outputs": [
    {
     "data": {
      "text/plain": [
       "50"
      ]
     },
     "execution_count": 35,
     "metadata": {},
     "output_type": "execute_result"
    }
   ],
   "source": [
    "car1.get_speed()"
   ]
  },
  {
   "cell_type": "code",
   "execution_count": 50,
   "id": "cd720ba2",
   "metadata": {},
   "outputs": [],
   "source": [
    "class bank:\n",
    "    def __init__(self,balance):\n",
    "        self.__balance=balance\n",
    "    def deposit(self,deposit):\n",
    "        self.__balance = deposit + self.__balance\n",
    "    def withdraw(self,withdraw):\n",
    "        self.__balance = self.__balance - withdraw\n",
    "    def get_balance(self):\n",
    "        return self.__balance"
   ]
  },
  {
   "cell_type": "code",
   "execution_count": 51,
   "id": "5cd5eaac",
   "metadata": {},
   "outputs": [],
   "source": [
    "saurav=bank(1000)"
   ]
  },
  {
   "cell_type": "code",
   "execution_count": 52,
   "id": "2da7dd26",
   "metadata": {},
   "outputs": [
    {
     "data": {
      "text/plain": [
       "1000"
      ]
     },
     "execution_count": 52,
     "metadata": {},
     "output_type": "execute_result"
    }
   ],
   "source": [
    "saurav.get_balance()"
   ]
  },
  {
   "cell_type": "code",
   "execution_count": 53,
   "id": "e9a1444c",
   "metadata": {},
   "outputs": [],
   "source": [
    "saurav.deposit(1000)"
   ]
  },
  {
   "cell_type": "code",
   "execution_count": 54,
   "id": "430648e0",
   "metadata": {},
   "outputs": [
    {
     "data": {
      "text/plain": [
       "2000"
      ]
     },
     "execution_count": 54,
     "metadata": {},
     "output_type": "execute_result"
    }
   ],
   "source": [
    "saurav.get_balance()"
   ]
  },
  {
   "cell_type": "code",
   "execution_count": 55,
   "id": "68e6dc9a",
   "metadata": {},
   "outputs": [],
   "source": [
    "saurav.deposit(10000)"
   ]
  },
  {
   "cell_type": "code",
   "execution_count": 56,
   "id": "e0d09a51",
   "metadata": {},
   "outputs": [
    {
     "data": {
      "text/plain": [
       "12000"
      ]
     },
     "execution_count": 56,
     "metadata": {},
     "output_type": "execute_result"
    }
   ],
   "source": [
    "saurav.get_balance()"
   ]
  },
  {
   "cell_type": "code",
   "execution_count": 57,
   "id": "aa374f15",
   "metadata": {},
   "outputs": [],
   "source": [
    "saurav.withdraw(5000)"
   ]
  },
  {
   "cell_type": "code",
   "execution_count": 58,
   "id": "204544ac",
   "metadata": {},
   "outputs": [
    {
     "data": {
      "text/plain": [
       "7000"
      ]
     },
     "execution_count": 58,
     "metadata": {},
     "output_type": "execute_result"
    }
   ],
   "source": [
    "saurav.get_balance()"
   ]
  },
  {
   "cell_type": "code",
   "execution_count": 59,
   "id": "592b7a68",
   "metadata": {},
   "outputs": [],
   "source": [
    "class student :\n",
    "    def __init__(self, name , roll ,marks ) :\n",
    "        self.__name = name \n",
    "        self.__marks= marks\n",
    "        self.roll = roll\n",
    "    def getmarks(self ):\n",
    "        return  self.__marks\n",
    "    def setmarks (self ,marks):\n",
    "        self.__marks = self.__marks + marks\n",
    "\n",
    "    def rmmarks (self ,marks):\n",
    "        self.__marks = self.__marks - marks\n"
   ]
  },
  {
   "cell_type": "code",
   "execution_count": 60,
   "id": "9f5308d9",
   "metadata": {},
   "outputs": [],
   "source": [
    "s1 = student(\"om\",11,100)"
   ]
  },
  {
   "cell_type": "code",
   "execution_count": 61,
   "id": "f5811942",
   "metadata": {},
   "outputs": [
    {
     "name": "stdout",
     "output_type": "stream",
     "text": [
      "100\n"
     ]
    }
   ],
   "source": [
    "print(s1.getmarks())"
   ]
  },
  {
   "cell_type": "code",
   "execution_count": 62,
   "id": "718b63fc",
   "metadata": {},
   "outputs": [],
   "source": [
    "s1.setmarks(2000)"
   ]
  },
  {
   "cell_type": "code",
   "execution_count": 63,
   "id": "2e9ce64d",
   "metadata": {},
   "outputs": [
    {
     "name": "stdout",
     "output_type": "stream",
     "text": [
      "2100\n"
     ]
    }
   ],
   "source": [
    "print(s1.getmarks())"
   ]
  },
  {
   "cell_type": "code",
   "execution_count": 64,
   "id": "18507e38",
   "metadata": {},
   "outputs": [
    {
     "data": {
      "text/plain": [
       "2100"
      ]
     },
     "execution_count": 64,
     "metadata": {},
     "output_type": "execute_result"
    }
   ],
   "source": [
    "s1._student__marks"
   ]
  },
  {
   "cell_type": "code",
   "execution_count": null,
   "id": "9b52507f",
   "metadata": {},
   "outputs": [],
   "source": []
  }
 ],
 "metadata": {
  "kernelspec": {
   "display_name": "Python 3 (ipykernel)",
   "language": "python",
   "name": "python3"
  },
  "language_info": {
   "codemirror_mode": {
    "name": "ipython",
    "version": 3
   },
   "file_extension": ".py",
   "mimetype": "text/x-python",
   "name": "python",
   "nbconvert_exporter": "python",
   "pygments_lexer": "ipython3",
   "version": "3.11.5"
  }
 },
 "nbformat": 4,
 "nbformat_minor": 5
}
