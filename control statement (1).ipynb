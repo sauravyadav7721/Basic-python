{
 "cells": [
  {
   "cell_type": "code",
   "execution_count": 1,
   "id": "baef5e52",
   "metadata": {},
   "outputs": [
    {
     "name": "stdout",
     "output_type": "stream",
     "text": [
      "Enter a no.5\n",
      "the no. is odd\n"
     ]
    }
   ],
   "source": [
    "a=int(input(\"Enter a no.\"))\n",
    "n=a%2\n",
    "if n==0:\n",
    "    print(\"the no. is even\")\n",
    "else:\n",
    "    print(\"the no. is odd\")"
   ]
  },
  {
   "cell_type": "code",
   "execution_count": 2,
   "id": "13ff875b",
   "metadata": {},
   "outputs": [
    {
     "name": "stdout",
     "output_type": "stream",
     "text": [
      "Enter a charsaurav\n",
      "the char is small\n"
     ]
    }
   ],
   "source": [
    "a=str(input(\"Enter a char\"))\n",
    "if \"A\"<=a[0]<=\"Z\":\n",
    "    print(\"the char is capital\")\n",
    "else:\n",
    "    print(\"the char is small\")"
   ]
  },
  {
   "cell_type": "code",
   "execution_count": 3,
   "id": "d0399d99",
   "metadata": {},
   "outputs": [
    {
     "name": "stdout",
     "output_type": "stream",
     "text": [
      "Enter namesaurav\n",
      "s\n",
      "r\n",
      "v\n"
     ]
    }
   ],
   "source": [
    "a=str(input(\"Enter name\"))\n",
    "i=0\n",
    "while i<len(a):\n",
    "    if a[i] in [\"a\",\"i\",\"e\",\"o\",\"u\"]:\n",
    "        pass\n",
    "    else:\n",
    "        print(a[i])\n",
    "    i=i+1\n",
    "\n",
    "    "
   ]
  },
  {
   "cell_type": "code",
   "execution_count": 4,
   "id": "2f2d6e27",
   "metadata": {},
   "outputs": [
    {
     "name": "stdout",
     "output_type": "stream",
     "text": [
      "enter first no.5\n",
      "enter second no.6\n",
      "enter third no.9\n",
      "Third no. is greatest\n"
     ]
    }
   ],
   "source": [
    "a=int(input(\"enter first no.\"))\n",
    "b=int(input(\"enter second no.\"))\n",
    "c=int(input(\"enter third no.\"))\n",
    "if a>b and a>c:\n",
    "    print(\"First no. is greatest\")\n",
    "elif b>a and b>c:\n",
    "    print(\"Second no. is greatest\")\n",
    "else:\n",
    "    print(\"Third no. is greatest\")"
   ]
  },
  {
   "cell_type": "code",
   "execution_count": 5,
   "id": "cbe0d554",
   "metadata": {},
   "outputs": [
    {
     "name": "stdout",
     "output_type": "stream",
     "text": [
      "Enter a year2012\n",
      "This yera is leap year\n"
     ]
    }
   ],
   "source": [
    "year=int(input(\"Enter a year\"))\n",
    "x=year%4\n",
    "y=year%100\n",
    "if x==0 and y!=0:\n",
    "    print(\"This yera is leap year\")\n",
    "else:\n",
    "    print(\"This year is not leap year\")"
   ]
  },
  {
   "cell_type": "code",
   "execution_count": 3,
   "id": "ea7c6b7e",
   "metadata": {
    "scrolled": false
   },
   "outputs": [
    {
     "name": "stdout",
     "output_type": "stream",
     "text": [
      "2\n",
      "3\n",
      "5\n",
      "9\n",
      "2\n",
      "6\n"
     ]
    }
   ],
   "source": [
    "list = [2,3,5,9,2,6]\n",
    "for i in list :\n",
    "    print(i)"
   ]
  },
  {
   "cell_type": "code",
   "execution_count": 8,
   "id": "9d457eb2",
   "metadata": {},
   "outputs": [
    {
     "name": "stdout",
     "output_type": "stream",
     "text": [
      "7776\n"
     ]
    }
   ],
   "source": [
    "list = [2,3,6,8,3,9]\n",
    "i = 1\n",
    "for n in list :\n",
    "    i *= n\n",
    "print(i)"
   ]
  },
  {
   "cell_type": "code",
   "execution_count": 10,
   "id": "92d75b05",
   "metadata": {},
   "outputs": [
    {
     "name": "stdout",
     "output_type": "stream",
     "text": [
      "0\n",
      "1\n",
      "2\n",
      "3\n",
      "4\n",
      "5\n",
      "6\n",
      "7\n",
      "8\n",
      "9\n",
      "10\n"
     ]
    }
   ],
   "source": [
    "for i in range(0,11) :\n",
    "    print(i)"
   ]
  },
  {
   "cell_type": "code",
   "execution_count": 11,
   "id": "fbc8d62f",
   "metadata": {},
   "outputs": [
    {
     "name": "stdout",
     "output_type": "stream",
     "text": [
      "10\n",
      "9\n",
      "8\n",
      "7\n",
      "6\n",
      "5\n",
      "4\n",
      "3\n",
      "2\n",
      "1\n"
     ]
    }
   ],
   "source": [
    "for i in range(10,0,-1) :\n",
    "    print(i)"
   ]
  },
  {
   "cell_type": "code",
   "execution_count": 12,
   "id": "45b869eb",
   "metadata": {},
   "outputs": [
    {
     "name": "stdout",
     "output_type": "stream",
     "text": [
      "s\n",
      "a\n",
      "u\n",
      "r\n",
      "a\n",
      "v\n"
     ]
    }
   ],
   "source": [
    "name = \"saurav\"\n",
    "for i in name:\n",
    "    print(i)"
   ]
  },
  {
   "cell_type": "code",
   "execution_count": 29,
   "id": "173e2569",
   "metadata": {},
   "outputs": [
    {
     "name": "stdout",
     "output_type": "stream",
     "text": [
      "96\n"
     ]
    }
   ],
   "source": [
    "list = [65, 29, 2, 5, 69, 75, 35, 15, 96]\n",
    "l = list[0]\n",
    "for i in list :\n",
    "    if i > l :\n",
    "        l = num\n",
    "print(l)"
   ]
  },
  {
   "cell_type": "code",
   "execution_count": 38,
   "id": "9a33516e",
   "metadata": {},
   "outputs": [
    {
     "name": "stdout",
     "output_type": "stream",
     "text": [
      "48.875\n"
     ]
    }
   ],
   "source": [
    "list = [65, 29, 2, 5, 69, 75, 35, 15, 96]\n",
    "i = 0\n",
    "for num in list :\n",
    "    i += num\n",
    "avg = i / (len(list) - 1)\n",
    "print(avg)"
   ]
  },
  {
   "cell_type": "code",
   "execution_count": 41,
   "id": "9a874398",
   "metadata": {},
   "outputs": [
    {
     "name": "stdout",
     "output_type": "stream",
     "text": [
      "S\n"
     ]
    }
   ],
   "source": [
    "name = \"Saurav yadav\"\n",
    "for i in name :\n",
    "    if i.isupper():\n",
    "        print(i)"
   ]
  },
  {
   "cell_type": "code",
   "execution_count": 45,
   "id": "22ec5333",
   "metadata": {},
   "outputs": [
    {
     "name": "stdout",
     "output_type": "stream",
     "text": [
      "5\n"
     ]
    }
   ],
   "source": [
    "name = \"Saurav yadav\"\n",
    "vowel = \"aeoiuAEOIU\"\n",
    "count = 0\n",
    "for i in name :\n",
    "     if i in vowel :\n",
    "        count += 1\n",
    "print(count)"
   ]
  },
  {
   "cell_type": "code",
   "execution_count": 47,
   "id": "f886a967",
   "metadata": {},
   "outputs": [
    {
     "name": "stdout",
     "output_type": "stream",
     "text": [
      "*\n",
      "**\n",
      "***\n",
      "****\n",
      "*****\n"
     ]
    }
   ],
   "source": [
    "for i in range(5):\n",
    "    for j in range(i + 1):\n",
    "        print(\"*\", end=\"\")\n",
    "    print()"
   ]
  },
  {
   "cell_type": "code",
   "execution_count": 55,
   "id": "e1a5ccae",
   "metadata": {},
   "outputs": [
    {
     "name": "stdout",
     "output_type": "stream",
     "text": [
      "2\n",
      "3\n",
      "5\n",
      "7\n",
      "11\n",
      "13\n",
      "17\n",
      "19\n",
      "23\n",
      "29\n",
      "31\n",
      "37\n",
      "41\n",
      "43\n",
      "47\n"
     ]
    }
   ],
   "source": [
    "for num in range(2, 51):\n",
    "    for i in range(2, num):\n",
    "        if num % i == 0:\n",
    "            break\n",
    "    else:\n",
    "        print(num)     "
   ]
  },
  {
   "cell_type": "code",
   "execution_count": null,
   "id": "5e8baa29",
   "metadata": {},
   "outputs": [],
   "source": []
  }
 ],
 "metadata": {
  "kernelspec": {
   "display_name": "Python 3 (ipykernel)",
   "language": "python",
   "name": "python3"
  },
  "language_info": {
   "codemirror_mode": {
    "name": "ipython",
    "version": 3
   },
   "file_extension": ".py",
   "mimetype": "text/x-python",
   "name": "python",
   "nbconvert_exporter": "python",
   "pygments_lexer": "ipython3",
   "version": "3.11.5"
  }
 },
 "nbformat": 4,
 "nbformat_minor": 5
}
