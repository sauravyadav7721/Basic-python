{
 "cells": [
  {
   "cell_type": "code",
   "execution_count": 3,
   "id": "6520c832",
   "metadata": {},
   "outputs": [
    {
     "data": {
      "text/plain": [
       "30"
      ]
     },
     "execution_count": 3,
     "metadata": {},
     "output_type": "execute_result"
    }
   ],
   "source": [
    "a=10\n",
    "b=20\n",
    "a+b"
   ]
  },
  {
   "cell_type": "code",
   "execution_count": 5,
   "id": "8692c831",
   "metadata": {},
   "outputs": [
    {
     "name": "stdout",
     "output_type": "stream",
     "text": [
      "10\n",
      "20\n"
     ]
    }
   ],
   "source": [
    "print(a)\n",
    "print(b)"
   ]
  },
  {
   "cell_type": "code",
   "execution_count": 24,
   "id": "667a627a",
   "metadata": {},
   "outputs": [
    {
     "name": "stdout",
     "output_type": "stream",
     "text": [
      "10#20\n"
     ]
    }
   ],
   "source": [
    "print(a,end='#')\n",
    "print(b)"
   ]
  },
  {
   "cell_type": "code",
   "execution_count": 6,
   "id": "4eb65421",
   "metadata": {},
   "outputs": [
    {
     "name": "stdout",
     "output_type": "stream",
     "text": [
      "10\n",
      "20\n"
     ]
    }
   ],
   "source": [
    "print(a,end='\\n')\n",
    "print(b)"
   ]
  },
  {
   "cell_type": "code",
   "execution_count": 7,
   "id": "ebc5d81c",
   "metadata": {},
   "outputs": [
    {
     "name": "stdout",
     "output_type": "stream",
     "text": [
      "10\t20\n"
     ]
    }
   ],
   "source": [
    "print(a,end='\\t')\n",
    "print(b)"
   ]
  },
  {
   "cell_type": "code",
   "execution_count": 8,
   "id": "7229962f",
   "metadata": {},
   "outputs": [
    {
     "name": "stdout",
     "output_type": "stream",
     "text": [
      "10\b20\n"
     ]
    }
   ],
   "source": [
    "print(a,end='\\b')\n",
    "print(b)"
   ]
  },
  {
   "cell_type": "code",
   "execution_count": 9,
   "id": "8cf9d526",
   "metadata": {},
   "outputs": [
    {
     "name": "stdout",
     "output_type": "stream",
     "text": [
      "10\n",
      "20\n"
     ]
    }
   ],
   "source": [
    "print(a,sep='')\n",
    "print(b)"
   ]
  },
  {
   "cell_type": "code",
   "execution_count": 7,
   "id": "127059f1",
   "metadata": {},
   "outputs": [
    {
     "name": "stdout",
     "output_type": "stream",
     "text": [
      "10,20"
     ]
    }
   ],
   "source": [
    "print(a,b,sep=',',end='')"
   ]
  },
  {
   "cell_type": "code",
   "execution_count": 10,
   "id": "0cdbd63b",
   "metadata": {},
   "outputs": [
    {
     "name": "stdout",
     "output_type": "stream",
     "text": [
      "enter 1 no.2\n"
     ]
    },
    {
     "data": {
      "text/plain": [
       "'2'"
      ]
     },
     "execution_count": 10,
     "metadata": {},
     "output_type": "execute_result"
    }
   ],
   "source": [
    "input(\"enter 1 no.\",)"
   ]
  },
  {
   "cell_type": "code",
   "execution_count": 15,
   "id": "1b25d8a5",
   "metadata": {},
   "outputs": [
    {
     "name": "stdout",
     "output_type": "stream",
     "text": [
      "enter first no.=2\n",
      "enter second no.=2\n",
      "22\n"
     ]
    }
   ],
   "source": [
    "#simple calculator\n",
    "a=input(\"enter first no.=\")\n",
    "b=input(\"enter second no.=\")\n",
    "c=(a+b)\n",
    "print(c)"
   ]
  },
  {
   "cell_type": "code",
   "execution_count": 1,
   "id": "48dc9005",
   "metadata": {},
   "outputs": [
    {
     "data": {
      "text/plain": [
       "30"
      ]
     },
     "execution_count": 1,
     "metadata": {},
     "output_type": "execute_result"
    }
   ],
   "source": [
    "a=10\n",
    "b=20\n",
    "a+b"
   ]
  },
  {
   "cell_type": "code",
   "execution_count": 4,
   "id": "b2efa637",
   "metadata": {},
   "outputs": [
    {
     "name": "stdout",
     "output_type": "stream",
     "text": [
      "Hello World! I Don't Give a Bug\n"
     ]
    }
   ],
   "source": [
    "# Python Program to print Hello World \n",
    "print(\"Hello World! I Don't Give a Bug\") \n"
   ]
  },
  {
   "cell_type": "code",
   "execution_count": 13,
   "id": "2e453d67",
   "metadata": {},
   "outputs": [
    {
     "name": "stdout",
     "output_type": "stream",
     "text": [
      "Name:- saurav age:- 20\t"
     ]
    }
   ],
   "source": [
    "name=\"saurav\"\n",
    "age=20\n",
    "print(\"Name:-\",name,\"age:-\",age,end='\\t')"
   ]
  },
  {
   "cell_type": "code",
   "execution_count": 18,
   "id": "20c568a9",
   "metadata": {},
   "outputs": [
    {
     "name": "stdout",
     "output_type": "stream",
     "text": [
      "Amount: 150.752\n"
     ]
    }
   ],
   "source": [
    "amount = 150.75202\n",
    "print(\"Amount: {:.3f}\".format(amount))\n"
   ]
  },
  {
   "cell_type": "code",
   "execution_count": 21,
   "id": "06183728",
   "metadata": {},
   "outputs": [
    {
     "name": "stdout",
     "output_type": "stream",
     "text": [
      "Age: 25.23653\n"
     ]
    }
   ],
   "source": [
    "age=25.236525\n",
    "print(\"Age: {:.5f}\".format(age))"
   ]
  },
  {
   "cell_type": "code",
   "execution_count": 28,
   "id": "013ca950",
   "metadata": {},
   "outputs": [
    {
     "name": "stdout",
     "output_type": "stream",
     "text": [
      "09/12/2024\n"
     ]
    }
   ],
   "source": [
    "print('09', '12', '2024', sep='/')"
   ]
  },
  {
   "cell_type": "code",
   "execution_count": 33,
   "id": "117d1bc2",
   "metadata": {},
   "outputs": [
    {
     "name": "stdout",
     "output_type": "stream",
     "text": [
      "hello my name is ('saurav', 'loki') and age (12, 18)\n"
     ]
    }
   ],
   "source": [
    "name=\"saurav\"\n",
    "age=12\n",
    "name1=\"loki\"\n",
    "age1=18\n",
    "print(f\"hello my name is {name,name1} and age {age,age1}\")"
   ]
  },
  {
   "cell_type": "code",
   "execution_count": 34,
   "id": "9b993e89",
   "metadata": {},
   "outputs": [
    {
     "name": "stdout",
     "output_type": "stream",
     "text": [
      "enter a no.5\n",
      "10\n"
     ]
    }
   ],
   "source": [
    "num=int(input(\"enter a no.\"))\n",
    "add=num+5\n",
    "print(add)"
   ]
  },
  {
   "cell_type": "code",
   "execution_count": 36,
   "id": "13e05a32",
   "metadata": {},
   "outputs": [
    {
     "name": "stdout",
     "output_type": "stream",
     "text": [
      "Enter two values: 10 20\n",
      "Number of boys:  10\n",
      "Number of girls:  20\n"
     ]
    }
   ],
   "source": [
    "x, y = input(\"Enter two values: \").split()\n",
    "print(\"Number of boys: \", x)\n",
    "print(\"Number of girls: \", y)"
   ]
  },
  {
   "cell_type": "code",
   "execution_count": 45,
   "id": "315c48a1",
   "metadata": {},
   "outputs": [
    {
     "name": "stdout",
     "output_type": "stream",
     "text": [
      "9\n"
     ]
    }
   ],
   "source": [
    "a=\"4\"\n",
    "b=int(a)\n",
    "sum=b+5\n",
    "print(sum)"
   ]
  },
  {
   "cell_type": "code",
   "execution_count": 46,
   "id": "31602c04",
   "metadata": {},
   "outputs": [
    {
     "data": {
      "text/plain": [
       "int"
      ]
     },
     "execution_count": 46,
     "metadata": {},
     "output_type": "execute_result"
    }
   ],
   "source": [
    "type(b)"
   ]
  },
  {
   "cell_type": "code",
   "execution_count": 47,
   "id": "a50c639d",
   "metadata": {},
   "outputs": [
    {
     "data": {
      "text/plain": [
       "str"
      ]
     },
     "execution_count": 47,
     "metadata": {},
     "output_type": "execute_result"
    }
   ],
   "source": [
    "type(a)"
   ]
  },
  {
   "cell_type": "code",
   "execution_count": 51,
   "id": "df551e1a",
   "metadata": {},
   "outputs": [
    {
     "name": "stdout",
     "output_type": "stream",
     "text": [
      "Initial String: \n",
      "GeeksForGeeks\n",
      "\n",
      "First character of String is: \n",
      "G\n",
      "\n",
      "Last character of String is: \n",
      "s\n"
     ]
    }
   ],
   "source": [
    "String1 = \"GeeksForGeeks\"\n",
    "print(\"Initial String: \")\n",
    "print(String1)\n",
    "print(\"\\nFirst character of String is: \")\n",
    "print(String1[0])\n",
    "print(\"\\nLast character of String is: \")\n",
    "print(String1[-1])\n"
   ]
  },
  {
   "cell_type": "code",
   "execution_count": 1,
   "id": "02c3c824",
   "metadata": {},
   "outputs": [],
   "source": [
    "a=\"saurav\""
   ]
  },
  {
   "cell_type": "code",
   "execution_count": 2,
   "id": "dad5226b",
   "metadata": {},
   "outputs": [
    {
     "name": "stdout",
     "output_type": "stream",
     "text": [
      "r\n"
     ]
    }
   ],
   "source": [
    "print(a[3])"
   ]
  },
  {
   "cell_type": "code",
   "execution_count": 3,
   "id": "436e8fde",
   "metadata": {},
   "outputs": [
    {
     "data": {
      "text/plain": [
       "'r'"
      ]
     },
     "execution_count": 3,
     "metadata": {},
     "output_type": "execute_result"
    }
   ],
   "source": [
    "a[3]"
   ]
  },
  {
   "cell_type": "code",
   "execution_count": 9,
   "id": "dd2eb68b",
   "metadata": {},
   "outputs": [
    {
     "name": "stdout",
     "output_type": "stream",
     "text": [
      "saura\n"
     ]
    }
   ],
   "source": [
    "print(a[:-1])"
   ]
  },
  {
   "cell_type": "code",
   "execution_count": 10,
   "id": "d21a1039",
   "metadata": {},
   "outputs": [
    {
     "data": {
      "text/plain": [
       "6"
      ]
     },
     "execution_count": 10,
     "metadata": {},
     "output_type": "execute_result"
    }
   ],
   "source": [
    "len(a)"
   ]
  },
  {
   "cell_type": "code",
   "execution_count": 11,
   "id": "bc3954f4",
   "metadata": {},
   "outputs": [
    {
     "data": {
      "text/plain": [
       "5"
      ]
     },
     "execution_count": 11,
     "metadata": {},
     "output_type": "execute_result"
    }
   ],
   "source": [
    "len(a)-1"
   ]
  },
  {
   "cell_type": "code",
   "execution_count": 12,
   "id": "f5b99479",
   "metadata": {},
   "outputs": [
    {
     "data": {
      "text/plain": [
       "'r'"
      ]
     },
     "execution_count": 12,
     "metadata": {},
     "output_type": "execute_result"
    }
   ],
   "source": [
    "a[3]"
   ]
  },
  {
   "cell_type": "code",
   "execution_count": 17,
   "id": "0cdbad5f",
   "metadata": {},
   "outputs": [],
   "source": [
    "b=\"saurav yadav\""
   ]
  },
  {
   "cell_type": "code",
   "execution_count": 14,
   "id": "d3127473",
   "metadata": {},
   "outputs": [
    {
     "data": {
      "text/plain": [
       "11"
      ]
     },
     "execution_count": 14,
     "metadata": {},
     "output_type": "execute_result"
    }
   ],
   "source": [
    "len(b)-1"
   ]
  },
  {
   "cell_type": "code",
   "execution_count": 20,
   "id": "48f5ebd7",
   "metadata": {},
   "outputs": [
    {
     "data": {
      "text/plain": [
       "'saurav yadav'"
      ]
     },
     "execution_count": 20,
     "metadata": {},
     "output_type": "execute_result"
    }
   ],
   "source": [
    "b[0:12:1]"
   ]
  },
  {
   "cell_type": "code",
   "execution_count": 21,
   "id": "572bc161",
   "metadata": {},
   "outputs": [
    {
     "data": {
      "text/plain": [
       "'sua aa'"
      ]
     },
     "execution_count": 21,
     "metadata": {},
     "output_type": "execute_result"
    }
   ],
   "source": [
    "b[0:12:2]"
   ]
  },
  {
   "cell_type": "code",
   "execution_count": 22,
   "id": "ad56aee1",
   "metadata": {},
   "outputs": [
    {
     "data": {
      "text/plain": [
       "'vaday varuas'"
      ]
     },
     "execution_count": 22,
     "metadata": {},
     "output_type": "execute_result"
    }
   ],
   "source": [
    "b[::-1]"
   ]
  },
  {
   "cell_type": "code",
   "execution_count": 24,
   "id": "fc689a91",
   "metadata": {},
   "outputs": [
    {
     "name": "stdout",
     "output_type": "stream",
     "text": [
      "Enter first no.=2\n",
      "Enter second no.=2\n",
      "Sum= 4\n"
     ]
    }
   ],
   "source": [
    "a=int(input(\"Enter first no.=\"))\n",
    "b=int(input(\"Enter second no.=\"))\n",
    "c=a+b\n",
    "print(\"Sum=\",c)"
   ]
  },
  {
   "cell_type": "code",
   "execution_count": 30,
   "id": "843b9645",
   "metadata": {},
   "outputs": [
    {
     "name": "stdout",
     "output_type": "stream",
     "text": [
      "Enter the radius:-3\n",
      "circumfrence of circle= 18.84 area of circle= 28.259999999999998\n"
     ]
    }
   ],
   "source": [
    "a=int(input(\"Enter the radius:-\"))\n",
    "b=2*3.14*a\n",
    "c=3.14*a*a\n",
    "print(\"circumfrence of circle=\",b,\"area of circle=\",c)"
   ]
  },
  {
   "cell_type": "code",
   "execution_count": 1,
   "id": "f15cd40a",
   "metadata": {},
   "outputs": [
    {
     "name": "stdout",
     "output_type": "stream",
     "text": [
      "Enter your roll no.=2\n",
      "Enter your grade=A\n",
      "Enter your percentage=96.36\n",
      "Roll no.= 2 Grade= A Precentage= 96.36\n"
     ]
    }
   ],
   "source": [
    "a=int(input(\"Enter your roll no.=\"))\n",
    "b=str(input(\"Enter your grade=\"))\n",
    "c=float(input(\"Enter your percentage=\"))\n",
    "print(\"Roll no.=\",a,\"Grade=\",b,\"Precentage=\",c)\n"
   ]
  },
  {
   "cell_type": "code",
   "execution_count": 3,
   "id": "ba53848e",
   "metadata": {},
   "outputs": [
    {
     "name": "stdout",
     "output_type": "stream",
     "text": [
      "Enter your name=saurav\n",
      "Enter your age=20\n",
      "Your name = saurav You will be of 100 years in  2104\n"
     ]
    }
   ],
   "source": [
    "a=str(input(\"Enter your name=\"))\n",
    "b=int(input(\"Enter your age=\"))\n",
    "c=2024-b\n",
    "d=100+c\n",
    "print(\"Your name =\",a,\"You will be of 100 years in \",d)"
   ]
  },
  {
   "cell_type": "code",
   "execution_count": 6,
   "id": "9c37d530",
   "metadata": {},
   "outputs": [
    {
     "name": "stdout",
     "output_type": "stream",
     "text": [
      "Enter your first name=saurav\n",
      "Enter your second name=yadav\n",
      "varuas vaday\n"
     ]
    }
   ],
   "source": [
    "a=str(input(\"Enter your first name=\"))\n",
    "b=str(input(\"Enter your second name=\"))\n",
    "print(a[::-1],b[::-1])"
   ]
  },
  {
   "cell_type": "code",
   "execution_count": 1,
   "id": "bd35d1ee",
   "metadata": {},
   "outputs": [
    {
     "name": "stdout",
     "output_type": "stream",
     "text": [
      "11\n",
      "1\n",
      "30\n",
      "0.8333333333333334\n",
      "1\n",
      "15625\n",
      "0\n"
     ]
    }
   ],
   "source": [
    "a=5\n",
    "b=6\n",
    "print(a+b)\n",
    "print(b-a)\n",
    "print(a*b)\n",
    "print(a/b)\n",
    "print(b%a)\n",
    "print(a**b)\n",
    "print(a//b)"
   ]
  },
  {
   "cell_type": "code",
   "execution_count": 15,
   "id": "393097e6",
   "metadata": {},
   "outputs": [],
   "source": [
    "x=5\n",
    "y=10\n"
   ]
  },
  {
   "cell_type": "code",
   "execution_count": 16,
   "id": "34dd613b",
   "metadata": {},
   "outputs": [
    {
     "data": {
      "text/plain": [
       "False"
      ]
     },
     "execution_count": 16,
     "metadata": {},
     "output_type": "execute_result"
    }
   ],
   "source": [
    "x>y"
   ]
  },
  {
   "cell_type": "code",
   "execution_count": 17,
   "id": "24712a13",
   "metadata": {},
   "outputs": [
    {
     "data": {
      "text/plain": [
       "True"
      ]
     },
     "execution_count": 17,
     "metadata": {},
     "output_type": "execute_result"
    }
   ],
   "source": [
    "x<y\n"
   ]
  },
  {
   "cell_type": "code",
   "execution_count": 18,
   "id": "4fb16706",
   "metadata": {},
   "outputs": [
    {
     "data": {
      "text/plain": [
       "False"
      ]
     },
     "execution_count": 18,
     "metadata": {},
     "output_type": "execute_result"
    }
   ],
   "source": [
    "x>=y\n"
   ]
  },
  {
   "cell_type": "code",
   "execution_count": 19,
   "id": "03319268",
   "metadata": {},
   "outputs": [
    {
     "data": {
      "text/plain": [
       "True"
      ]
     },
     "execution_count": 19,
     "metadata": {},
     "output_type": "execute_result"
    }
   ],
   "source": [
    "x<=y\n"
   ]
  },
  {
   "cell_type": "code",
   "execution_count": 20,
   "id": "518f2881",
   "metadata": {},
   "outputs": [
    {
     "data": {
      "text/plain": [
       "False"
      ]
     },
     "execution_count": 20,
     "metadata": {},
     "output_type": "execute_result"
    }
   ],
   "source": [
    "x==y\n"
   ]
  },
  {
   "cell_type": "code",
   "execution_count": 21,
   "id": "19313d88",
   "metadata": {},
   "outputs": [
    {
     "data": {
      "text/plain": [
       "True"
      ]
     },
     "execution_count": 21,
     "metadata": {},
     "output_type": "execute_result"
    }
   ],
   "source": [
    "x!=y"
   ]
  },
  {
   "cell_type": "code",
   "execution_count": 22,
   "id": "8091bd56",
   "metadata": {},
   "outputs": [
    {
     "name": "stdout",
     "output_type": "stream",
     "text": [
      "False\n",
      "True\n",
      "False\n",
      "True\n"
     ]
    }
   ],
   "source": [
    "a= True\n",
    "b= False\n",
    "print(a and b)\n",
    "print(a or b)\n",
    "print(not a)\n",
    "print(not b)"
   ]
  },
  {
   "cell_type": "code",
   "execution_count": 23,
   "id": "da393f2c",
   "metadata": {},
   "outputs": [
    {
     "name": "stdout",
     "output_type": "stream",
     "text": [
      "10\n",
      "20\n",
      "10\n",
      "100\n",
      "102400\n"
     ]
    }
   ],
   "source": [
    "a = 10\n",
    "b = a\n",
    "print(b)\n",
    "b += a\n",
    "print(b)\n",
    "b -= a\n",
    "print(b)\n",
    "b *= a\n",
    "print(b)\n",
    "b <<= a\n",
    "print(b)"
   ]
  },
  {
   "cell_type": "code",
   "execution_count": 24,
   "id": "67ca5ed9",
   "metadata": {},
   "outputs": [],
   "source": [
    "x=10\n",
    "y=20"
   ]
  },
  {
   "cell_type": "code",
   "execution_count": 25,
   "id": "afc0ae50",
   "metadata": {},
   "outputs": [
    {
     "data": {
      "text/plain": [
       "False"
      ]
     },
     "execution_count": 25,
     "metadata": {},
     "output_type": "execute_result"
    }
   ],
   "source": [
    "x is b"
   ]
  },
  {
   "cell_type": "code",
   "execution_count": 26,
   "id": "58e5731d",
   "metadata": {},
   "outputs": [
    {
     "data": {
      "text/plain": [
       "True"
      ]
     },
     "execution_count": 26,
     "metadata": {},
     "output_type": "execute_result"
    }
   ],
   "source": [
    "x is not b"
   ]
  },
  {
   "cell_type": "code",
   "execution_count": 27,
   "id": "54dbbc2d",
   "metadata": {},
   "outputs": [],
   "source": [
    "x=\"saurav\""
   ]
  },
  {
   "cell_type": "code",
   "execution_count": 28,
   "id": "61ff9fb2",
   "metadata": {},
   "outputs": [
    {
     "data": {
      "text/plain": [
       "True"
      ]
     },
     "execution_count": 28,
     "metadata": {},
     "output_type": "execute_result"
    }
   ],
   "source": [
    "\"s\" in x"
   ]
  },
  {
   "cell_type": "code",
   "execution_count": 29,
   "id": "59f2fcce",
   "metadata": {},
   "outputs": [
    {
     "data": {
      "text/plain": [
       "False"
      ]
     },
     "execution_count": 29,
     "metadata": {},
     "output_type": "execute_result"
    }
   ],
   "source": [
    "\"z\" in x"
   ]
  },
  {
   "cell_type": "code",
   "execution_count": 30,
   "id": "79e27e75",
   "metadata": {},
   "outputs": [
    {
     "data": {
      "text/plain": [
       "True"
      ]
     },
     "execution_count": 30,
     "metadata": {},
     "output_type": "execute_result"
    }
   ],
   "source": [
    "\"z\" not in x"
   ]
  },
  {
   "cell_type": "code",
   "execution_count": 31,
   "id": "6564b861",
   "metadata": {},
   "outputs": [
    {
     "data": {
      "text/plain": [
       "False"
      ]
     },
     "execution_count": 31,
     "metadata": {},
     "output_type": "execute_result"
    }
   ],
   "source": [
    "\"s\" not in x"
   ]
  },
  {
   "cell_type": "code",
   "execution_count": 3,
   "id": "dd7150de",
   "metadata": {},
   "outputs": [
    {
     "name": "stdout",
     "output_type": "stream",
     "text": [
      "enter your roll no.1\n",
      "enter your namesaurav\n",
      "enter your percentage97.25\n",
      "My name is saurav roll no. is 1 and precentage is 97.25\n"
     ]
    }
   ],
   "source": [
    "a=int(input(\"enter your roll no.\"))\n",
    "b=str(input(\"enter your name\"))\n",
    "c=float(input(\"enter your percentage\"))\n",
    "print(\"My name is {x} roll no. is {y} and precentage is {z}\".format(x=b,y=a,z=c))"
   ]
  },
  {
   "cell_type": "code",
   "execution_count": null,
   "id": "7a39687e",
   "metadata": {},
   "outputs": [],
   "source": []
  },
  {
   "cell_type": "code",
   "execution_count": null,
   "id": "5765264c",
   "metadata": {},
   "outputs": [],
   "source": []
  },
  {
   "cell_type": "code",
   "execution_count": null,
   "id": "3343c2ea",
   "metadata": {},
   "outputs": [],
   "source": []
  },
  {
   "cell_type": "code",
   "execution_count": null,
   "id": "a9d5497a",
   "metadata": {},
   "outputs": [],
   "source": []
  },
  {
   "cell_type": "code",
   "execution_count": null,
   "id": "b2e379ae",
   "metadata": {},
   "outputs": [],
   "source": []
  },
  {
   "cell_type": "code",
   "execution_count": null,
   "id": "71e95c7d",
   "metadata": {},
   "outputs": [],
   "source": []
  }
 ],
 "metadata": {
  "kernelspec": {
   "display_name": "Python 3 (ipykernel)",
   "language": "python",
   "name": "python3"
  },
  "language_info": {
   "codemirror_mode": {
    "name": "ipython",
    "version": 3
   },
   "file_extension": ".py",
   "mimetype": "text/x-python",
   "name": "python",
   "nbconvert_exporter": "python",
   "pygments_lexer": "ipython3",
   "version": "3.11.5"
  }
 },
 "nbformat": 4,
 "nbformat_minor": 5
}
