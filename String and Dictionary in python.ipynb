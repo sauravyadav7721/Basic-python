{
 "cells": [
  {
   "cell_type": "code",
   "execution_count": 9,
   "id": "3a35a4c8",
   "metadata": {},
   "outputs": [],
   "source": [
    "my_string=\"saurav yadav\""
   ]
  },
  {
   "cell_type": "code",
   "execution_count": 10,
   "id": "1b21f3a9",
   "metadata": {},
   "outputs": [
    {
     "data": {
      "text/plain": [
       "'saurav yadav'"
      ]
     },
     "execution_count": 10,
     "metadata": {},
     "output_type": "execute_result"
    }
   ],
   "source": [
    "my_string"
   ]
  },
  {
   "cell_type": "code",
   "execution_count": 11,
   "id": "b9a60004",
   "metadata": {},
   "outputs": [
    {
     "data": {
      "text/plain": [
       "str"
      ]
     },
     "execution_count": 11,
     "metadata": {},
     "output_type": "execute_result"
    }
   ],
   "source": [
    "type(my_string)"
   ]
  },
  {
   "cell_type": "code",
   "execution_count": 12,
   "id": "ba1902a2",
   "metadata": {},
   "outputs": [],
   "source": [
    "my_string1=''  #emptystring"
   ]
  },
  {
   "cell_type": "code",
   "execution_count": 13,
   "id": "45bddc3d",
   "metadata": {},
   "outputs": [
    {
     "data": {
      "text/plain": [
       "''"
      ]
     },
     "execution_count": 13,
     "metadata": {},
     "output_type": "execute_result"
    }
   ],
   "source": [
    "my_string1"
   ]
  },
  {
   "cell_type": "code",
   "execution_count": 14,
   "id": "842ad2ae",
   "metadata": {},
   "outputs": [
    {
     "data": {
      "text/plain": [
       "str"
      ]
     },
     "execution_count": 14,
     "metadata": {},
     "output_type": "execute_result"
    }
   ],
   "source": [
    "type(my_string)"
   ]
  },
  {
   "cell_type": "code",
   "execution_count": 15,
   "id": "ff577c31",
   "metadata": {},
   "outputs": [],
   "source": [
    "my_string='''i\n",
    "like\n",
    "python'''"
   ]
  },
  {
   "cell_type": "code",
   "execution_count": 16,
   "id": "dbdd7a8b",
   "metadata": {},
   "outputs": [
    {
     "data": {
      "text/plain": [
       "str"
      ]
     },
     "execution_count": 16,
     "metadata": {},
     "output_type": "execute_result"
    }
   ],
   "source": [
    "type(my_string)"
   ]
  },
  {
   "cell_type": "code",
   "execution_count": 18,
   "id": "ac8f85b4",
   "metadata": {},
   "outputs": [
    {
     "data": {
      "text/plain": [
       "'i\\nlike\\npython'"
      ]
     },
     "execution_count": 18,
     "metadata": {},
     "output_type": "execute_result"
    }
   ],
   "source": [
    "my_string   #\\n represent the new line"
   ]
  },
  {
   "cell_type": "code",
   "execution_count": 19,
   "id": "50597571",
   "metadata": {},
   "outputs": [],
   "source": [
    "my_string=\"i love coding\""
   ]
  },
  {
   "cell_type": "code",
   "execution_count": 21,
   "id": "7092f252",
   "metadata": {},
   "outputs": [
    {
     "data": {
      "text/plain": [
       "12"
      ]
     },
     "execution_count": 21,
     "metadata": {},
     "output_type": "execute_result"
    }
   ],
   "source": [
    "len(my_string)-1"
   ]
  },
  {
   "cell_type": "code",
   "execution_count": 22,
   "id": "7afe058b",
   "metadata": {},
   "outputs": [
    {
     "data": {
      "text/plain": [
       "'e'"
      ]
     },
     "execution_count": 22,
     "metadata": {},
     "output_type": "execute_result"
    }
   ],
   "source": [
    "my_string[5]"
   ]
  },
  {
   "cell_type": "code",
   "execution_count": 24,
   "id": "8c35e6d8",
   "metadata": {},
   "outputs": [
    {
     "data": {
      "text/plain": [
       "'i love coding'"
      ]
     },
     "execution_count": 24,
     "metadata": {},
     "output_type": "execute_result"
    }
   ],
   "source": [
    "my_string[0:13]"
   ]
  },
  {
   "cell_type": "markdown",
   "id": "61412a44",
   "metadata": {},
   "source": [
    "wap to take input from user and print it in reverse order"
   ]
  },
  {
   "cell_type": "code",
   "execution_count": 39,
   "id": "d53947db",
   "metadata": {},
   "outputs": [
    {
     "name": "stdout",
     "output_type": "stream",
     "text": [
      "enter your namesauav yadav\n",
      "v\n",
      "a\n",
      "d\n",
      "a\n",
      "y\n",
      " \n",
      "v\n",
      "a\n",
      "u\n",
      "a\n",
      "s\n"
     ]
    }
   ],
   "source": [
    "my_name=input(\"enter your name\")\n",
    "for i in range(len(my_name)-1,-1,-1):\n",
    "    print(my_name[i])"
   ]
  },
  {
   "cell_type": "code",
   "execution_count": 41,
   "id": "87e5dcd5",
   "metadata": {},
   "outputs": [
    {
     "data": {
      "text/plain": [
       "'saurav yadav'"
      ]
     },
     "execution_count": 41,
     "metadata": {},
     "output_type": "execute_result"
    }
   ],
   "source": [
    "\"saurav\"+\" \"+\"yadav\""
   ]
  },
  {
   "cell_type": "code",
   "execution_count": 42,
   "id": "41e3bc02",
   "metadata": {},
   "outputs": [
    {
     "data": {
      "text/plain": [
       "'saurav@yadav'"
      ]
     },
     "execution_count": 42,
     "metadata": {},
     "output_type": "execute_result"
    }
   ],
   "source": [
    "\"saurav\"+\"@\"+\"yadav\""
   ]
  },
  {
   "cell_type": "code",
   "execution_count": 46,
   "id": "3ce3ed19",
   "metadata": {},
   "outputs": [],
   "source": [
    "my_string=\"i love coding\""
   ]
  },
  {
   "cell_type": "code",
   "execution_count": 48,
   "id": "6e52349e",
   "metadata": {},
   "outputs": [
    {
     "data": {
      "text/plain": [
       "True"
      ]
     },
     "execution_count": 48,
     "metadata": {},
     "output_type": "execute_result"
    }
   ],
   "source": [
    "\"i\" in my_string"
   ]
  },
  {
   "cell_type": "code",
   "execution_count": 49,
   "id": "8ab26ab4",
   "metadata": {},
   "outputs": [
    {
     "data": {
      "text/plain": [
       "False"
      ]
     },
     "execution_count": 49,
     "metadata": {},
     "output_type": "execute_result"
    }
   ],
   "source": [
    "\"i\" not in my_string"
   ]
  },
  {
   "cell_type": "code",
   "execution_count": 50,
   "id": "8bf1ddf7",
   "metadata": {},
   "outputs": [],
   "source": [
    "x=\"saurav\"\n",
    "y=\"saurav\"\n",
    "z=\"yadav\""
   ]
  },
  {
   "cell_type": "code",
   "execution_count": 51,
   "id": "7a90b934",
   "metadata": {},
   "outputs": [
    {
     "data": {
      "text/plain": [
       "True"
      ]
     },
     "execution_count": 51,
     "metadata": {},
     "output_type": "execute_result"
    }
   ],
   "source": [
    "x is y"
   ]
  },
  {
   "cell_type": "code",
   "execution_count": 52,
   "id": "5255bb33",
   "metadata": {},
   "outputs": [
    {
     "data": {
      "text/plain": [
       "False"
      ]
     },
     "execution_count": 52,
     "metadata": {},
     "output_type": "execute_result"
    }
   ],
   "source": [
    "x is not y"
   ]
  },
  {
   "cell_type": "code",
   "execution_count": 53,
   "id": "3f12b0c0",
   "metadata": {},
   "outputs": [
    {
     "data": {
      "text/plain": [
       "True"
      ]
     },
     "execution_count": 53,
     "metadata": {},
     "output_type": "execute_result"
    }
   ],
   "source": [
    "x is not z"
   ]
  },
  {
   "cell_type": "code",
   "execution_count": 54,
   "id": "da374aeb",
   "metadata": {},
   "outputs": [
    {
     "data": {
      "text/plain": [
       "True"
      ]
     },
     "execution_count": 54,
     "metadata": {},
     "output_type": "execute_result"
    }
   ],
   "source": [
    "\"saurav\" == \"saurav\""
   ]
  },
  {
   "cell_type": "code",
   "execution_count": 55,
   "id": "918299e0",
   "metadata": {},
   "outputs": [
    {
     "data": {
      "text/plain": [
       "False"
      ]
     },
     "execution_count": 55,
     "metadata": {},
     "output_type": "execute_result"
    }
   ],
   "source": [
    "\"saurav\" != \"saurav\""
   ]
  },
  {
   "cell_type": "code",
   "execution_count": 56,
   "id": "c4380028",
   "metadata": {},
   "outputs": [
    {
     "data": {
      "text/plain": [
       "False"
      ]
     },
     "execution_count": 56,
     "metadata": {},
     "output_type": "execute_result"
    }
   ],
   "source": [
    "\"a\" > \"b\""
   ]
  },
  {
   "cell_type": "code",
   "execution_count": 57,
   "id": "ff98a1bf",
   "metadata": {},
   "outputs": [
    {
     "data": {
      "text/plain": [
       "True"
      ]
     },
     "execution_count": 57,
     "metadata": {},
     "output_type": "execute_result"
    }
   ],
   "source": [
    "\"a\" < \"b\""
   ]
  },
  {
   "cell_type": "code",
   "execution_count": 58,
   "id": "7cb78a94",
   "metadata": {},
   "outputs": [
    {
     "data": {
      "text/plain": [
       "False"
      ]
     },
     "execution_count": 58,
     "metadata": {},
     "output_type": "execute_result"
    }
   ],
   "source": [
    "\"saurav\" > \"yadav\""
   ]
  },
  {
   "cell_type": "code",
   "execution_count": 59,
   "id": "8d85aeb6",
   "metadata": {},
   "outputs": [
    {
     "data": {
      "text/plain": [
       "False"
      ]
     },
     "execution_count": 59,
     "metadata": {},
     "output_type": "execute_result"
    }
   ],
   "source": [
    "\"tim\" == \"tie\""
   ]
  },
  {
   "cell_type": "code",
   "execution_count": 60,
   "id": "f1cc526b",
   "metadata": {},
   "outputs": [
    {
     "data": {
      "text/plain": [
       "True"
      ]
     },
     "execution_count": 60,
     "metadata": {},
     "output_type": "execute_result"
    }
   ],
   "source": [
    "\"arrow\" > \"aron\""
   ]
  },
  {
   "cell_type": "code",
   "execution_count": 61,
   "id": "a1ad7377",
   "metadata": {},
   "outputs": [
    {
     "data": {
      "text/plain": [
       "True"
      ]
     },
     "execution_count": 61,
     "metadata": {},
     "output_type": "execute_result"
    }
   ],
   "source": [
    "\"right\" >= \"left\""
   ]
  },
  {
   "cell_type": "code",
   "execution_count": 62,
   "id": "51ebf2e7",
   "metadata": {},
   "outputs": [
    {
     "data": {
      "text/plain": [
       "False"
      ]
     },
     "execution_count": 62,
     "metadata": {},
     "output_type": "execute_result"
    }
   ],
   "source": [
    "\"teeth\" < \"tee\""
   ]
  },
  {
   "cell_type": "code",
   "execution_count": 63,
   "id": "683754bc",
   "metadata": {},
   "outputs": [
    {
     "data": {
      "text/plain": [
       "False"
      ]
     },
     "execution_count": 63,
     "metadata": {},
     "output_type": "execute_result"
    }
   ],
   "source": [
    "\"yellow\" <= \"fellow\""
   ]
  },
  {
   "cell_type": "code",
   "execution_count": 64,
   "id": "43a33dad",
   "metadata": {},
   "outputs": [
    {
     "data": {
      "text/plain": [
       "True"
      ]
     },
     "execution_count": 64,
     "metadata": {},
     "output_type": "execute_result"
    }
   ],
   "source": [
    "\"abc\" > \" \""
   ]
  },
  {
   "cell_type": "markdown",
   "id": "0c3ea278",
   "metadata": {},
   "source": [
    "# function in string\n",
    "len()\n",
    "max()\n",
    "min()\n",
    "chr()\n",
    "ord()"
   ]
  },
  {
   "cell_type": "code",
   "execution_count": 65,
   "id": "6d8a2c53",
   "metadata": {},
   "outputs": [],
   "source": [
    "my_string=\"saurav yadav\""
   ]
  },
  {
   "cell_type": "code",
   "execution_count": 66,
   "id": "5df2a0f9",
   "metadata": {},
   "outputs": [
    {
     "data": {
      "text/plain": [
       "12"
      ]
     },
     "execution_count": 66,
     "metadata": {},
     "output_type": "execute_result"
    }
   ],
   "source": [
    "len(my_string)"
   ]
  },
  {
   "cell_type": "code",
   "execution_count": 67,
   "id": "70d0dc74",
   "metadata": {},
   "outputs": [
    {
     "data": {
      "text/plain": [
       "11"
      ]
     },
     "execution_count": 67,
     "metadata": {},
     "output_type": "execute_result"
    }
   ],
   "source": [
    "len(my_string)-1"
   ]
  },
  {
   "cell_type": "code",
   "execution_count": 68,
   "id": "7604e871",
   "metadata": {},
   "outputs": [
    {
     "data": {
      "text/plain": [
       "'y'"
      ]
     },
     "execution_count": 68,
     "metadata": {},
     "output_type": "execute_result"
    }
   ],
   "source": [
    "max(my_string) #give the greatest alphabet in string"
   ]
  },
  {
   "cell_type": "code",
   "execution_count": 69,
   "id": "f0a7d3da",
   "metadata": {},
   "outputs": [
    {
     "data": {
      "text/plain": [
       "' '"
      ]
     },
     "execution_count": 69,
     "metadata": {},
     "output_type": "execute_result"
    }
   ],
   "source": [
    "min(my_string)  #give the smallest alphabet in the string"
   ]
  },
  {
   "cell_type": "code",
   "execution_count": 71,
   "id": "0957863c",
   "metadata": {},
   "outputs": [
    {
     "data": {
      "text/plain": [
       "115"
      ]
     },
     "execution_count": 71,
     "metadata": {},
     "output_type": "execute_result"
    }
   ],
   "source": [
    "ord(\"s\") # give the unicode vale of string"
   ]
  },
  {
   "cell_type": "code",
   "execution_count": 73,
   "id": "3d143eea",
   "metadata": {},
   "outputs": [
    {
     "data": {
      "text/plain": [
       "'s'"
      ]
     },
     "execution_count": 73,
     "metadata": {},
     "output_type": "execute_result"
    }
   ],
   "source": [
    "chr(115) # chr call the string on base of their unicode value"
   ]
  },
  {
   "cell_type": "markdown",
   "id": "eea6364c",
   "metadata": {},
   "source": [
    "# String Method "
   ]
  },
  {
   "cell_type": "code",
   "execution_count": 81,
   "id": "477ae152",
   "metadata": {},
   "outputs": [
    {
     "data": {
      "text/plain": [
       "'Saurav yadav'"
      ]
     },
     "execution_count": 81,
     "metadata": {},
     "output_type": "execute_result"
    }
   ],
   "source": [
    "# Capitalize :- it return with first character capital of first word and rest the character in lower case\n",
    "my_string=\"saurav yadav\"\n",
    "my_string.capitalize()"
   ]
  },
  {
   "cell_type": "code",
   "execution_count": 77,
   "id": "68fc1695",
   "metadata": {},
   "outputs": [
    {
     "data": {
      "text/plain": [
       "'SAURAV YADAV'"
      ]
     },
     "execution_count": 77,
     "metadata": {},
     "output_type": "execute_result"
    }
   ],
   "source": [
    "#lower() make all character in lower case\n",
    "#upper() make all character in uper case\n",
    "my_string.upper()"
   ]
  },
  {
   "cell_type": "code",
   "execution_count": 78,
   "id": "697113b3",
   "metadata": {},
   "outputs": [
    {
     "data": {
      "text/plain": [
       "'saurav yadav'"
      ]
     },
     "execution_count": 78,
     "metadata": {},
     "output_type": "execute_result"
    }
   ],
   "source": [
    "my_string.lower()"
   ]
  },
  {
   "cell_type": "code",
   "execution_count": 79,
   "id": "9285faa6",
   "metadata": {},
   "outputs": [
    {
     "data": {
      "text/plain": [
       "'sAURAV yADAV'"
      ]
     },
     "execution_count": 79,
     "metadata": {},
     "output_type": "execute_result"
    }
   ],
   "source": [
    "#swapcase:- it make lower case to upper case and vice versa\n",
    "my_string1=\"Saurav Yadav\"\n",
    "my_string1.swapcase()"
   ]
  },
  {
   "cell_type": "code",
   "execution_count": 80,
   "id": "4c8ba644",
   "metadata": {},
   "outputs": [
    {
     "data": {
      "text/plain": [
       "'Saurav Yadav'"
      ]
     },
     "execution_count": 80,
     "metadata": {},
     "output_type": "execute_result"
    }
   ],
   "source": [
    "my_string2=\"sAURAV yADAV\"\n",
    "my_string2.swapcase()"
   ]
  },
  {
   "cell_type": "code",
   "execution_count": 82,
   "id": "7ba35c07",
   "metadata": {},
   "outputs": [
    {
     "data": {
      "text/plain": [
       "'I Love Python'"
      ]
     },
     "execution_count": 82,
     "metadata": {},
     "output_type": "execute_result"
    }
   ],
   "source": [
    "#Title:- it convert the first letter of all the word to upper case and return rest in lower case\n",
    "my_string = \"i lOVe pYTHoN\"\n",
    "my_string.title()"
   ]
  },
  {
   "cell_type": "code",
   "execution_count": 89,
   "id": "7c179abc",
   "metadata": {},
   "outputs": [
    {
     "data": {
      "text/plain": [
       "True"
      ]
     },
     "execution_count": 89,
     "metadata": {},
     "output_type": "execute_result"
    }
   ],
   "source": [
    "#islower() :- it return True and Flase if all letter in lower case\n",
    "#isupper() :- it return True and Flase if all letter in upper case\n",
    "my_string1 = \"this python code\"\n",
    "my_string1.islower()"
   ]
  },
  {
   "cell_type": "code",
   "execution_count": 90,
   "id": "b6d593bd",
   "metadata": {},
   "outputs": [
    {
     "data": {
      "text/plain": [
       "False"
      ]
     },
     "execution_count": 90,
     "metadata": {},
     "output_type": "execute_result"
    }
   ],
   "source": [
    "my_string1.isupper()"
   ]
  },
  {
   "cell_type": "code",
   "execution_count": 92,
   "id": "dd777464",
   "metadata": {},
   "outputs": [
    {
     "data": {
      "text/plain": [
       "False"
      ]
     },
     "execution_count": 92,
     "metadata": {},
     "output_type": "execute_result"
    }
   ],
   "source": [
    "my_string2=\"THIS PYTHON CODE\"\n",
    "my_string2.islower()"
   ]
  },
  {
   "cell_type": "code",
   "execution_count": 93,
   "id": "4c18e282",
   "metadata": {},
   "outputs": [
    {
     "data": {
      "text/plain": [
       "True"
      ]
     },
     "execution_count": 93,
     "metadata": {},
     "output_type": "execute_result"
    }
   ],
   "source": [
    "my_string2.isupper()"
   ]
  },
  {
   "cell_type": "code",
   "execution_count": 99,
   "id": "19c6be0e",
   "metadata": {},
   "outputs": [],
   "source": [
    "#isalph() :- it return True for if string contain only alphabets and Flase for rest case\n",
    "my_string1 = \"this python code\""
   ]
  },
  {
   "cell_type": "code",
   "execution_count": 101,
   "id": "c8e0949c",
   "metadata": {},
   "outputs": [
    {
     "data": {
      "text/plain": [
       "False"
      ]
     },
     "execution_count": 101,
     "metadata": {},
     "output_type": "execute_result"
    }
   ],
   "source": [
    "my_string1.isalpha()"
   ]
  },
  {
   "cell_type": "code",
   "execution_count": 102,
   "id": "cb1eeb2d",
   "metadata": {},
   "outputs": [
    {
     "data": {
      "text/plain": [
       "True"
      ]
     },
     "execution_count": 102,
     "metadata": {},
     "output_type": "execute_result"
    }
   ],
   "source": [
    "my_string1 = \"thispythoncode\"\n",
    "my_string1.isalpha()"
   ]
  },
  {
   "cell_type": "code",
   "execution_count": 104,
   "id": "76ffcb70",
   "metadata": {},
   "outputs": [
    {
     "data": {
      "text/plain": [
       "False"
      ]
     },
     "execution_count": 104,
     "metadata": {},
     "output_type": "execute_result"
    }
   ],
   "source": [
    "#isdigit() :-  it return True for if string contain only digit and Flase for rest case\n",
    "my_string = \"1 26941\"\n",
    "my_string.isdigit()"
   ]
  },
  {
   "cell_type": "code",
   "execution_count": 105,
   "id": "b33a4d39",
   "metadata": {},
   "outputs": [
    {
     "data": {
      "text/plain": [
       "True"
      ]
     },
     "execution_count": 105,
     "metadata": {},
     "output_type": "execute_result"
    }
   ],
   "source": [
    "my_string = \"126941\"\n",
    "my_string.isdigit()"
   ]
  },
  {
   "cell_type": "code",
   "execution_count": 110,
   "id": "724d30fd",
   "metadata": {},
   "outputs": [],
   "source": [
    "#isalnum :- it return True for if string contain alphabets and digit and Flase for rest case\n",
    "mystring=\"saurav123\"\n",
    "mystring1=\"saurav\"\n",
    "mystring2=\"1232345\"\n",
    "mystring3=\"saurav123 yadav456\"\n",
    "mystring4=\"ehrfjk$%*\""
   ]
  },
  {
   "cell_type": "code",
   "execution_count": 111,
   "id": "66352059",
   "metadata": {},
   "outputs": [
    {
     "name": "stdout",
     "output_type": "stream",
     "text": [
      "True\n",
      "True\n",
      "True\n",
      "False\n",
      "False\n"
     ]
    }
   ],
   "source": [
    "print(mystring.isalnum())\n",
    "print(mystring1.isalnum())\n",
    "print(mystring2.isalnum())\n",
    "print(mystring3.isalnum())\n",
    "print(mystring4.isalnum())"
   ]
  },
  {
   "cell_type": "code",
   "execution_count": 112,
   "id": "89077471",
   "metadata": {},
   "outputs": [
    {
     "data": {
      "text/plain": [
       "False"
      ]
     },
     "execution_count": 112,
     "metadata": {},
     "output_type": "execute_result"
    }
   ],
   "source": [
    "#isspace() :- it return True for space and Flase for rest of all case\n",
    "my_string=\"S\"\n",
    "my_string.isspace()"
   ]
  },
  {
   "cell_type": "code",
   "execution_count": 113,
   "id": "97c82cd8",
   "metadata": {},
   "outputs": [
    {
     "data": {
      "text/plain": [
       "False"
      ]
     },
     "execution_count": 113,
     "metadata": {},
     "output_type": "execute_result"
    }
   ],
   "source": [
    "my_string=\"\"\n",
    "my_string.isspace()"
   ]
  },
  {
   "cell_type": "code",
   "execution_count": 114,
   "id": "87f75f46",
   "metadata": {},
   "outputs": [
    {
     "data": {
      "text/plain": [
       "True"
      ]
     },
     "execution_count": 114,
     "metadata": {},
     "output_type": "execute_result"
    }
   ],
   "source": [
    "my_string=\" \"\n",
    "my_string.isspace()"
   ]
  },
  {
   "cell_type": "code",
   "execution_count": 117,
   "id": "d901ce51",
   "metadata": {},
   "outputs": [
    {
     "data": {
      "text/plain": [
       "True"
      ]
     },
     "execution_count": 117,
     "metadata": {},
     "output_type": "execute_result"
    }
   ],
   "source": [
    "# startswith() :- it return True if the string start with give word and Flase for rest of all case\n",
    "# endswith() :-   it return True if the string end with give word and Flase for rest of all case\n",
    "my_string = \"i am learing machine learning\"\n",
    "my_string.startswith(\"i\")"
   ]
  },
  {
   "cell_type": "code",
   "execution_count": 118,
   "id": "e3412e9e",
   "metadata": {},
   "outputs": [
    {
     "data": {
      "text/plain": [
       "False"
      ]
     },
     "execution_count": 118,
     "metadata": {},
     "output_type": "execute_result"
    }
   ],
   "source": [
    "my_string.endswith(\"i\")"
   ]
  },
  {
   "cell_type": "code",
   "execution_count": 119,
   "id": "eb3f6cca",
   "metadata": {},
   "outputs": [
    {
     "data": {
      "text/plain": [
       "True"
      ]
     },
     "execution_count": 119,
     "metadata": {},
     "output_type": "execute_result"
    }
   ],
   "source": [
    "my_string.endswith(\"learning\")"
   ]
  },
  {
   "cell_type": "code",
   "execution_count": 121,
   "id": "6677c375",
   "metadata": {},
   "outputs": [
    {
     "data": {
      "text/plain": [
       "2"
      ]
     },
     "execution_count": 121,
     "metadata": {},
     "output_type": "execute_result"
    }
   ],
   "source": [
    "#index() :-\n",
    "my_string = \"i am learing machine learning\"\n",
    "my_string.index(\"am\") # it is giving the index of first alphabet"
   ]
  },
  {
   "cell_type": "code",
   "execution_count": 122,
   "id": "bb0639ca",
   "metadata": {},
   "outputs": [
    {
     "data": {
      "text/plain": [
       "1"
      ]
     },
     "execution_count": 122,
     "metadata": {},
     "output_type": "execute_result"
    }
   ],
   "source": [
    "# count() :-\n",
    "my_string = \"i am learing machine learning\"\n",
    "my_string.count(\"am\")"
   ]
  },
  {
   "cell_type": "code",
   "execution_count": 123,
   "id": "0e6fd3e4",
   "metadata": {},
   "outputs": [
    {
     "data": {
      "text/plain": [
       "['i', 'love', 'my', 'india']"
      ]
     },
     "execution_count": 123,
     "metadata": {},
     "output_type": "execute_result"
    }
   ],
   "source": [
    "#split :-\n",
    "\"i@love@my@india\".split(\"@\")"
   ]
  },
  {
   "cell_type": "code",
   "execution_count": 124,
   "id": "e8f656b3",
   "metadata": {},
   "outputs": [
    {
     "data": {
      "text/plain": [
       "'s@a@u@r@a@v'"
      ]
     },
     "execution_count": 124,
     "metadata": {},
     "output_type": "execute_result"
    }
   ],
   "source": [
    "\"@\".join([\"s\",\"a\",\"u\",\"r\",\"a\",\"v\"])"
   ]
  },
  {
   "cell_type": "code",
   "execution_count": 125,
   "id": "0ec35c26",
   "metadata": {},
   "outputs": [
    {
     "data": {
      "text/plain": [
       "'saurav'"
      ]
     },
     "execution_count": 125,
     "metadata": {},
     "output_type": "execute_result"
    }
   ],
   "source": [
    "\"\".join([\"s\",\"a\",\"u\",\"r\",\"a\",\"v\"])"
   ]
  },
  {
   "cell_type": "code",
   "execution_count": 126,
   "id": "4ddb389d",
   "metadata": {},
   "outputs": [
    {
     "data": {
      "text/plain": [
       "'s a u r a v'"
      ]
     },
     "execution_count": 126,
     "metadata": {},
     "output_type": "execute_result"
    }
   ],
   "source": [
    "\" \".join([\"s\",\"a\",\"u\",\"r\",\"a\",\"v\"])"
   ]
  },
  {
   "cell_type": "markdown",
   "id": "33b21216",
   "metadata": {},
   "source": [
    "# f-string\n",
    "string interpolation"
   ]
  },
  {
   "cell_type": "code",
   "execution_count": 127,
   "id": "41ab6f66",
   "metadata": {},
   "outputs": [],
   "source": [
    "name=\"saurav\"\n",
    "age=26"
   ]
  },
  {
   "cell_type": "code",
   "execution_count": 128,
   "id": "d4abdd1b",
   "metadata": {},
   "outputs": [
    {
     "name": "stdout",
     "output_type": "stream",
     "text": [
      "my name is saurav my age is 26\n"
     ]
    }
   ],
   "source": [
    "# time com complexity is very less\n",
    "print(f\"my name is {name} my age is {age}\")"
   ]
  },
  {
   "cell_type": "markdown",
   "id": "7cd547e7",
   "metadata": {},
   "source": [
    "# Dictionary in python"
   ]
  },
  {
   "cell_type": "markdown",
   "id": "96602747",
   "metadata": {},
   "source": [
    "# syntax \n",
    "{ key1:value1\n",
    "  key2:value2\n",
    "  key3:value3\n",
    "   .\n",
    "   .\n",
    "   .\n",
    "   keyn:valuen}"
   ]
  },
  {
   "cell_type": "code",
   "execution_count": 129,
   "id": "5d61848c",
   "metadata": {},
   "outputs": [],
   "source": [
    "mydict={} #empty dictionary"
   ]
  },
  {
   "cell_type": "code",
   "execution_count": 130,
   "id": "d04bdb02",
   "metadata": {},
   "outputs": [
    {
     "data": {
      "text/plain": [
       "dict"
      ]
     },
     "execution_count": 130,
     "metadata": {},
     "output_type": "execute_result"
    }
   ],
   "source": [
    "type(mydict)"
   ]
  },
  {
   "cell_type": "code",
   "execution_count": 146,
   "id": "f0c13526",
   "metadata": {},
   "outputs": [],
   "source": [
    "mydict = {1:\"saurav\",2:\"lokesh\",3:\"dipesh\"}"
   ]
  },
  {
   "cell_type": "code",
   "execution_count": 132,
   "id": "ddf28d3b",
   "metadata": {},
   "outputs": [
    {
     "data": {
      "text/plain": [
       "dict"
      ]
     },
     "execution_count": 132,
     "metadata": {},
     "output_type": "execute_result"
    }
   ],
   "source": [
    "type(mydict)"
   ]
  },
  {
   "cell_type": "code",
   "execution_count": 143,
   "id": "a35fca99",
   "metadata": {},
   "outputs": [
    {
     "data": {
      "text/plain": [
       "'saurav'"
      ]
     },
     "execution_count": 143,
     "metadata": {},
     "output_type": "execute_result"
    }
   ],
   "source": [
    "#acessing dict\n",
    "mydict.get(1)"
   ]
  },
  {
   "cell_type": "code",
   "execution_count": 144,
   "id": "4527e7a2",
   "metadata": {},
   "outputs": [
    {
     "name": "stdout",
     "output_type": "stream",
     "text": [
      "1\n",
      "2\n",
      "3\n"
     ]
    }
   ],
   "source": [
    "for i in mydict:\n",
    "    print(i) # print only key"
   ]
  },
  {
   "cell_type": "code",
   "execution_count": 148,
   "id": "ad64594f",
   "metadata": {},
   "outputs": [
    {
     "name": "stdout",
     "output_type": "stream",
     "text": [
      "1\n",
      "2\n",
      "3\n"
     ]
    }
   ],
   "source": [
    "for i in mydict.keys():\n",
    "    print(i)  # print only key"
   ]
  },
  {
   "cell_type": "code",
   "execution_count": 149,
   "id": "0daadd77",
   "metadata": {},
   "outputs": [
    {
     "name": "stdout",
     "output_type": "stream",
     "text": [
      "saurav\n",
      "lokesh\n",
      "dipesh\n"
     ]
    }
   ],
   "source": [
    "for i in mydict.values():\n",
    "    print(i)  # print only values"
   ]
  },
  {
   "cell_type": "code",
   "execution_count": 150,
   "id": "bbaddae4",
   "metadata": {},
   "outputs": [
    {
     "name": "stdout",
     "output_type": "stream",
     "text": [
      "(1, 'saurav')\n",
      "(2, 'lokesh')\n",
      "(3, 'dipesh')\n"
     ]
    }
   ],
   "source": [
    "for i in mydict.items():\n",
    "    print(i)  # print both keys and values"
   ]
  },
  {
   "cell_type": "markdown",
   "id": "093e888c",
   "metadata": {},
   "source": [
    "#update in dict\n",
    "1. subscript operator\n",
    "2. update function"
   ]
  },
  {
   "cell_type": "code",
   "execution_count": 151,
   "id": "a3786ee4",
   "metadata": {},
   "outputs": [],
   "source": [
    "mydict = {1:\"saurav\",2:\"lokesh\",3:\"dipesh\"}"
   ]
  },
  {
   "cell_type": "code",
   "execution_count": 152,
   "id": "1009a5b7",
   "metadata": {},
   "outputs": [
    {
     "name": "stdout",
     "output_type": "stream",
     "text": [
      "{1: 'saurav', 2: 'lokesh', 3: 'dipesh', 4: 'anant'}\n"
     ]
    }
   ],
   "source": [
    "mydict[4] = \"anant\"\n",
    "print(mydict)"
   ]
  },
  {
   "cell_type": "code",
   "execution_count": 155,
   "id": "93a82b83",
   "metadata": {},
   "outputs": [
    {
     "name": "stdout",
     "output_type": "stream",
     "text": [
      "{1: 'saurav', 2: 'lokesh', 3: 'dipesh', 4: 'anant', 5: 'anmol'}\n"
     ]
    }
   ],
   "source": [
    "mydict.update({5:\"anmol\"})\n",
    "print(mydict)"
   ]
  },
  {
   "cell_type": "code",
   "execution_count": null,
   "id": "a0926839",
   "metadata": {},
   "outputs": [],
   "source": []
  },
  {
   "cell_type": "markdown",
   "id": "a4b33d72",
   "metadata": {},
   "source": [
    "function for the dict\n",
    "len()\n",
    "\n",
    "max()\n",
    "\n",
    "min()\n",
    "\n",
    "any()\n",
    "\n",
    "all()\n",
    "\n",
    "sorted()\n",
    "\n",
    "dict()"
   ]
  },
  {
   "cell_type": "code",
   "execution_count": 157,
   "id": "3dcb8f2d",
   "metadata": {},
   "outputs": [
    {
     "data": {
      "text/plain": [
       "5"
      ]
     },
     "execution_count": 157,
     "metadata": {},
     "output_type": "execute_result"
    }
   ],
   "source": [
    "len(mydict)"
   ]
  },
  {
   "cell_type": "code",
   "execution_count": 158,
   "id": "3258e5c6",
   "metadata": {},
   "outputs": [
    {
     "data": {
      "text/plain": [
       "5"
      ]
     },
     "execution_count": 158,
     "metadata": {},
     "output_type": "execute_result"
    }
   ],
   "source": [
    "max(mydict)"
   ]
  },
  {
   "cell_type": "code",
   "execution_count": 159,
   "id": "ac0a0a07",
   "metadata": {},
   "outputs": [
    {
     "data": {
      "text/plain": [
       "1"
      ]
     },
     "execution_count": 159,
     "metadata": {},
     "output_type": "execute_result"
    }
   ],
   "source": [
    "min(mydict)"
   ]
  },
  {
   "cell_type": "code",
   "execution_count": 160,
   "id": "a9100ca0",
   "metadata": {},
   "outputs": [
    {
     "data": {
      "text/plain": [
       "True"
      ]
     },
     "execution_count": 160,
     "metadata": {},
     "output_type": "execute_result"
    }
   ],
   "source": [
    "any(mydict)"
   ]
  },
  {
   "cell_type": "code",
   "execution_count": 161,
   "id": "79146ed7",
   "metadata": {},
   "outputs": [
    {
     "data": {
      "text/plain": [
       "True"
      ]
     },
     "execution_count": 161,
     "metadata": {},
     "output_type": "execute_result"
    }
   ],
   "source": [
    "all(mydict)"
   ]
  },
  {
   "cell_type": "code",
   "execution_count": 162,
   "id": "d32bb668",
   "metadata": {},
   "outputs": [
    {
     "data": {
      "text/plain": [
       "[1, 2, 3, 4, 5]"
      ]
     },
     "execution_count": 162,
     "metadata": {},
     "output_type": "execute_result"
    }
   ],
   "source": [
    "sorted(mydict)"
   ]
  },
  {
   "cell_type": "markdown",
   "id": "3543919d",
   "metadata": {},
   "source": [
    "# methods in dictionary\n",
    "clear()\n",
    "\n",
    "copy()\n",
    "\n",
    "setdefault()\n",
    "\n",
    "get()\n",
    "\n",
    "keys()\n",
    "\n",
    "values()\n",
    "\n",
    "items() \n",
    "\n",
    "updated() \n",
    "\n",
    "pop()\n",
    "\n",
    "popitem()"
   ]
  },
  {
   "cell_type": "code",
   "execution_count": 163,
   "id": "d3a4aee5",
   "metadata": {},
   "outputs": [
    {
     "data": {
      "text/plain": [
       "'saurav'"
      ]
     },
     "execution_count": 163,
     "metadata": {},
     "output_type": "execute_result"
    }
   ],
   "source": [
    "mydict.get(1)"
   ]
  },
  {
   "cell_type": "code",
   "execution_count": 165,
   "id": "f0d52e40",
   "metadata": {},
   "outputs": [
    {
     "name": "stdout",
     "output_type": "stream",
     "text": [
      "1\n",
      "2\n",
      "3\n",
      "4\n",
      "5\n"
     ]
    }
   ],
   "source": [
    "for i in mydict.keys():\n",
    "    print(i)"
   ]
  },
  {
   "cell_type": "code",
   "execution_count": 166,
   "id": "3f1e8dde",
   "metadata": {},
   "outputs": [
    {
     "name": "stdout",
     "output_type": "stream",
     "text": [
      "saurav\n",
      "lokesh\n",
      "dipesh\n",
      "anant\n",
      "anmol\n"
     ]
    }
   ],
   "source": [
    "for i in mydict.values():\n",
    "    print(i)"
   ]
  },
  {
   "cell_type": "code",
   "execution_count": 167,
   "id": "cf573b7e",
   "metadata": {},
   "outputs": [
    {
     "name": "stdout",
     "output_type": "stream",
     "text": [
      "(1, 'saurav')\n",
      "(2, 'lokesh')\n",
      "(3, 'dipesh')\n",
      "(4, 'anant')\n",
      "(5, 'anmol')\n"
     ]
    }
   ],
   "source": [
    "for i in mydict.items():\n",
    "    print(i)"
   ]
  },
  {
   "cell_type": "code",
   "execution_count": 168,
   "id": "36886de4",
   "metadata": {},
   "outputs": [
    {
     "name": "stdout",
     "output_type": "stream",
     "text": [
      "{1: 'saurav', 2: 'lokesh', 3: 'dipesh', 4: 'anant', 5: 'anmol'}\n"
     ]
    }
   ],
   "source": [
    "mydict2 = mydict.copy()\n",
    "print(mydict2)"
   ]
  },
  {
   "cell_type": "code",
   "execution_count": 170,
   "id": "34b16b99",
   "metadata": {},
   "outputs": [
    {
     "name": "stdout",
     "output_type": "stream",
     "text": [
      "None\n"
     ]
    }
   ],
   "source": [
    "mydict3 = mydict.clear()\n",
    "print(mydict3)"
   ]
  },
  {
   "cell_type": "code",
   "execution_count": 173,
   "id": "1114a4e3",
   "metadata": {},
   "outputs": [
    {
     "name": "stdout",
     "output_type": "stream",
     "text": [
      "{6: 'ankit'}\n"
     ]
    }
   ],
   "source": [
    "mydict.update({6:\"ankit\"})\n",
    "print(mydict)"
   ]
  },
  {
   "cell_type": "code",
   "execution_count": 176,
   "id": "3ef007f2",
   "metadata": {},
   "outputs": [],
   "source": [
    "mydict = {1:\"saurav\",2:\"lokesh\",3:\"dipesh\"}"
   ]
  },
  {
   "cell_type": "code",
   "execution_count": 177,
   "id": "a3e3add5",
   "metadata": {},
   "outputs": [
    {
     "data": {
      "text/plain": [
       "'saurav'"
      ]
     },
     "execution_count": 177,
     "metadata": {},
     "output_type": "execute_result"
    }
   ],
   "source": [
    "mydict.pop(1)"
   ]
  },
  {
   "cell_type": "code",
   "execution_count": 178,
   "id": "b8b75496",
   "metadata": {},
   "outputs": [
    {
     "data": {
      "text/plain": [
       "{2: 'lokesh', 3: 'dipesh'}"
      ]
     },
     "execution_count": 178,
     "metadata": {},
     "output_type": "execute_result"
    }
   ],
   "source": [
    "mydict"
   ]
  },
  {
   "cell_type": "code",
   "execution_count": 181,
   "id": "7890b397",
   "metadata": {},
   "outputs": [
    {
     "data": {
      "text/plain": [
       "(2, 'lokesh')"
      ]
     },
     "execution_count": 181,
     "metadata": {},
     "output_type": "execute_result"
    }
   ],
   "source": [
    "mydict.popitem() #remove the last item"
   ]
  },
  {
   "cell_type": "code",
   "execution_count": 180,
   "id": "34518efe",
   "metadata": {},
   "outputs": [
    {
     "data": {
      "text/plain": [
       "{2: 'lokesh'}"
      ]
     },
     "execution_count": 180,
     "metadata": {},
     "output_type": "execute_result"
    }
   ],
   "source": [
    "mydict"
   ]
  },
  {
   "cell_type": "code",
   "execution_count": 182,
   "id": "f2b16d52",
   "metadata": {},
   "outputs": [
    {
     "name": "stdout",
     "output_type": "stream",
     "text": [
      "setdefault() returned: 98\n",
      "After using setdefault(): {'a': 97, 'b': 98}\n"
     ]
    }
   ],
   "source": [
    "d = {'a': 97, 'b': 98} \n",
    "print(\"setdefault() returned:\", d.setdefault('b', 99)) \n",
    "print(\"After using setdefault():\", d)"
   ]
  },
  {
   "cell_type": "code",
   "execution_count": null,
   "id": "8cfd4199",
   "metadata": {},
   "outputs": [],
   "source": []
  }
 ],
 "metadata": {
  "kernelspec": {
   "display_name": "Python 3 (ipykernel)",
   "language": "python",
   "name": "python3"
  },
  "language_info": {
   "codemirror_mode": {
    "name": "ipython",
    "version": 3
   },
   "file_extension": ".py",
   "mimetype": "text/x-python",
   "name": "python",
   "nbconvert_exporter": "python",
   "pygments_lexer": "ipython3",
   "version": "3.11.5"
  }
 },
 "nbformat": 4,
 "nbformat_minor": 5
}
