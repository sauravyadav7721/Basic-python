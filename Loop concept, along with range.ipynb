{
 "cells": [
  {
   "cell_type": "code",
   "execution_count": 54,
   "id": "af493647",
   "metadata": {},
   "outputs": [
    {
     "name": "stdout",
     "output_type": "stream",
     "text": [
      "enter the no.24\n",
      "Not Weird\n"
     ]
    }
   ],
   "source": [
    "n=int(input(\"enter the no.\"))\n",
    "if n % 2 != 0:\n",
    "        print(\"Weird\")\n",
    "elif n % 2 == 0 and 2 <= n <= 5:\n",
    "        print(\"Not Weird\")\n",
    "elif n % 2 == 0 and 6 <= n <= 20:\n",
    "        print(\"Weird\")\n",
    "elif n % 2 == 0 and n > 20:\n",
    "        print(\"Not Weird\")\n",
    "\n"
   ]
  },
  {
   "cell_type": "code",
   "execution_count": 3,
   "id": "b5591bd0",
   "metadata": {},
   "outputs": [
    {
     "name": "stdout",
     "output_type": "stream",
     "text": [
      "Saurav Yadav\n",
      "Saurav Yadav\n",
      "Saurav Yadav\n"
     ]
    }
   ],
   "source": [
    "i = 0\n",
    "while (i < 3):\n",
    "    i = i + 1\n",
    "    print(\"Saurav Yadav\")\n"
   ]
  },
  {
   "cell_type": "code",
   "execution_count": 4,
   "id": "d95cecab",
   "metadata": {},
   "outputs": [
    {
     "name": "stdout",
     "output_type": "stream",
     "text": [
      "Saurav Yadav\n",
      "Saurav Yadav\n",
      "Saurav Yadav\n",
      "Saurav Yadav\n",
      "Saurav Yadav\n",
      "completed\n"
     ]
    }
   ],
   "source": [
    "i = 0 \n",
    "while (i < 5):\n",
    "    i=i+1\n",
    "    print(\"Saurav Yadav\")\n",
    "else:\n",
    "    print(\"completed\")"
   ]
  },
  {
   "cell_type": "code",
   "execution_count": 16,
   "id": "bfc23e1b",
   "metadata": {},
   "outputs": [
    {
     "name": "stdout",
     "output_type": "stream",
     "text": [
      "0\n",
      "1\n",
      "2\n",
      "3\n"
     ]
    }
   ],
   "source": [
    "n = 4\n",
    "for i in range (0,n):\n",
    "     print(i)"
   ]
  },
  {
   "cell_type": "code",
   "execution_count": 19,
   "id": "9e1163d0",
   "metadata": {},
   "outputs": [
    {
     "name": "stdout",
     "output_type": "stream",
     "text": [
      "1\n",
      "2\n",
      "3\n",
      "4\n",
      "5\n"
     ]
    }
   ],
   "source": [
    "n = [1,2,3,4,5]\n",
    "for i in n :\n",
    "    print(i)"
   ]
  },
  {
   "cell_type": "code",
   "execution_count": 20,
   "id": "6d5203e5",
   "metadata": {},
   "outputs": [
    {
     "name": "stdout",
     "output_type": "stream",
     "text": [
      "S\n",
      "a\n",
      "u\n",
      "r\n",
      "a\n",
      "v\n"
     ]
    }
   ],
   "source": [
    "s = \"Saurav\"\n",
    "for i in s:\n",
    "    print(i)"
   ]
  },
  {
   "cell_type": "code",
   "execution_count": 21,
   "id": "00d1158c",
   "metadata": {},
   "outputs": [
    {
     "name": "stdout",
     "output_type": "stream",
     "text": [
      "apple\n",
      "mango\n",
      "orange\n"
     ]
    }
   ],
   "source": [
    "l=[\"apple\",\"mango\",\"orange\"]\n",
    "for i in l:\n",
    "    print(i)"
   ]
  },
  {
   "cell_type": "code",
   "execution_count": 22,
   "id": "c4d8a934",
   "metadata": {},
   "outputs": [
    {
     "name": "stdout",
     "output_type": "stream",
     "text": [
      "apple\n",
      "mango\n",
      "orange\n",
      "completed\n"
     ]
    }
   ],
   "source": [
    "l=[\"apple\",\"mango\",\"orange\"]\n",
    "for i in l:\n",
    "    print(i)\n",
    "else:\n",
    "    print(\"completed\")"
   ]
  },
  {
   "cell_type": "code",
   "execution_count": 31,
   "id": "59ee209d",
   "metadata": {},
   "outputs": [
    {
     "name": "stdout",
     "output_type": "stream",
     "text": [
      "Current Letter : s\n",
      "Current Letter : r\n",
      "Current Letter : v\n",
      "Current Letter : y\n",
      "Current Letter : d\n",
      "Current Letter : v\n"
     ]
    }
   ],
   "source": [
    "for i in 'sauravyadav':\n",
    "    if i == 'a' or i == 'u':\n",
    "        continue\n",
    "    print('Current Letter :', i)\n"
   ]
  },
  {
   "cell_type": "code",
   "execution_count": 33,
   "id": "559bb9cd",
   "metadata": {},
   "outputs": [
    {
     "name": "stdout",
     "output_type": "stream",
     "text": [
      "Current Letter : s\n"
     ]
    }
   ],
   "source": [
    "for i in 'sauravyadav':\n",
    "    if i == 'a' or i == 'u':\n",
    "        break\n",
    "    print('Current Letter :', i)\n",
    "else:\n",
    "    print(\"completed\")"
   ]
  },
  {
   "cell_type": "code",
   "execution_count": 34,
   "id": "3c8b08de",
   "metadata": {},
   "outputs": [
    {
     "name": "stdout",
     "output_type": "stream",
     "text": [
      "Current Letter : s\n",
      "Current Letter : a\n",
      "Current Letter : u\n",
      "Current Letter : r\n",
      "Current Letter : a\n",
      "Current Letter : v\n",
      "Current Letter : y\n",
      "Current Letter : a\n",
      "Current Letter : d\n",
      "Current Letter : a\n",
      "Current Letter : v\n"
     ]
    }
   ],
   "source": [
    "for i in 'sauravyadav':\n",
    "    if i == 'a' or i == 'u':\n",
    "        pass\n",
    "    print('Current Letter :', i)\n"
   ]
  },
  {
   "cell_type": "code",
   "execution_count": 39,
   "id": "9f60390d",
   "metadata": {},
   "outputs": [
    {
     "name": "stdout",
     "output_type": "stream",
     "text": [
      "15\n"
     ]
    }
   ],
   "source": [
    "i = 0\n",
    "for n in range(0,6):\n",
    "  i += n\n",
    "print(i)"
   ]
  },
  {
   "cell_type": "code",
   "execution_count": 40,
   "id": "77da112d",
   "metadata": {},
   "outputs": [
    {
     "name": "stdout",
     "output_type": "stream",
     "text": [
      "apple\n",
      "mango\n",
      "orange\n"
     ]
    }
   ],
   "source": [
    "l=[\"apple\",\"mango\",\"orange\"]\n",
    "for i in l:\n",
    "    print(i)"
   ]
  },
  {
   "cell_type": "code",
   "execution_count": 52,
   "id": "238cdb78",
   "metadata": {},
   "outputs": [
    {
     "name": "stdout",
     "output_type": "stream",
     "text": [
      "180\n"
     ]
    }
   ],
   "source": [
    "a = [2,3,6,5]\n",
    "i = 1\n",
    "for a in a:\n",
    "    i *= a\n",
    "print(i)"
   ]
  },
  {
   "cell_type": "code",
   "execution_count": 55,
   "id": "f67b63ba",
   "metadata": {},
   "outputs": [
    {
     "name": "stdout",
     "output_type": "stream",
     "text": [
      "0\n",
      "2\n",
      "4\n",
      "6\n",
      "8\n",
      "10\n"
     ]
    }
   ],
   "source": [
    "for i in range(0,11,2):\n",
    "      print(i)"
   ]
  },
  {
   "cell_type": "code",
   "execution_count": 56,
   "id": "afa13a1b",
   "metadata": {},
   "outputs": [
    {
     "name": "stdout",
     "output_type": "stream",
     "text": [
      "10\n",
      "9\n",
      "8\n",
      "7\n",
      "6\n",
      "5\n",
      "4\n",
      "3\n",
      "2\n",
      "1\n"
     ]
    }
   ],
   "source": [
    "for i in range(10,0,-1):\n",
    "      print(i)"
   ]
  },
  {
   "cell_type": "code",
   "execution_count": 57,
   "id": "2059ee6b",
   "metadata": {},
   "outputs": [
    {
     "name": "stdout",
     "output_type": "stream",
     "text": [
      "s\n",
      "a\n",
      "u\n",
      "r\n",
      "a\n",
      "v\n"
     ]
    }
   ],
   "source": [
    "a = \"saurav\"\n",
    "for i in a:\n",
    "    print(i)"
   ]
  },
  {
   "cell_type": "code",
   "execution_count": 1,
   "id": "55ef9873",
   "metadata": {},
   "outputs": [
    {
     "name": "stdout",
     "output_type": "stream",
     "text": [
      "7776\n"
     ]
    }
   ],
   "source": [
    "list = [2,3,6,8,3,9]\n",
    "i = 1\n",
    "for n in list :\n",
    "    i *= n\n",
    "print(i)"
   ]
  },
  {
   "cell_type": "code",
   "execution_count": 3,
   "id": "c907f5b5",
   "metadata": {},
   "outputs": [
    {
     "name": "stdout",
     "output_type": "stream",
     "text": [
      "96\n"
     ]
    }
   ],
   "source": [
    "list = [65, 29, 2, 5, 69, 75, 35, 15, 96]\n",
    "l = list[0]\n",
    "for i in list :\n",
    "    if i > l :\n",
    "        l = i\n",
    "print(l)"
   ]
  },
  {
   "cell_type": "code",
   "execution_count": 4,
   "id": "3bba845b",
   "metadata": {},
   "outputs": [
    {
     "name": "stdout",
     "output_type": "stream",
     "text": [
      "48.875\n"
     ]
    }
   ],
   "source": [
    "list = [65, 29, 2, 5, 69, 75, 35, 15, 96]\n",
    "i = 0\n",
    "for num in list :\n",
    "    i += num\n",
    "avg = i / (len(list) - 1)\n",
    "print(avg)"
   ]
  },
  {
   "cell_type": "code",
   "execution_count": 5,
   "id": "cec54d86",
   "metadata": {},
   "outputs": [
    {
     "name": "stdout",
     "output_type": "stream",
     "text": [
      "S\n"
     ]
    }
   ],
   "source": [
    "name = \"Saurav yadav\"\n",
    "for i in name :\n",
    "    if i.isupper():\n",
    "        print(i)\n",
    "    "
   ]
  },
  {
   "cell_type": "code",
   "execution_count": 6,
   "id": "b145d20d",
   "metadata": {},
   "outputs": [
    {
     "name": "stdout",
     "output_type": "stream",
     "text": [
      "5\n"
     ]
    }
   ],
   "source": [
    "name = \"Saurav yadav\"\n",
    "vowel = \"aeoiuAEOIU\"\n",
    "count = 0\n",
    "for i in name :\n",
    "     if i in vowel :\n",
    "        count += 1\n",
    "print(count)"
   ]
  },
  {
   "cell_type": "code",
   "execution_count": 7,
   "id": "c647d3db",
   "metadata": {},
   "outputs": [
    {
     "name": "stdout",
     "output_type": "stream",
     "text": [
      "*\n",
      "**\n",
      "***\n",
      "****\n",
      "*****\n"
     ]
    }
   ],
   "source": [
    "for i in range(5):\n",
    "    for j in range(i + 1):\n",
    "        print(\"*\", end=\"\")\n",
    "    print()"
   ]
  },
  {
   "cell_type": "code",
   "execution_count": null,
   "id": "a5bd880b",
   "metadata": {},
   "outputs": [],
   "source": []
  }
 ],
 "metadata": {
  "kernelspec": {
   "display_name": "Python 3 (ipykernel)",
   "language": "python",
   "name": "python3"
  },
  "language_info": {
   "codemirror_mode": {
    "name": "ipython",
    "version": 3
   },
   "file_extension": ".py",
   "mimetype": "text/x-python",
   "name": "python",
   "nbconvert_exporter": "python",
   "pygments_lexer": "ipython3",
   "version": "3.11.5"
  }
 },
 "nbformat": 4,
 "nbformat_minor": 5
}
