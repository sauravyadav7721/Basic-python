{
 "cells": [
  {
   "cell_type": "markdown",
   "id": "a45f7756",
   "metadata": {},
   "source": [
    "# List comprehension"
   ]
  },
  {
   "cell_type": "markdown",
   "id": "4c59ada5",
   "metadata": {},
   "source": [
    "list_comp=[X for x in iterable <test_condition>]"
   ]
  },
  {
   "cell_type": "code",
   "execution_count": 2,
   "id": "b8f1f8d6",
   "metadata": {},
   "outputs": [
    {
     "name": "stdout",
     "output_type": "stream",
     "text": [
      "[2, 3, 4, 5, 6, 7, 8, 9, 10, 11]\n"
     ]
    }
   ],
   "source": [
    "num = [1, 2, 3, 4, 5, 6, 7, 8, 9, 10]\n",
    "my_list = []\n",
    "i = 0\n",
    "for i in num:\n",
    "    i += 1\n",
    "    my_list.append(i)\n",
    "print(my_list)"
   ]
  },
  {
   "cell_type": "code",
   "execution_count": 3,
   "id": "f73cecac",
   "metadata": {},
   "outputs": [
    {
     "data": {
      "text/plain": [
       "[1, 2, 3, 4, 5, 6, 7, 8, 9, 10]"
      ]
     },
     "execution_count": 3,
     "metadata": {},
     "output_type": "execute_result"
    }
   ],
   "source": [
    "[X for X in num ]"
   ]
  },
  {
   "cell_type": "code",
   "execution_count": 6,
   "id": "352fb6ab",
   "metadata": {},
   "outputs": [
    {
     "data": {
      "text/plain": [
       "[1, 4, 9, 16, 25, 36, 49, 64, 81, 100]"
      ]
     },
     "execution_count": 6,
     "metadata": {},
     "output_type": "execute_result"
    }
   ],
   "source": [
    "[x**2 for x in num]"
   ]
  },
  {
   "cell_type": "code",
   "execution_count": 8,
   "id": "aa195898",
   "metadata": {},
   "outputs": [
    {
     "name": "stdout",
     "output_type": "stream",
     "text": [
      "['s', 'a', 'u', 'r', 'a', 'v', 'y', 'a', 'd', 'a', 'v']\n"
     ]
    }
   ],
   "source": [
    "name=(\"sauravyadav\")\n",
    "my_list=[]\n",
    "for i in name:\n",
    "    my_list.append(i)\n",
    "print(my_list)"
   ]
  },
  {
   "cell_type": "code",
   "execution_count": 9,
   "id": "dbffe140",
   "metadata": {},
   "outputs": [
    {
     "data": {
      "text/plain": [
       "['s', 'a', 'u', 'r', 'a', 'v', 'y', 'a', 'd', 'a', 'v']"
      ]
     },
     "execution_count": 9,
     "metadata": {},
     "output_type": "execute_result"
    }
   ],
   "source": [
    "[i for i in name]"
   ]
  },
  {
   "cell_type": "markdown",
   "id": "767239d5",
   "metadata": {},
   "source": [
    "# wap to produce squre of nos from 1 to 10, store them in a list and print the list."
   ]
  },
  {
   "cell_type": "code",
   "execution_count": 10,
   "id": "2b803f5a",
   "metadata": {},
   "outputs": [
    {
     "name": "stdout",
     "output_type": "stream",
     "text": [
      "[1, 4, 9, 16, 25, 36, 49, 64, 81, 100]\n"
     ]
    }
   ],
   "source": [
    "num = [1, 2, 3, 4, 5, 6, 7, 8, 9, 10]\n",
    "my_list=[]\n",
    "#usind for loop\n",
    "for i in num:\n",
    "    my_list.append(i**2)\n",
    "print(my_list)"
   ]
  },
  {
   "cell_type": "code",
   "execution_count": 11,
   "id": "00663194",
   "metadata": {},
   "outputs": [
    {
     "data": {
      "text/plain": [
       "[1, 4, 9, 16, 25, 36, 49, 64, 81, 100]"
      ]
     },
     "execution_count": 11,
     "metadata": {},
     "output_type": "execute_result"
    }
   ],
   "source": [
    "[x**2 for x in num ]"
   ]
  },
  {
   "cell_type": "markdown",
   "id": "1e208398",
   "metadata": {},
   "source": [
    "# wap to accpet a string from user and covert each word of the given string into upper case store it ina list and print that list."
   ]
  },
  {
   "cell_type": "code",
   "execution_count": 14,
   "id": "1c071776",
   "metadata": {},
   "outputs": [
    {
     "name": "stdout",
     "output_type": "stream",
     "text": [
      "enter your namesaurav yadav\n",
      "['S', 'A', 'U', 'R', 'A', 'V', ' ', 'Y', 'A', 'D', 'A', 'V']\n"
     ]
    }
   ],
   "source": [
    "name=str(input(\"enter your name\"))\n",
    "my_list=[]\n",
    "for i in name:\n",
    "    my_list.append(i.upper())\n",
    "print(my_list)"
   ]
  },
  {
   "cell_type": "code",
   "execution_count": 15,
   "id": "f5cad50a",
   "metadata": {},
   "outputs": [
    {
     "data": {
      "text/plain": [
       "['S', 'A', 'U', 'R', 'A', 'V', ' ', 'Y', 'A', 'D', 'A', 'V']"
      ]
     },
     "execution_count": 15,
     "metadata": {},
     "output_type": "execute_result"
    }
   ],
   "source": [
    "[x.upper() for x in name]"
   ]
  },
  {
   "cell_type": "markdown",
   "id": "0bb1c0a8",
   "metadata": {},
   "source": [
    "# wap to accept 5 int from user and store then in a list, now display the sum of element and the element of list"
   ]
  },
  {
   "cell_type": "code",
   "execution_count": 24,
   "id": "46e9789a",
   "metadata": {},
   "outputs": [
    {
     "name": "stdout",
     "output_type": "stream",
     "text": [
      "enter 5 no.5 5 5 5 5\n",
      "[5, 5, 5, 5, 5]\n",
      "25\n"
     ]
    }
   ],
   "source": [
    "num=(input(\"enter 5 no.\")).split()\n",
    "my_list=[]\n",
    "for i in num:\n",
    "    my_list.append(int(i))\n",
    "print(my_list)\n",
    "print(sum(my_list))"
   ]
  },
  {
   "cell_type": "markdown",
   "id": "7656c711",
   "metadata": {},
   "source": [
    "# wap to produce squre of only odd nos between 1 to 50, store them in a list and print the list."
   ]
  },
  {
   "cell_type": "code",
   "execution_count": 31,
   "id": "c9c43074",
   "metadata": {},
   "outputs": [
    {
     "name": "stdout",
     "output_type": "stream",
     "text": [
      "[1, 9, 25, 49, 81, 121, 169, 225, 289, 361, 441, 529, 625, 729, 841, 961, 1089, 1225, 1369, 1521, 1681, 1849, 2025, 2209, 2401]\n"
     ]
    }
   ],
   "source": [
    "my_list=[]\n",
    "for x in range(1,51):\n",
    "    if x%2 != 0:\n",
    "        my_list.append(x**2)\n",
    "print(my_list)"
   ]
  },
  {
   "cell_type": "code",
   "execution_count": 38,
   "id": "c37a08a9",
   "metadata": {},
   "outputs": [
    {
     "name": "stdout",
     "output_type": "stream",
     "text": [
      "[1, 9, 25, 49, 81, 121, 169, 225, 289, 361, 441, 529, 625, 729, 841, 961, 1089, 1225, 1369, 1521, 1681, 1849, 2025, 2209, 2401]\n"
     ]
    }
   ],
   "source": [
    "list2=[i**2 for i in range(1,51) if i%2 != 0]\n",
    "print(list2)"
   ]
  },
  {
   "cell_type": "markdown",
   "id": "56c13214",
   "metadata": {},
   "source": [
    "# create a function called removevowels() which accept a string as argument and return a list with all the vowels removed from the string"
   ]
  },
  {
   "cell_type": "code",
   "execution_count": null,
   "id": "6176ac28",
   "metadata": {},
   "outputs": [],
   "source": []
  },
  {
   "cell_type": "code",
   "execution_count": 1,
   "id": "0ff80e4c",
   "metadata": {},
   "outputs": [
    {
     "name": "stdout",
     "output_type": "stream",
     "text": [
      "[2, 4, 6, 8, 10]\n"
     ]
    }
   ],
   "source": [
    "numbers = [1, 2, 3, 4, 5, 6, 7, 8, 9, 10]\n",
    "even_number=[n for n in numbers if n%2==0]\n",
    "print(even_number)"
   ]
  },
  {
   "cell_type": "code",
   "execution_count": 2,
   "id": "fb0967e7",
   "metadata": {},
   "outputs": [
    {
     "name": "stdout",
     "output_type": "stream",
     "text": [
      "[1, 2, 3, 4, 5, 6, 7, 8, 9]\n"
     ]
    }
   ],
   "source": [
    "##Flattening a list of lists: 2 for loops\n",
    "lists = [[1, 2, 3], [4, 5, 6], [7, 8, 9]]\n",
    "flattend_list=[item for sublist in lists for item in sublist ]\n",
    "print(flattend_list)"
   ]
  },
  {
   "cell_type": "code",
   "execution_count": 3,
   "id": "7f8ae019",
   "metadata": {},
   "outputs": [
    {
     "name": "stdout",
     "output_type": "stream",
     "text": [
      "['a', 'b', 'c', 'd']\n"
     ]
    }
   ],
   "source": [
    "# Generating a list of the first letters of words in a list:\n",
    "words = ['apple', 'banana', 'cherry', 'date']\n",
    "first_letters=[word[0] for word in words]\n",
    "print(first_letters)"
   ]
  },
  {
   "cell_type": "code",
   "execution_count": null,
   "id": "880a4011",
   "metadata": {},
   "outputs": [],
   "source": []
  }
 ],
 "metadata": {
  "kernelspec": {
   "display_name": "Python 3 (ipykernel)",
   "language": "python",
   "name": "python3"
  },
  "language_info": {
   "codemirror_mode": {
    "name": "ipython",
    "version": 3
   },
   "file_extension": ".py",
   "mimetype": "text/x-python",
   "name": "python",
   "nbconvert_exporter": "python",
   "pygments_lexer": "ipython3",
   "version": "3.11.5"
  }
 },
 "nbformat": 4,
 "nbformat_minor": 5
}
