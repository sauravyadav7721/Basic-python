{
 "cells": [
  {
   "cell_type": "raw",
   "id": "59895969",
   "metadata": {},
   "source": [
    " Topics:-\n",
    "1. how to define class and object in python\n",
    "2. variables in class\n",
    "   instance variable or object variable\n",
    "   local veriable()\n",
    "   class variable\n",
    "3. methods in class\n",
    "   construtor(this is speical methods)\n",
    "   instnace method\n",
    "   class methods\n",
    "   static methods\n",
    "4. encapsulation\n",
    "5. inheritance\n",
    "6. abstraciton\n",
    "7. polymorphism\n"
   ]
  },
  {
   "cell_type": "code",
   "execution_count": 1,
   "id": "41173413",
   "metadata": {},
   "outputs": [],
   "source": [
    "class emp:  # define class\n",
    "    pass\n"
   ]
  },
  {
   "cell_type": "code",
   "execution_count": 2,
   "id": "4656e855",
   "metadata": {},
   "outputs": [],
   "source": [
    "class emp:\n",
    "    def __init__(self):\n",
    "        print(\"object created!!\")     #object in python\n",
    "    def test(sunny):\n",
    "        print(\"python is fun\")\n",
    "    def demo(self):\n",
    "        print(\"python rocks\")"
   ]
  },
  {
   "cell_type": "code",
   "execution_count": 3,
   "id": "99b7e37e",
   "metadata": {},
   "outputs": [
    {
     "name": "stdout",
     "output_type": "stream",
     "text": [
      "object created!!\n"
     ]
    }
   ],
   "source": [
    "saurav=emp()"
   ]
  },
  {
   "cell_type": "code",
   "execution_count": 10,
   "id": "54b6c78b",
   "metadata": {},
   "outputs": [
    {
     "name": "stdout",
     "output_type": "stream",
     "text": [
      "object created!!\n"
     ]
    }
   ],
   "source": [
    "saurav.__init__()"
   ]
  },
  {
   "cell_type": "code",
   "execution_count": 13,
   "id": "1df63015",
   "metadata": {},
   "outputs": [
    {
     "name": "stdout",
     "output_type": "stream",
     "text": [
      "python is fun\n"
     ]
    }
   ],
   "source": [
    "saurav.test()"
   ]
  },
  {
   "cell_type": "code",
   "execution_count": 14,
   "id": "e4ec19ed",
   "metadata": {},
   "outputs": [
    {
     "name": "stdout",
     "output_type": "stream",
     "text": [
      "python rocks\n"
     ]
    }
   ],
   "source": [
    "saurav.demo()"
   ]
  },
  {
   "cell_type": "code",
   "execution_count": 15,
   "id": "9b8cdb71",
   "metadata": {},
   "outputs": [
    {
     "name": "stdout",
     "output_type": "stream",
     "text": [
      "object created!!\n"
     ]
    }
   ],
   "source": [
    "#object creation\n",
    "sunny=emp()"
   ]
  },
  {
   "cell_type": "code",
   "execution_count": 16,
   "id": "5d0532fb",
   "metadata": {},
   "outputs": [
    {
     "name": "stdout",
     "output_type": "stream",
     "text": [
      "python is fun\n"
     ]
    }
   ],
   "source": [
    "sunny.test()"
   ]
  },
  {
   "cell_type": "markdown",
   "id": "ac406b1c",
   "metadata": {},
   "source": [
    "##### Construtor are those method which will be call immedatily(automatically) whenever we create object.\n",
    "init is a spacial method in python or constructor which will be called automatically whenever we create a object."
   ]
  },
  {
   "cell_type": "code",
   "execution_count": 17,
   "id": "4f53e373",
   "metadata": {},
   "outputs": [],
   "source": [
    "class emp():\n",
    "    def __init__(self):\n",
    "        print(\"object created\")\n",
    "    def test():\n",
    "        print(\"tested\")\n",
    "    def demo(self):\n",
    "        print(\"checking\")"
   ]
  },
  {
   "cell_type": "code",
   "execution_count": 18,
   "id": "e9c33b0f",
   "metadata": {},
   "outputs": [
    {
     "name": "stdout",
     "output_type": "stream",
     "text": [
      "object created\n"
     ]
    }
   ],
   "source": [
    "saurav=emp()"
   ]
  },
  {
   "cell_type": "code",
   "execution_count": 20,
   "id": "f70e75a2",
   "metadata": {},
   "outputs": [
    {
     "ename": "TypeError",
     "evalue": "emp.test() takes 0 positional arguments but 1 was given",
     "output_type": "error",
     "traceback": [
      "\u001b[1;31m---------------------------------------------------------------------------\u001b[0m",
      "\u001b[1;31mTypeError\u001b[0m                                 Traceback (most recent call last)",
      "Cell \u001b[1;32mIn[20], line 1\u001b[0m\n\u001b[1;32m----> 1\u001b[0m saurav\u001b[38;5;241m.\u001b[39mtest()\n",
      "\u001b[1;31mTypeError\u001b[0m: emp.test() takes 0 positional arguments but 1 was given"
     ]
    }
   ],
   "source": [
    "saurav.test() #because in test we does not define any memory allocation "
   ]
  },
  {
   "cell_type": "code",
   "execution_count": 22,
   "id": "dc33bcc0",
   "metadata": {},
   "outputs": [
    {
     "name": "stdout",
     "output_type": "stream",
     "text": [
      "checking\n"
     ]
    }
   ],
   "source": [
    "saurav.demo()"
   ]
  },
  {
   "cell_type": "code",
   "execution_count": 23,
   "id": "f2486186",
   "metadata": {},
   "outputs": [],
   "source": [
    "class emp():\n",
    "    def __init__(self):\n",
    "        print(\"object created\")\n",
    "    def test(self):\n",
    "        print(\"tested\")\n",
    "    def demo(self):\n",
    "        print(\"checking\")"
   ]
  },
  {
   "cell_type": "code",
   "execution_count": 24,
   "id": "f4b85813",
   "metadata": {},
   "outputs": [
    {
     "name": "stdout",
     "output_type": "stream",
     "text": [
      "object created\n"
     ]
    }
   ],
   "source": [
    "lokesh=emp()"
   ]
  },
  {
   "cell_type": "code",
   "execution_count": 25,
   "id": "e80c9e7f",
   "metadata": {},
   "outputs": [
    {
     "name": "stdout",
     "output_type": "stream",
     "text": [
      "tested\n"
     ]
    }
   ],
   "source": [
    "lokesh.test()"
   ]
  },
  {
   "cell_type": "code",
   "execution_count": 26,
   "id": "d01d3459",
   "metadata": {},
   "outputs": [
    {
     "name": "stdout",
     "output_type": "stream",
     "text": [
      "checking\n"
     ]
    }
   ],
   "source": [
    "lokesh.demo()"
   ]
  },
  {
   "cell_type": "code",
   "execution_count": 27,
   "id": "2a9b707a",
   "metadata": {},
   "outputs": [],
   "source": [
    "class Person:\n",
    "  def __init__(self, name, age):\n",
    "    self.name = name\n",
    "    self.age = age"
   ]
  },
  {
   "cell_type": "code",
   "execution_count": 29,
   "id": "d3c1956f",
   "metadata": {},
   "outputs": [],
   "source": [
    "p1 = Person(\"John\", 36)"
   ]
  },
  {
   "cell_type": "code",
   "execution_count": 38,
   "id": "5a17c2a7",
   "metadata": {},
   "outputs": [
    {
     "name": "stdout",
     "output_type": "stream",
     "text": [
      "<__main__.Person object at 0x000002310D3E9E10>\n"
     ]
    }
   ],
   "source": [
    "print(p1)"
   ]
  },
  {
   "cell_type": "code",
   "execution_count": 39,
   "id": "91c1c5ff",
   "metadata": {},
   "outputs": [],
   "source": [
    "class emp:\n",
    "    def __init__(self,a,b,c):\n",
    "        self.age=a\n",
    "        self.name=b\n",
    "        self.salary=c\n",
    "    def show(self):\n",
    "        print(self.age,self.name,self.salary)"
   ]
  },
  {
   "cell_type": "code",
   "execution_count": 42,
   "id": "4c15e0c7",
   "metadata": {},
   "outputs": [],
   "source": [
    "saurav=emp(18,\"Saurav\",35000)"
   ]
  },
  {
   "cell_type": "code",
   "execution_count": 43,
   "id": "2bfc1787",
   "metadata": {},
   "outputs": [
    {
     "name": "stdout",
     "output_type": "stream",
     "text": [
      "18 Saurav 35000\n"
     ]
    }
   ],
   "source": [
    "saurav.show()"
   ]
  },
  {
   "cell_type": "code",
   "execution_count": 44,
   "id": "a63f7d52",
   "metadata": {},
   "outputs": [],
   "source": [
    "rajat=emp(26,\"rajat\",30000)"
   ]
  },
  {
   "cell_type": "code",
   "execution_count": 49,
   "id": "55999bf4",
   "metadata": {},
   "outputs": [
    {
     "name": "stdout",
     "output_type": "stream",
     "text": [
      "26 rajat 30000\n"
     ]
    }
   ],
   "source": [
    "rajat.show()"
   ]
  },
  {
   "cell_type": "code",
   "execution_count": 52,
   "id": "e20a567e",
   "metadata": {},
   "outputs": [
    {
     "data": {
      "text/plain": [
       "'rajat'"
      ]
     },
     "execution_count": 52,
     "metadata": {},
     "output_type": "execute_result"
    }
   ],
   "source": [
    "rajat.name"
   ]
  },
  {
   "cell_type": "code",
   "execution_count": 53,
   "id": "4cd07114",
   "metadata": {},
   "outputs": [
    {
     "data": {
      "text/plain": [
       "26"
      ]
     },
     "execution_count": 53,
     "metadata": {},
     "output_type": "execute_result"
    }
   ],
   "source": [
    "rajat.age"
   ]
  },
  {
   "cell_type": "code",
   "execution_count": 54,
   "id": "a68a925d",
   "metadata": {},
   "outputs": [
    {
     "data": {
      "text/plain": [
       "30000"
      ]
     },
     "execution_count": 54,
     "metadata": {},
     "output_type": "execute_result"
    }
   ],
   "source": [
    "rajat.salary"
   ]
  },
  {
   "cell_type": "code",
   "execution_count": 55,
   "id": "f17d7d17",
   "metadata": {},
   "outputs": [],
   "source": [
    "class car:\n",
    "    def __init__(self,a,b,c):\n",
    "        self.top_speed=a\n",
    "        self.fuel_capacity=b\n",
    "        self.disk_break=c\n",
    "    def show(self):\n",
    "        print(f\"top speed {self.top_speed} fuel_capacity {self.fuel_capacity} disk_break {self.disk_break}\")\n",
    "    def drive(self,x):\n",
    "        print(f\"it can drive {x}\")"
   ]
  },
  {
   "cell_type": "code",
   "execution_count": 56,
   "id": "c594e643",
   "metadata": {},
   "outputs": [],
   "source": [
    "audi8=car(350,15,\"yes\")"
   ]
  },
  {
   "cell_type": "code",
   "execution_count": 57,
   "id": "0f367e20",
   "metadata": {},
   "outputs": [
    {
     "name": "stdout",
     "output_type": "stream",
     "text": [
      "top speed 350 fuel_capacity 15 disk_break yes\n"
     ]
    }
   ],
   "source": [
    "audi8.show()"
   ]
  },
  {
   "cell_type": "code",
   "execution_count": 60,
   "id": "fe15dc77",
   "metadata": {},
   "outputs": [
    {
     "name": "stdout",
     "output_type": "stream",
     "text": [
      "it can drive fast\n"
     ]
    }
   ],
   "source": [
    "audi8.drive(\"fast\")"
   ]
  },
  {
   "cell_type": "code",
   "execution_count": 61,
   "id": "01b33cdc",
   "metadata": {},
   "outputs": [],
   "source": [
    "maruti800=car(120,8,\"No\")"
   ]
  },
  {
   "cell_type": "code",
   "execution_count": 62,
   "id": "c1dae70b",
   "metadata": {},
   "outputs": [
    {
     "name": "stdout",
     "output_type": "stream",
     "text": [
      "top speed 120 fuel_capacity 8 disk_break No\n"
     ]
    }
   ],
   "source": [
    "maruti800.show()"
   ]
  },
  {
   "cell_type": "code",
   "execution_count": 63,
   "id": "5e9cec05",
   "metadata": {},
   "outputs": [
    {
     "name": "stdout",
     "output_type": "stream",
     "text": [
      "it can drive slow\n"
     ]
    }
   ],
   "source": [
    "maruti800.drive(\"slow\")"
   ]
  },
  {
   "cell_type": "code",
   "execution_count": null,
   "id": "7578b837",
   "metadata": {},
   "outputs": [],
   "source": []
  }
 ],
 "metadata": {
  "kernelspec": {
   "display_name": "Python 3 (ipykernel)",
   "language": "python",
   "name": "python3"
  },
  "language_info": {
   "codemirror_mode": {
    "name": "ipython",
    "version": 3
   },
   "file_extension": ".py",
   "mimetype": "text/x-python",
   "name": "python",
   "nbconvert_exporter": "python",
   "pygments_lexer": "ipython3",
   "version": "3.11.5"
  }
 },
 "nbformat": 4,
 "nbformat_minor": 5
}
